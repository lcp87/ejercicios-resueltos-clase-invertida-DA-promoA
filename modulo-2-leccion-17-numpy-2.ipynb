{
 "cells": [
  {
   "cell_type": "markdown",
   "id": "57939869",
   "metadata": {
    "toc": true
   },
   "source": [
    "<h1>Table of Contents<span class=\"tocSkip\"></span></h1>\n",
    "<div class=\"toc\"><ul class=\"toc-item\"><li><span><a href=\"#Indexación\" data-toc-modified-id=\"Indexación-1\"><span class=\"toc-item-num\">1&nbsp;&nbsp;</span>Indexación</a></span><ul class=\"toc-item\"><li><span><a href=\"#Unidimensionales\" data-toc-modified-id=\"Unidimensionales-1.1\"><span class=\"toc-item-num\">1.1&nbsp;&nbsp;</span>Unidimensionales</a></span></li><li><span><a href=\"#Bidimensional\" data-toc-modified-id=\"Bidimensional-1.2\"><span class=\"toc-item-num\">1.2&nbsp;&nbsp;</span>Bidimensional</a></span></li><li><span><a href=\"#Multidimensional\" data-toc-modified-id=\"Multidimensional-1.3\"><span class=\"toc-item-num\">1.3&nbsp;&nbsp;</span>Multidimensional</a></span></li></ul></li><li><span><a href=\"#Subsets\" data-toc-modified-id=\"Subsets-2\"><span class=\"toc-item-num\">2&nbsp;&nbsp;</span>Subsets</a></span></li><li><span><a href=\"#Métodos\" data-toc-modified-id=\"Métodos-3\"><span class=\"toc-item-num\">3&nbsp;&nbsp;</span>Métodos</a></span><ul class=\"toc-item\"><li><span><a href=\"#copy():\" data-toc-modified-id=\"copy():-3.1\"><span class=\"toc-item-num\">3.1&nbsp;&nbsp;</span><code>copy()</code>:</a></span></li><li><span><a href=\"#transpose():\" data-toc-modified-id=\"transpose():-3.2\"><span class=\"toc-item-num\">3.2&nbsp;&nbsp;</span><code>transpose()</code>:</a></span><ul class=\"toc-item\"><li><span><a href=\"#Unidimensional\" data-toc-modified-id=\"Unidimensional-3.2.1\"><span class=\"toc-item-num\">3.2.1&nbsp;&nbsp;</span>Unidimensional</a></span></li><li><span><a href=\"#Bidimensional\" data-toc-modified-id=\"Bidimensional-3.2.2\"><span class=\"toc-item-num\">3.2.2&nbsp;&nbsp;</span>Bidimensional</a></span></li><li><span><a href=\"#Multidimensional\" data-toc-modified-id=\"Multidimensional-3.2.3\"><span class=\"toc-item-num\">3.2.3&nbsp;&nbsp;</span>Multidimensional</a></span></li></ul></li><li><span><a href=\"#reshape():\" data-toc-modified-id=\"reshape():-3.3\"><span class=\"toc-item-num\">3.3&nbsp;&nbsp;</span><code>reshape()</code>:</a></span></li><li><span><a href=\"#swapaxes():\" data-toc-modified-id=\"swapaxes():-3.4\"><span class=\"toc-item-num\">3.4&nbsp;&nbsp;</span><code>swapaxes()</code>:</a></span></li></ul></li></ul></div>"
   ]
  },
  {
   "cell_type": "code",
   "execution_count": 2,
   "id": "7c9edef2",
   "metadata": {},
   "outputs": [],
   "source": [
    "# antes de nada recordamos que para trabajar con NumPy necesitamos \n",
    "## importar la libreria NumPy\n",
    "\n",
    "import numpy as np"
   ]
  },
  {
   "cell_type": "markdown",
   "id": "47d15217",
   "metadata": {},
   "source": [
    "# Indexación"
   ]
  },
  {
   "attachments": {
    "image.png": {
     "image/png": "[encoded data removed]"
    }
   },
   "cell_type": "markdown",
   "id": "877434b9",
   "metadata": {},
   "source": [
    "Se utiliza para acceder a elementos especificando sus índices dentro del *array*, de una forma muy similar a como lo hacíamos con listas.\n",
    "\n",
    "Si recordamos de las listas: \n",
    "\n",
    "- Empezabamos a contar las posiciones de nuestros elementos desde 0. **En NumPy será igual**.\n",
    "\n",
    "![image.png](https://github.com/Adalab/data_imagenes/blob/main/Modulo-2/NumPy/index_Numpy.png?raw=true)\n",
    "\n",
    "\n",
    "- Si queremos acceder a un subconjunto de elementos de nuestra lista usamos la siguiente sintaxis:\n",
    "\n",
    "```python\n",
    "lista[from:to:step]\n",
    "\n",
    "# ejemplo:\n",
    "lst = [12,20,3,45,6,23,81,93]\n",
    "\n",
    "# seleccionamos desde el elemento 3 (incluido) hasta el final\n",
    "lst[3:] \n",
    "[45, 6, 23, 81, 93]\n",
    "\n",
    "\n",
    "# seleccionamos desde el elemento 3 hasta el 5. ⚠️ Recordamos que en el límite superior el valor que especificamos NO SE INCLUYE\n",
    "lst[3:6]\n",
    "[45, 6, 23]\n",
    "\n",
    "\n",
    "# seleccionamos los 4 primeros elementos\n",
    "lst[:4]\n",
    "[12, 20, 3, 45]\n",
    "\n",
    "\n",
    "# seleccionamos todos los elementos que están en posición impar\n",
    "lst[::2]\n",
    "[12, 3, 6, 81]\n",
    "```"
   ]
  },
  {
   "cell_type": "markdown",
   "id": "1233d62e",
   "metadata": {},
   "source": [
    "La indexación de *arrays* funciona de manera muy diferente para *arrays* unidimensionales o bidimensional. Lo iremos viendo a lo largo de este jupyter. "
   ]
  },
  {
   "cell_type": "markdown",
   "id": "f8ed0c20",
   "metadata": {},
   "source": [
    "## Unidimensionales "
   ]
  },
  {
   "cell_type": "markdown",
   "id": "ed1843b3",
   "metadata": {},
   "source": [
    "En este caso será exactamente igual que en las listas! \n",
    "\n",
    "```python\n",
    "array[i]\n",
    "\n",
    "# donde i es el índice del elemento al que queremos acceder\n",
    "```"
   ]
  },
  {
   "cell_type": "code",
   "execution_count": 3,
   "id": "18947a42",
   "metadata": {},
   "outputs": [
    {
     "data": {
      "text/plain": [
       "array([0.17072205, 0.49103344, 0.34900291, 0.98250161, 0.49441162,\n",
       "       0.53605574, 0.19581514, 0.09632413, 0.14004771, 0.72300653,\n",
       "       0.4284211 , 0.08505987, 0.07147252, 0.54298955, 0.96140337])"
      ]
     },
     "execution_count": 3,
     "metadata": {},
     "output_type": "execute_result"
    }
   ],
   "source": [
    "# Imaginemos que tenemos el siguiente array unidimensional con 5 elementos\n",
    "## en nuestro array\n",
    "\n",
    "unidimensional = np.random.random_sample(15)\n",
    "unidimensional"
   ]
  },
  {
   "cell_type": "code",
   "execution_count": 4,
   "id": "0e27be3a",
   "metadata": {},
   "outputs": [
    {
     "data": {
      "text/plain": [
       "0.1707220511531704"
      ]
     },
     "execution_count": 4,
     "metadata": {},
     "output_type": "execute_result"
    }
   ],
   "source": [
    "# si queremos acceder al primer elemento de nuestro array\n",
    "unidimensional[0]"
   ]
  },
  {
   "cell_type": "code",
   "execution_count": 5,
   "id": "0c2b28db",
   "metadata": {},
   "outputs": [
    {
     "data": {
      "text/plain": [
       "array([0.07147252, 0.54298955, 0.96140337])"
      ]
     },
     "execution_count": 5,
     "metadata": {},
     "output_type": "execute_result"
    }
   ],
   "source": [
    "# si queremos acceder a los tres últimos elementos:\n",
    "unidimensional[-3:]"
   ]
  },
  {
   "cell_type": "code",
   "execution_count": 6,
   "id": "d7497239",
   "metadata": {},
   "outputs": [
    {
     "data": {
      "text/plain": [
       "array([0.98250161, 0.49441162])"
      ]
     },
     "execution_count": 6,
     "metadata": {},
     "output_type": "execute_result"
    }
   ],
   "source": [
    "# si queremos seleccionar el tercer y cuarto elemento\n",
    "unidimensional[3:5]"
   ]
  },
  {
   "cell_type": "code",
   "execution_count": 7,
   "id": "d4dae424",
   "metadata": {},
   "outputs": [
    {
     "data": {
      "text/plain": [
       "array([0.17072205, 0.34900291, 0.49441162, 0.19581514, 0.14004771,\n",
       "       0.4284211 ])"
      ]
     },
     "execution_count": 7,
     "metadata": {},
     "output_type": "execute_result"
    }
   ],
   "source": [
    "# los elementos desde el inicio hasta el 10 en saltos de dos en dos\n",
    "\n",
    "unidimensional[:11:2]"
   ]
  },
  {
   "cell_type": "markdown",
   "id": "83276cf2",
   "metadata": {},
   "source": [
    "**EJERCICIO 1** Crea un array unidimensional y extrae: \n",
    "\n",
    "- El primer elemento.\n",
    "\n",
    "\n",
    "- Lo elementos que están en posición impar.\n",
    "\n",
    "\n",
    "- Los cuatro primeros elementos.\n",
    "\n",
    "\n",
    "- Los últimos tres elementos.\n",
    "\n",
    "\n",
    "- Los elemtos entre el 4 y el 8. "
   ]
  },
  {
   "cell_type": "code",
   "execution_count": 19,
   "id": "92b09a17",
   "metadata": {},
   "outputs": [
    {
     "name": "stdout",
     "output_type": "stream",
     "text": [
      "[0.97343033 0.83450744 0.34823704 0.2458031  0.8232017  0.04802865\n",
      " 0.3328774  0.13822438 0.4414271  0.97984006 0.38004622 0.75809677\n",
      " 0.37085529 0.57545112 0.01587782]\n"
     ]
    },
    {
     "data": {
      "text/plain": [
       "array([0.8232017 , 0.04802865, 0.3328774 , 0.13822438, 0.4414271 ])"
      ]
     },
     "execution_count": 19,
     "metadata": {},
     "output_type": "execute_result"
    }
   ],
   "source": [
    "array_uni = np.random.rand(15)\n",
    "print(array_uni)\n",
    "array_uni[0]\n",
    "\n",
    "array_uni[1:15:2]           #impares\n",
    "\n",
    "array_uni[-3:]              #últimos 3\n",
    "\n",
    "array_uni[4:9]              #4 y 8"
   ]
  },
  {
   "cell_type": "markdown",
   "id": "e3ce339c",
   "metadata": {},
   "source": [
    "## Bidimensional"
   ]
  },
  {
   "cell_type": "markdown",
   "id": "147f40e1",
   "metadata": {},
   "source": [
    "Los podemos entender como una lista de listas.\n",
    "\n",
    "```python\n",
    "array[i,j]\n",
    "array[i][j]\n",
    "\n",
    "# 🚨 Las dos lineas anteriores son exactamente lo mismo\n",
    "# seleccionará el elemento de la columna \"j\" de la fila \"i\"\n",
    "```\n",
    "\n",
    "Donde: \n",
    "- `i` --> filas\n",
    "\n",
    "- `j` --> columnas"
   ]
  },
  {
   "cell_type": "code",
   "execution_count": 20,
   "id": "ed9fd2e0",
   "metadata": {
    "scrolled": true
   },
   "outputs": [
    {
     "data": {
      "text/plain": [
       "array([[0.78728684, 0.16708064, 0.6992712 , 0.05943012],\n",
       "       [0.27824042, 0.15530026, 0.78195663, 0.49102986],\n",
       "       [0.50440279, 0.33858981, 0.14750143, 0.83147496],\n",
       "       [0.99875199, 0.28737933, 0.31924211, 0.75764419],\n",
       "       [0.48507581, 0.67636263, 0.57125622, 0.18767091]])"
      ]
     },
     "execution_count": 20,
     "metadata": {},
     "output_type": "execute_result"
    }
   ],
   "source": [
    "bidimensional = np.random.rand(5, 4)\n",
    "bidimensional"
   ]
  },
  {
   "cell_type": "markdown",
   "id": "378ce92e",
   "metadata": {},
   "source": [
    "Si usamos los índices como lo hicimos hasta ahora:"
   ]
  },
  {
   "cell_type": "code",
   "execution_count": 10,
   "id": "48106c87",
   "metadata": {},
   "outputs": [
    {
     "data": {
      "text/plain": [
       "array([0.99251464, 0.26613234, 0.96104882, 0.1757792 ])"
      ]
     },
     "execution_count": 10,
     "metadata": {},
     "output_type": "execute_result"
    }
   ],
   "source": [
    "# si nos fijamos de esta forma accedemos a la fila que queramos de nuestro array\n",
    "\n",
    "bidimensional[0]"
   ]
  },
  {
   "cell_type": "markdown",
   "id": "ec634b6e",
   "metadata": {},
   "source": [
    "Para seguir con la comparación de las listas el elemento `bidimensional[0]` se comportaría como una lista por lo tanto podemos acceder a sus elementos de la misma forma que una lista. \n"
   ]
  },
  {
   "cell_type": "code",
   "execution_count": 11,
   "id": "1be915dc",
   "metadata": {},
   "outputs": [
    {
     "data": {
      "text/plain": [
       "0.9925146412224513"
      ]
     },
     "execution_count": 11,
     "metadata": {},
     "output_type": "execute_result"
    }
   ],
   "source": [
    "# en este ejemplo estamos accediendo a la primera fila y a la primera columna\n",
    "\n",
    "bidimensional[0,0]"
   ]
  },
  {
   "cell_type": "code",
   "execution_count": 12,
   "id": "013dd79f",
   "metadata": {},
   "outputs": [
    {
     "data": {
      "text/plain": [
       "0.9925146412224513"
      ]
     },
     "execution_count": 12,
     "metadata": {},
     "output_type": "execute_result"
    }
   ],
   "source": [
    "# esto es lo mismo que lo anterior\n",
    "\n",
    "bidimensional[0][0]"
   ]
  },
  {
   "cell_type": "code",
   "execution_count": 13,
   "id": "c2fac035",
   "metadata": {},
   "outputs": [
    {
     "data": {
      "text/plain": [
       "0.17401935312978012"
      ]
     },
     "execution_count": 13,
     "metadata": {},
     "output_type": "execute_result"
    }
   ],
   "source": [
    "# segunda fila, tercer columna. \n",
    "bidimensional[2,3]"
   ]
  },
  {
   "cell_type": "code",
   "execution_count": 14,
   "id": "1677e8d1",
   "metadata": {},
   "outputs": [
    {
     "data": {
      "text/plain": [
       "array([[0.99251464, 0.26613234, 0.96104882, 0.1757792 ],\n",
       "       [0.6927278 , 0.31006696, 0.5541735 , 0.50809083],\n",
       "       [0.26886055, 0.54301367, 0.05642658, 0.17401935],\n",
       "       [0.26704033, 0.29619504, 0.70863398, 0.23853674],\n",
       "       [0.06614515, 0.30844174, 0.72456087, 0.03262693]])"
      ]
     },
     "execution_count": 14,
     "metadata": {},
     "output_type": "execute_result"
    }
   ],
   "source": [
    "bidimensional"
   ]
  },
  {
   "cell_type": "markdown",
   "id": "0b5b3db8",
   "metadata": {},
   "source": [
    "📌 **NOTA** Cuando usamos la siguiente estructura `array[i,j]`: \n",
    "\n",
    "- Todo lo que haya antes de la coma se referirá a filas.\n",
    "\n",
    "\n",
    "- Todo lo que haya después de la coma se referirá a columnas. \n",
    "\n",
    "De esta forma, si por ejemplo queremos seleccionar solo las dos primeras filas usaremos la nomenclatura que ya conocemos con los `:`. Si no especificamos nada (o solo ponemos `:`) se entiende que lo queremos todo. Por ejemplo 👇🏽"
   ]
  },
  {
   "cell_type": "code",
   "execution_count": 15,
   "id": "bbceedeb",
   "metadata": {},
   "outputs": [
    {
     "data": {
      "text/plain": [
       "array([[0.99251464, 0.26613234, 0.96104882, 0.1757792 ],\n",
       "       [0.6927278 , 0.31006696, 0.5541735 , 0.50809083]])"
      ]
     },
     "execution_count": 15,
     "metadata": {},
     "output_type": "execute_result"
    }
   ],
   "source": [
    "# seleccionamos las dos primeras filas, y todas las columnas (no ponemos \n",
    "## nada después de la coma). \n",
    "\n",
    "bidimensional[:2,:]"
   ]
  },
  {
   "cell_type": "code",
   "execution_count": 16,
   "id": "1b373fb4",
   "metadata": {},
   "outputs": [
    {
     "data": {
      "text/plain": [
       "array([[0.26613234, 0.96104882, 0.1757792 ],\n",
       "       [0.31006696, 0.5541735 , 0.50809083],\n",
       "       [0.54301367, 0.05642658, 0.17401935],\n",
       "       [0.29619504, 0.70863398, 0.23853674],\n",
       "       [0.30844174, 0.72456087, 0.03262693]])"
      ]
     },
     "execution_count": 16,
     "metadata": {},
     "output_type": "execute_result"
    }
   ],
   "source": [
    "# seleccionamos todas las filas y solo las tres últimas filas\n",
    "\n",
    "bidimensional[:,-3:] # no ponemos antes de la coma"
   ]
  },
  {
   "cell_type": "markdown",
   "id": "c48db4b6",
   "metadata": {},
   "source": [
    "**EJERCICIO 2** Crea un *array* de dos dimensiones y extrae:\n",
    "\n",
    "- La primera fila y todas las columnas\n",
    "\n",
    "\n",
    "- Todas las filas pares\n",
    "\n",
    "\n",
    "- La primera columna y todas las filas"
   ]
  },
  {
   "cell_type": "code",
   "execution_count": 24,
   "id": "013a80ed",
   "metadata": {},
   "outputs": [
    {
     "name": "stdout",
     "output_type": "stream",
     "text": [
      "[[[ 5 47 29 45 28 43]\n",
      "  [ 5 18 31 18 24 17]\n",
      "  [18 39 48 37 13 42]]]\n"
     ]
    },
    {
     "ename": "IndexError",
     "evalue": "index 2 is out of bounds for axis 0 with size 1",
     "output_type": "error",
     "traceback": [
      "\u001b[0;31m---------------------------------------------------------------------------\u001b[0m",
      "\u001b[0;31mIndexError\u001b[0m                                Traceback (most recent call last)",
      "\u001b[0;32m/tmp/ipykernel_283/532766349.py\u001b[0m in \u001b[0;36m<module>\u001b[0;34m\u001b[0m\n\u001b[1;32m      2\u001b[0m \u001b[0mprint\u001b[0m\u001b[0;34m(\u001b[0m\u001b[0marray_bidimensional\u001b[0m\u001b[0;34m)\u001b[0m\u001b[0;34m\u001b[0m\u001b[0;34m\u001b[0m\u001b[0m\n\u001b[1;32m      3\u001b[0m \u001b[0;34m\u001b[0m\u001b[0m\n\u001b[0;32m----> 4\u001b[0;31m \u001b[0mprint\u001b[0m\u001b[0;34m(\u001b[0m\u001b[0;34m\"primera fila y todas columnas\"\u001b[0m\u001b[0;34m,\u001b[0m \u001b[0marray_bidimensional\u001b[0m\u001b[0;34m[\u001b[0m\u001b[0;36m2\u001b[0m\u001b[0;34m,\u001b[0m\u001b[0;36m3\u001b[0m\u001b[0;34m]\u001b[0m\u001b[0;34m)\u001b[0m\u001b[0;34m\u001b[0m\u001b[0;34m\u001b[0m\u001b[0m\n\u001b[0m\u001b[1;32m      5\u001b[0m \u001b[0;34m\u001b[0m\u001b[0m\n\u001b[1;32m      6\u001b[0m \u001b[0marray_bidimensional\u001b[0m\u001b[0;34m[\u001b[0m\u001b[0;36m0\u001b[0m\u001b[0;34m,\u001b[0m\u001b[0;34m:\u001b[0m\u001b[0;34m]\u001b[0m\u001b[0;34m\u001b[0m\u001b[0;34m\u001b[0m\u001b[0m\n",
      "\u001b[0;31mIndexError\u001b[0m: index 2 is out of bounds for axis 0 with size 1"
     ]
    }
   ],
   "source": [
    "array_bidimensional = np.random.randint(0,50,(1,3,6))\n",
    "print(array_bidimensional)\n",
    "\n",
    "print(\"primera fila y todas columnas\", array_bidimensional[2,3])\n",
    "\n",
    "array_bidimensional[0,:]\n",
    "\n",
    "print(array_bidimensional[0:6:2])\n",
    "\n",
    "\n",
    "# array_bidimensional"
   ]
  },
  {
   "cell_type": "markdown",
   "id": "16fcfe7f",
   "metadata": {},
   "source": [
    "## Multidimensional"
   ]
  },
  {
   "cell_type": "markdown",
   "id": "ada85741",
   "metadata": {},
   "source": [
    "De la misma forma que en los bidimensionales, el los mutidimensionales podemos acceder a sus elementos de dos formas: \n",
    "\n",
    "```python\n",
    "array[i,j,k]\n",
    "array[i][j][k]\n",
    "```\n",
    "\n",
    "- i → *array* al que queremos acceder \n",
    "\n",
    "\n",
    "- j → fila de nuestro *array* al que queremos acceder\n",
    "\n",
    "\n",
    "- k → columna de nuestro *array* al que queremos acceder"
   ]
  },
  {
   "attachments": {
    "3d-array-index.png": {
     "image/png": "[encoded data removed]"
    }
   },
   "cell_type": "markdown",
   "id": "54cecd67",
   "metadata": {},
   "source": [
    "![3d-array-index.png](https://github.com/Adalab/data_imagenes/blob/main/Modulo-2/NumPy/index_numpy_multidimensional.png?raw=true)"
   ]
  },
  {
   "cell_type": "code",
   "execution_count": 25,
   "id": "b872c91f",
   "metadata": {},
   "outputs": [
    {
     "data": {
      "text/plain": [
       "array([[[71, 45, 83, 65, 40],\n",
       "        [ 0, 70,  1, 10, 95],\n",
       "        [77, 49,  6, 14, 34]],\n",
       "\n",
       "       [[37, 65, 48,  8, 25],\n",
       "        [26, 71, 56, 77, 23],\n",
       "        [16, 53, 90, 16, 91]]])"
      ]
     },
     "execution_count": 25,
     "metadata": {},
     "output_type": "execute_result"
    }
   ],
   "source": [
    "multidimensional = np.random.randint(0,100, (2,3,5))\n",
    "multidimensional"
   ]
  },
  {
   "cell_type": "code",
   "execution_count": null,
   "id": "5e31b87d",
   "metadata": {},
   "outputs": [
    {
     "data": {
      "text/plain": [
       "96"
      ]
     },
     "execution_count": 50,
     "metadata": {},
     "output_type": "execute_result"
    }
   ],
   "source": [
    "# accedemos al array 1 y al elemento que está en la fila 2 y la columna 4\n",
    "\n",
    "multidimensional[1,2,4]"
   ]
  },
  {
   "cell_type": "code",
   "execution_count": null,
   "id": "f6e4a181",
   "metadata": {},
   "outputs": [
    {
     "data": {
      "text/plain": [
       "array([90, 90, 33, 56, 28])"
      ]
     },
     "execution_count": 51,
     "metadata": {},
     "output_type": "execute_result"
    }
   ],
   "source": [
    "# primer array primera fila y todas las columnas\n",
    "\n",
    "multidimensional[0, 1, :]"
   ]
  },
  {
   "cell_type": "markdown",
   "id": "1e567a3b",
   "metadata": {},
   "source": [
    "# Subsets "
   ]
  },
  {
   "cell_type": "markdown",
   "id": "b8889eb4",
   "metadata": {},
   "source": [
    "En los *arrays* también podemos usar los operadores `<` y `>` para extraer subsets basandonos en un valor dado. Veamos algún ejemplo:"
   ]
  },
  {
   "cell_type": "code",
   "execution_count": null,
   "id": "37988215",
   "metadata": {},
   "outputs": [
    {
     "data": {
      "text/plain": [
       "array([[0.46417123, 0.02512864, 0.64691247, 0.98166686],\n",
       "       [0.06091463, 0.71474717, 0.74746933, 0.22353601],\n",
       "       [0.54005924, 0.46392303, 0.05293186, 0.34047779],\n",
       "       [0.14183843, 0.12295865, 0.68042441, 0.9717843 ],\n",
       "       [0.09072737, 0.48138989, 0.55962053, 0.75362684]])"
      ]
     },
     "execution_count": 52,
     "metadata": {},
     "output_type": "execute_result"
    }
   ],
   "source": [
    "# en este parte del jupyter trabajaremos con el array bidimensional. Recordemos como es\n",
    "\n",
    "bidimensional"
   ]
  },
  {
   "cell_type": "markdown",
   "id": "06ef208c",
   "metadata": {},
   "source": [
    "Imaginemos que queremos extraer aquello valores que sean mayores que 0.5"
   ]
  },
  {
   "cell_type": "code",
   "execution_count": null,
   "id": "bf415583",
   "metadata": {},
   "outputs": [
    {
     "data": {
      "text/plain": [
       "array([[ True,  True, False, False],\n",
       "       [ True, False, False,  True],\n",
       "       [ True, False,  True, False],\n",
       "       [ True,  True, False,  True],\n",
       "       [False,  True,  True,  True]])"
      ]
     },
     "execution_count": 63,
     "metadata": {},
     "output_type": "execute_result"
    }
   ],
   "source": [
    "# esto nos devolverá una matriz de booleanos, es decir, de True y False. \n",
    "bidimensional > 0.5"
   ]
  },
  {
   "cell_type": "markdown",
   "id": "98604273",
   "metadata": {},
   "source": [
    "El *array* nos puede resultar algo tedioso de interpretar. ¿Como lo podemos ver de una forma algo más \"humana\"?\n",
    "\n",
    "Tan solo le tenemos que usar unos corchetes más. Veámoslo!"
   ]
  },
  {
   "cell_type": "code",
   "execution_count": null,
   "id": "50016b1e",
   "metadata": {},
   "outputs": [
    {
     "data": {
      "text/plain": [
       "array([0.82784329, 0.52889262, 0.80422175, 0.94270143, 0.95253152,\n",
       "       0.9062399 , 0.84190601, 0.70038912, 0.50390113, 0.8519065 ,\n",
       "       0.71788129, 0.52499991])"
      ]
     },
     "execution_count": 65,
     "metadata": {},
     "output_type": "execute_result"
    }
   ],
   "source": [
    "# ya tenemos nuestro array con los valores mayores que 0.5\n",
    "\n",
    "bidimensional[bidimensional > 0.5]"
   ]
  },
  {
   "cell_type": "markdown",
   "id": "bf1bbc1b",
   "metadata": {},
   "source": [
    "Imaginemos ahora que queremos seleccionar ciertos valores basados en dos condiciones. En este caso:\n",
    "\n",
    "- Usaremos el operador `&` para indicar que queremos que se cumplan las dos condiciones\n",
    "\n",
    "\n",
    "- Usaremos el operador `|` para indicar que se cumpla una condición y otra"
   ]
  },
  {
   "cell_type": "code",
   "execution_count": null,
   "id": "ea351679",
   "metadata": {},
   "outputs": [
    {
     "data": {
      "text/plain": [
       "array([0.02512864, 0.98166686, 0.06091463, 0.71474717, 0.74746933,\n",
       "       0.05293186, 0.14183843, 0.12295865, 0.9717843 , 0.09072737,\n",
       "       0.75362684])"
      ]
     },
     "execution_count": 53,
     "metadata": {},
     "output_type": "execute_result"
    }
   ],
   "source": [
    "# queremos seleccionar aquellos números que sean MENORES que 0.2 \n",
    "## o MAYORES que 0.7\n",
    "\n",
    "bidimensional[(bidimensional < 0.2) |  (bidimensional >0.7)]"
   ]
  },
  {
   "cell_type": "code",
   "execution_count": null,
   "id": "89e3988e",
   "metadata": {},
   "outputs": [
    {
     "data": {
      "text/plain": [
       "array([], dtype=float64)"
      ]
     },
     "execution_count": 54,
     "metadata": {},
     "output_type": "execute_result"
    }
   ],
   "source": [
    "bidimensional[(bidimensional < 0.2)  & (bidimensional == 0.10332012)]\n",
    "                                                                        "
   ]
  },
  {
   "cell_type": "markdown",
   "id": "fee079a1",
   "metadata": {},
   "source": [
    "# Métodos "
   ]
  },
  {
   "cell_type": "markdown",
   "id": "37698836",
   "metadata": {},
   "source": [
    "En este apartado veremos algunos de los métodos más importantes de los *arrays*. Entre ellos encontramos:\n",
    "\n",
    "- copy()\n",
    "\n",
    "\n",
    "- T (transponse/ transponer)\n",
    "\n",
    "\n",
    "- reshape()\n",
    "\n",
    "\n",
    "- swapaxes()\n",
    "\n"
   ]
  },
  {
   "cell_type": "markdown",
   "id": "09efc188",
   "metadata": {},
   "source": [
    "## `copy()`:\n",
    "\n",
    "Nos devuelve una copia del array dado"
   ]
  },
  {
   "cell_type": "code",
   "execution_count": null,
   "id": "7a9cb2c2",
   "metadata": {},
   "outputs": [
    {
     "data": {
      "text/plain": [
       "array([[[1., 1., 1., 1.],\n",
       "        [1., 1., 1., 1.]],\n",
       "\n",
       "       [[1., 1., 1., 1.],\n",
       "        [1., 1., 1., 1.]],\n",
       "\n",
       "       [[1., 1., 1., 1.],\n",
       "        [1., 1., 1., 1.]]])"
      ]
     },
     "execution_count": 55,
     "metadata": {},
     "output_type": "execute_result"
    }
   ],
   "source": [
    "nuevo_array = np.ones((3,2,4))\n",
    "nuevo_array"
   ]
  },
  {
   "cell_type": "markdown",
   "id": "f96f2919",
   "metadata": {},
   "source": [
    "Vale pero esto... para que puede ser útil? \n",
    "\n",
    "Imaginemos que queremos hacer un cambio en nuestro *array* orginal pero queremos conservar el original. Este es el momento de usar `copy()`. \n",
    "\n",
    "Veámoslo con un ejemplo. Vamos a modificar el elemento de la fila 1 de la columna 1 de nuestro primer array de `nuevo_array`"
   ]
  },
  {
   "cell_type": "code",
   "execution_count": null,
   "id": "63508443",
   "metadata": {},
   "outputs": [],
   "source": [
    "# lo primero que tenemos que hacer es acceder a ese elemento a través de los índices\n",
    "## y luego le asiganremos el valor de 20\n",
    "\n",
    "nuevo_array[0][0][0] = 20"
   ]
  },
  {
   "cell_type": "code",
   "execution_count": null,
   "id": "522c30d2",
   "metadata": {},
   "outputs": [
    {
     "data": {
      "text/plain": [
       "array([[[20.,  1.,  1.,  1.],\n",
       "        [ 1.,  1.,  1.,  1.]],\n",
       "\n",
       "       [[ 1.,  1.,  1.,  1.],\n",
       "        [ 1.,  1.,  1.,  1.]],\n",
       "\n",
       "       [[ 1.,  1.,  1.,  1.],\n",
       "        [ 1.,  1.,  1.,  1.]]])"
      ]
     },
     "execution_count": 57,
     "metadata": {},
     "output_type": "execute_result"
    }
   ],
   "source": [
    "nuevo_array"
   ]
  },
  {
   "cell_type": "markdown",
   "id": "d149297b",
   "metadata": {},
   "source": [
    "Tenemos un problema! Se han modificado los valores del *array* original y nosotras no queríamos! \n",
    "\n",
    "¿Y qué pasará si lo hacemos sobre la copia que hicimos? En este caso modificaremos el elemento de la primera fila y primera columna de la segunda matriz"
   ]
  },
  {
   "cell_type": "code",
   "execution_count": null,
   "id": "657ffb11",
   "metadata": {},
   "outputs": [],
   "source": [
    "copia_unos = nuevo_array.copy()"
   ]
  },
  {
   "cell_type": "code",
   "execution_count": null,
   "id": "23d1001b",
   "metadata": {},
   "outputs": [
    {
     "data": {
      "text/plain": [
       "array([[[20.,  1.,  1.,  1.],\n",
       "        [ 1.,  1.,  1.,  1.]],\n",
       "\n",
       "       [[40.,  1.,  1.,  1.],\n",
       "        [ 1.,  1.,  1.,  1.]],\n",
       "\n",
       "       [[ 1.,  1.,  1.,  1.],\n",
       "        [ 1.,  1.,  1.,  1.]]])"
      ]
     },
     "execution_count": 112,
     "metadata": {},
     "output_type": "execute_result"
    }
   ],
   "source": [
    "copia_unos[1,0,0] = 40\n",
    "copia_unos"
   ]
  },
  {
   "cell_type": "code",
   "execution_count": null,
   "id": "7abd165a",
   "metadata": {},
   "outputs": [
    {
     "data": {
      "text/plain": [
       "array([[[20.,  1.,  1.,  1.],\n",
       "        [ 1.,  1.,  1.,  1.]],\n",
       "\n",
       "       [[ 1.,  1.,  1.,  1.],\n",
       "        [ 1.,  1.,  1.,  1.]],\n",
       "\n",
       "       [[ 1.,  1.,  1.,  1.],\n",
       "        [ 1.,  1.,  1.,  1.]]])"
      ]
     },
     "execution_count": 58,
     "metadata": {},
     "output_type": "execute_result"
    }
   ],
   "source": [
    "# si ahora vemos como esta el array original \"nuevo_array\" veremos que \n",
    "## el nuevo valor asignado de 40 no se ha incorporado en el original\n",
    "# si no en la copia. Manteniendo el original igual. \n",
    "\n",
    "nuevo_array"
   ]
  },
  {
   "attachments": {
    "image-2.png": {
     "image/png": "[encoded data removed]"
    }
   },
   "cell_type": "markdown",
   "id": "b5afb57e",
   "metadata": {},
   "source": [
    "## `transpose()`: \n",
    "\n",
    "Invierte o permuta los ejes de una matriz; devuelve la matriz modificada.\n",
    "\n",
    "![image-2.png](https://github.com/Adalab/data_imagenes/blob/main/Modulo-2/NumPy/transpose.png?raw=true)\n",
    "\n"
   ]
  },
  {
   "cell_type": "markdown",
   "id": "c3d4f727",
   "metadata": {},
   "source": [
    "\n",
    "Veamos varios ejemplos con arrays de distintas dimensiones:\n"
   ]
  },
  {
   "cell_type": "markdown",
   "id": "2ccc4d9e",
   "metadata": {},
   "source": [
    "### Unidimensional "
   ]
  },
  {
   "cell_type": "markdown",
   "id": "f4532378",
   "metadata": {},
   "source": [
    "No tiene mucho sentido hacer una transposición de un *array* de una dimensión ya que:\n",
    "\n",
    "> La transposición de un *array* unidimensional devuelve una vista inalterada del *array* original."
   ]
  },
  {
   "cell_type": "markdown",
   "id": "81f9e713",
   "metadata": {},
   "source": [
    "### Bidimensional "
   ]
  },
  {
   "cell_type": "code",
   "execution_count": null,
   "id": "60149ceb",
   "metadata": {},
   "outputs": [
    {
     "data": {
      "text/plain": [
       "array([[0.46417123, 0.02512864, 0.64691247, 0.98166686],\n",
       "       [0.06091463, 0.71474717, 0.74746933, 0.22353601],\n",
       "       [0.54005924, 0.46392303, 0.05293186, 0.34047779],\n",
       "       [0.14183843, 0.12295865, 0.68042441, 0.9717843 ],\n",
       "       [0.09072737, 0.48138989, 0.55962053, 0.75362684]])"
      ]
     },
     "execution_count": 61,
     "metadata": {},
     "output_type": "execute_result"
    }
   ],
   "source": [
    "bidimensional"
   ]
  },
  {
   "cell_type": "code",
   "execution_count": null,
   "id": "06aaf771",
   "metadata": {},
   "outputs": [
    {
     "data": {
      "text/plain": [
       "array([[0.46417123, 0.06091463, 0.54005924, 0.14183843, 0.09072737],\n",
       "       [0.02512864, 0.71474717, 0.46392303, 0.12295865, 0.48138989],\n",
       "       [0.64691247, 0.74746933, 0.05293186, 0.68042441, 0.55962053],\n",
       "       [0.98166686, 0.22353601, 0.34047779, 0.9717843 , 0.75362684]])"
      ]
     },
     "execution_count": 62,
     "metadata": {},
     "output_type": "execute_result"
    }
   ],
   "source": [
    "# si nos fijamos las filas han pasado a ser columnas y viceversa\n",
    "\n",
    "np.transpose(bidimensional)"
   ]
  },
  {
   "cell_type": "markdown",
   "id": "80f012c5",
   "metadata": {},
   "source": [
    "### Multidimensional "
   ]
  },
  {
   "cell_type": "markdown",
   "id": "dc9829d7",
   "metadata": {},
   "source": [
    "La cosa se complica cuando pasamos a *arrays* con más de dos dimensiones. "
   ]
  },
  {
   "cell_type": "code",
   "execution_count": null,
   "id": "8e47b5ee",
   "metadata": {},
   "outputs": [
    {
     "data": {
      "text/plain": [
       "array([[[94,  1, 63, 78, 84],\n",
       "        [90, 90, 33, 56, 28],\n",
       "        [14, 54, 11, 35, 35]],\n",
       "\n",
       "       [[36,  8, 52, 46, 33],\n",
       "        [91, 78, 67, 50, 11],\n",
       "        [43, 30, 80,  7, 96]]])"
      ]
     },
     "execution_count": 63,
     "metadata": {},
     "output_type": "execute_result"
    }
   ],
   "source": [
    "multidimensional"
   ]
  },
  {
   "cell_type": "markdown",
   "id": "5565ab9b",
   "metadata": {},
   "source": [
    "Por defecto este método nos hará la siguiente transposicion:\n",
    "\n",
    "- El número de columnas --> número de *arrays* \n",
    "\n",
    "\n",
    "- El número de filas --> número de columnas\n",
    "\n",
    "\n",
    "- El número de *arrays* --> número de filas"
   ]
  },
  {
   "cell_type": "code",
   "execution_count": null,
   "id": "f222c7ec",
   "metadata": {},
   "outputs": [
    {
     "data": {
      "text/plain": [
       "array([[[94, 36],\n",
       "        [90, 91],\n",
       "        [14, 43]],\n",
       "\n",
       "       [[ 1,  8],\n",
       "        [90, 78],\n",
       "        [54, 30]],\n",
       "\n",
       "       [[63, 52],\n",
       "        [33, 67],\n",
       "        [11, 80]],\n",
       "\n",
       "       [[78, 46],\n",
       "        [56, 50],\n",
       "        [35,  7]],\n",
       "\n",
       "       [[84, 33],\n",
       "        [28, 11],\n",
       "        [35, 96]]])"
      ]
     },
     "execution_count": 67,
     "metadata": {},
     "output_type": "execute_result"
    }
   ],
   "source": [
    "np.transpose(multidimensional)"
   ]
  },
  {
   "cell_type": "markdown",
   "id": "77f2f07d",
   "metadata": {},
   "source": [
    "Pero nosotras podemos especificar el sentido en el que queremos que transpongan los elementos de mi *array*"
   ]
  },
  {
   "cell_type": "markdown",
   "id": "2e58bfe7",
   "metadata": {},
   "source": [
    "```python\n",
    "np.transpose(nuestro_array, (1,2,0))\n",
    "```\n",
    "\n",
    "Entendiendo lo siguiente cuando definimos el siguiente *array*:\n",
    "\n",
    "```python\n",
    "multidimensional = np.random.randint(0,100, (2,3,5))\n",
    "```\n",
    "\n",
    "- 2 (posición 0): hace referencia a el número de *subarrays* que queremos. \n",
    "\n",
    "\n",
    "- 3 (posición 1): hace referencia al número de filas que queremos en cada uno de nuestros *subarrays*.\n",
    "\n",
    "\n",
    "- 5 (posición 2): hace referencia al número de columnas que queremos en cada uno de nuestros *subarrays*. \n",
    "\n",
    "> A este método le podemos pasar un parámetro adicional que puede ser una tupla o una lista donde indicaremos el orden de permutación que queremos\n",
    "\n",
    "**¿Cómo lo hacemos?**\n",
    "\n",
    "Lo haremos indicando donde queremos cada una de las posiciones antiguas. Es decir, imaginemos que queremos hacer la siguiente transposición:\n",
    "\n",
    "- Las columnas (posición 2) queremos que sean las filas (posición 1)\n",
    "\n",
    "\n",
    "- Las filas (posición 1) queremos que sean el número de *arrays* (posición 0)\n",
    "\n",
    "\n",
    "- El número de *arrays* (posición 0) queremos que sean columnas (posición 2)\n",
    "\n",
    "Lo único que tendremos que hacer es especificar este nuevo orden en el `transpose()`\n",
    "\n",
    "np.transpose(multidimensional, (1,2,0))\n",
    "\n",
    "Si nos fijamos lo que hacemos en la tupla es, basándonos en las posiciones de la tupla:\n",
    "\n",
    "- ¿Qué quiero en la posición 0 de la tupla (y por lo tanto de mi nuevo *array* transpuesto*? -- > lo que antes era la posición 1. Por lo tanto, pongo un 1\n",
    "\n",
    "\n",
    "- ¿Qué quiero en la posción 1? --> lo que antes era la posición 2. Por lo tanto, pongo un 2\n",
    "\n",
    "\n",
    "\n",
    "- ¿Qué quiero en la posición 2? --> lo que antes era la posición 0. Por lo tanto, pongio un 0"
   ]
  },
  {
   "cell_type": "code",
   "execution_count": null,
   "id": "61965bcf",
   "metadata": {},
   "outputs": [
    {
     "data": {
      "text/plain": [
       "array([[[94, 36],\n",
       "        [ 1,  8],\n",
       "        [63, 52],\n",
       "        [78, 46],\n",
       "        [84, 33]],\n",
       "\n",
       "       [[90, 91],\n",
       "        [90, 78],\n",
       "        [33, 67],\n",
       "        [56, 50],\n",
       "        [28, 11]],\n",
       "\n",
       "       [[14, 43],\n",
       "        [54, 30],\n",
       "        [11, 80],\n",
       "        [35,  7],\n",
       "        [35, 96]]])"
      ]
     },
     "execution_count": 65,
     "metadata": {},
     "output_type": "execute_result"
    }
   ],
   "source": [
    "np.transpose(multidimensional, (1,2,0))"
   ]
  },
  {
   "cell_type": "markdown",
   "id": "e8a341e9",
   "metadata": {},
   "source": [
    "Si nos fijamos ahora: \n",
    "\n",
    "- Lo que antes eran columnas ahora son filas\n",
    "\n",
    "\n",
    "- Las filas ahora son *subarrays* \n",
    "\n",
    "\n",
    "- El número de *subarrays* son ahora el número de columnas"
   ]
  },
  {
   "cell_type": "markdown",
   "id": "c5612f8a",
   "metadata": {},
   "source": [
    "## `reshape()`:\n",
    "\n",
    "Cambiamos la forma a un *array* sin cambiar sus datos. También lo podemos usar para definir la forma de una *array* cuando creamos un *array* con métodos como `arange()`"
   ]
  },
  {
   "cell_type": "markdown",
   "id": "2c7a352a",
   "metadata": {},
   "source": [
    "1️⃣ Cuando definimos la forma de un *array* que estamos creando"
   ]
  },
  {
   "cell_type": "code",
   "execution_count": null,
   "id": "a51f50e1",
   "metadata": {},
   "outputs": [
    {
     "data": {
      "text/plain": [
       "array([[0, 1],\n",
       "       [2, 3],\n",
       "       [4, 5]])"
      ]
     },
     "execution_count": 68,
     "metadata": {},
     "output_type": "execute_result"
    }
   ],
   "source": [
    "# lo que estamos haciendo es crearnos un array de 3 filas y columnas \n",
    "## con números del 0-5\n",
    "\n",
    "array7 = np.arange(6).reshape((3, 2))\n",
    "array7"
   ]
  },
  {
   "cell_type": "code",
   "execution_count": null,
   "id": "51ed18d2",
   "metadata": {},
   "outputs": [
    {
     "data": {
      "text/plain": [
       "array([[[ 0,  1],\n",
       "        [ 2,  3],\n",
       "        [ 4,  5]],\n",
       "\n",
       "       [[ 6,  7],\n",
       "        [ 8,  9],\n",
       "        [10, 11]]])"
      ]
     },
     "execution_count": 69,
     "metadata": {},
     "output_type": "execute_result"
    }
   ],
   "source": [
    "array8 = np.arange(12).reshape((2, 3, 2))\n",
    "array8"
   ]
  },
  {
   "cell_type": "markdown",
   "id": "46f0ba69",
   "metadata": {},
   "source": [
    "2️⃣ Cuando queremos modificar la forma de un array que ya esta definido"
   ]
  },
  {
   "cell_type": "code",
   "execution_count": null,
   "id": "dce69f6a",
   "metadata": {},
   "outputs": [
    {
     "data": {
      "text/plain": [
       "array([[[94,  1, 63, 78, 84],\n",
       "        [90, 90, 33, 56, 28],\n",
       "        [14, 54, 11, 35, 35]],\n",
       "\n",
       "       [[36,  8, 52, 46, 33],\n",
       "        [91, 78, 67, 50, 11],\n",
       "        [43, 30, 80,  7, 96]]])"
      ]
     },
     "execution_count": 70,
     "metadata": {},
     "output_type": "execute_result"
    }
   ],
   "source": [
    "multidimensional"
   ]
  },
  {
   "cell_type": "code",
   "execution_count": null,
   "id": "e0752ca3",
   "metadata": {},
   "outputs": [
    {
     "data": {
      "text/plain": [
       "array([[[94,  1, 63],\n",
       "        [78, 84, 90]],\n",
       "\n",
       "       [[90, 33, 56],\n",
       "        [28, 14, 54]],\n",
       "\n",
       "       [[11, 35, 35],\n",
       "        [36,  8, 52]],\n",
       "\n",
       "       [[46, 33, 91],\n",
       "        [78, 67, 50]],\n",
       "\n",
       "       [[11, 43, 30],\n",
       "        [80,  7, 96]]])"
      ]
     },
     "execution_count": 72,
     "metadata": {},
     "output_type": "execute_result"
    }
   ],
   "source": [
    "# en este caso lo que tenemos que hacer es simplemente especificar que\n",
    "## forma le queremos dar a nuestro nuevo array\n",
    "\n",
    "multidimensional_cambiado = np.reshape(multidimensional, (5,2,3))\n",
    "multidimensional_cambiado"
   ]
  },
  {
   "cell_type": "markdown",
   "id": "edc30f7a",
   "metadata": {},
   "source": [
    "## `swapaxes()`:\n",
    "\n",
    "Intercambia **dos ejes** de una matriz"
   ]
  },
  {
   "cell_type": "code",
   "execution_count": null,
   "id": "ab5b2531",
   "metadata": {},
   "outputs": [
    {
     "data": {
      "text/plain": [
       "array([[[ 0,  1],\n",
       "        [ 2,  3],\n",
       "        [ 4,  5]],\n",
       "\n",
       "       [[ 6,  7],\n",
       "        [ 8,  9],\n",
       "        [10, 11]]])"
      ]
     },
     "execution_count": 148,
     "metadata": {},
     "output_type": "execute_result"
    }
   ],
   "source": [
    "array8 = np.arange(12).reshape(2,3,2)\n",
    "array8"
   ]
  },
  {
   "cell_type": "code",
   "execution_count": 18,
   "id": "9c59671b",
   "metadata": {},
   "outputs": [
    {
     "ename": "NameError",
     "evalue": "name 'array8' is not defined",
     "output_type": "error",
     "traceback": [
      "\u001b[0;31m---------------------------------------------------------------------------\u001b[0m",
      "\u001b[0;31mNameError\u001b[0m                                 Traceback (most recent call last)",
      "\u001b[0;32m/tmp/ipykernel_283/3120473070.py\u001b[0m in \u001b[0;36m<module>\u001b[0;34m\u001b[0m\n\u001b[0;32m----> 1\u001b[0;31m \u001b[0mnp\u001b[0m\u001b[0;34m.\u001b[0m\u001b[0mswapaxes\u001b[0m\u001b[0;34m(\u001b[0m\u001b[0marray8\u001b[0m\u001b[0;34m,\u001b[0m \u001b[0;36m1\u001b[0m\u001b[0;34m,\u001b[0m \u001b[0;36m0\u001b[0m\u001b[0;34m)\u001b[0m\u001b[0;34m\u001b[0m\u001b[0;34m\u001b[0m\u001b[0m\n\u001b[0m\u001b[1;32m      2\u001b[0m \u001b[0;34m\u001b[0m\u001b[0m\n\u001b[1;32m      3\u001b[0m \u001b[0mnp\u001b[0m\u001b[0;34m.\u001b[0m\u001b[0mtranspose\u001b[0m\u001b[0;34m(\u001b[0m\u001b[0marray8\u001b[0m\u001b[0;34m)\u001b[0m\u001b[0;34m\u001b[0m\u001b[0;34m\u001b[0m\u001b[0m\n",
      "\u001b[0;31mNameError\u001b[0m: name 'array8' is not defined"
     ]
    }
   ],
   "source": [
    "np.swapaxes(array8, 1, 0)\n",
    "\n",
    "np.transpose(array8)"
   ]
  },
  {
   "cell_type": "markdown",
   "id": "e8d09c95",
   "metadata": {},
   "source": [
    "**EJERICIO 3**\n",
    "\n",
    "- Crea una matriz mutidimensional de 2 x 3 x 5 de unos y haz una copia de la matriz multidimensional. \n",
    "\n",
    "\n",
    "- Reemplaza los siguientes valores:\n",
    "\n",
    "    - Array 0, fila 2, columna 3 por 100\n",
    "    \n",
    "    - Array 1, fila 1, columna 4 por 100\n",
    "    \n",
    "    - Array 0, fila 0, columna 2 por 100\n",
    "    \n",
    "    - Array 1, fila 2, columna 1 por 100\n",
    "\n",
    "\n",
    "- Haz una copia de la matriz anterior. Crea una matriz de 1 de 5 x 2 x 3 e intenta sumarla a la copia. ¿Se puede?  ¿Por qué?\n",
    "\n",
    "\n",
    "- Trata de modificar las dimensiones de tu matriz de unos para poder sumarla con la copia. Hazlo de las dos formas_\n",
    "\n",
    "    - `transpose`\n",
    "    \n",
    "    - `reshape`\n",
    "    \n",
    "    \n",
    "    \n",
    "- Vuelve a intentar sumar las dos matrices"
   ]
  },
  {
   "cell_type": "code",
   "execution_count": 28,
   "id": "e5c812aa",
   "metadata": {},
   "outputs": [
    {
     "data": {
      "text/plain": [
       "array([[[ 14,   2, 116,  25,   6],\n",
       "        [ 27,  40,  10,  16,  48],\n",
       "        [ 37,  40,  28, 134,  28]],\n",
       "\n",
       "       [[ 43,  46,  39,  50,  36],\n",
       "        [ 44,   4,  49,  44, 127],\n",
       "        [ 49, 146,   8,   2,   8]]])"
      ]
     },
     "execution_count": 28,
     "metadata": {},
     "output_type": "execute_result"
    }
   ],
   "source": [
    "# creando matriz\n",
    "matriz = np.random.randint(0,50,(2,3,5))\n",
    "matriz\n",
    "\n",
    "matriz_unos = np.ones_like(matriz)\n",
    "matriz_unos\n",
    "\n",
    "matriz_copia = matriz_unos.copy()\n",
    "matriz_copia\n",
    "\n",
    "matriz_copia[0,2,3] = 100\n",
    "matriz_copia[1,1,4] = 100\n",
    "matriz_copia[0,0,2] = 100\n",
    "matriz_copia[1,2,1] = 100\n",
    "\n",
    "nueva_copia = matriz_copia.copy()\n",
    "\n",
    "matriz_sumar = np.random.randint(0,50,(5,2,3))\n",
    "matriz_sumar\n",
    "\n",
    "\n",
    "# nueva_copia + matriz_sumar\n",
    "#no se puede sumar porque no tienen la misma forma.\n",
    "\n",
    "matriz_sumar_reshape = matriz_sumar.reshape((2,3,5))\n",
    "matriz_sumar_reshape\n",
    "\n",
    "matriz_sumar_reshape + nueva_copia\n"
   ]
  }
 ],
 "metadata": {
  "interpreter": {
   "hash": "a2a25da4702e7ca1aacc8a7d4e81059851e19fd1060402175b35fae4c2a518e8"
  },
  "kernelspec": {
   "display_name": "adalab",
   "language": "python",
   "name": "python3"
  },
  "language_info": {
   "codemirror_mode": {
    "name": "ipython",
    "version": 3
   },
   "file_extension": ".py",
   "mimetype": "text/x-python",
   "name": "python",
   "nbconvert_exporter": "python",
   "pygments_lexer": "ipython3",
   "version": "3.9.7"
  },
  "toc": {
   "base_numbering": 1,
   "nav_menu": {},
   "number_sections": true,
   "sideBar": true,
   "skip_h1_title": false,
   "title_cell": "Table of Contents",
   "title_sidebar": "Contents",
   "toc_cell": true,
   "toc_position": {},
   "toc_section_display": true,
   "toc_window_display": false
  },
  "varInspector": {
   "cols": {
    "lenName": 16,
    "lenType": 16,
    "lenVar": 40
   },
   "kernels_config": {
    "python": {
     "delete_cmd_postfix": "",
     "delete_cmd_prefix": "del ",
     "library": "var_list.py",
     "varRefreshCmd": "print(var_dic_list())"
    },
    "r": {
     "delete_cmd_postfix": ") ",
     "delete_cmd_prefix": "rm(",
     "library": "var_list.r",
     "varRefreshCmd": "cat(var_dic_list()) "
    }
   },
   "types_to_exclude": [
    "module",
    "function",
    "builtin_function_or_method",
    "instance",
    "_Feature"
   ],
   "window_display": true
  }
 },
 "nbformat": 4,
 "nbformat_minor": 5
}
