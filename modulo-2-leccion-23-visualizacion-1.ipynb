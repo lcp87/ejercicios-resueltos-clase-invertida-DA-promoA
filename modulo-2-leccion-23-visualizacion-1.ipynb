{
 "cells": [
  {
   "cell_type": "markdown",
   "metadata": {},
   "source": [
    "### Tabla de contenidos\n",
    "\n",
    "* [Visualización](#chapter1)\n",
    "    * [¿Qué es la visualizacion de datos y como se realiza en Python?](#section_1_1)\n",
    "    * [¿Qué es Matplotlib? ](#section_1_2)\n",
    "        * [¿Qué debemos hacer para trabajar con Matplotlib?](#section_1_2_1)\n",
    "        * [El contenedor figure y sus propiedades](#section_1_2_2)\n",
    "    * [Partes de una gráfica](#section_1_3)\n",
    "    * [Tipos de gráficas](#section_1_4)\n",
    "        * [Gráficas básicas](#section_1_4_1)\n",
    "            * [Gráficas básicas](#section_1_4_1_1)\n",
    "            * [Diagramas de barras](#section_1_4_1_2)\n",
    "                * [Gráficas barras](#section_1_4_1_2_1)\n",
    "                * [Gráficas barras horizontales](#section_1_4_1_2_2)\n",
    "                * [Gráficas barras apiladas](#section_1_4_1_2_3)\n",
    "            * [Gráficas de dispersión](#section_1_4_1_3)\n",
    "        * [Gráficas estadísticas](#section_1_4_2)\n",
    "            * [Histogramas](#section_1_4_2_1)\n",
    "            * [Boxplot](#section_1_4_2_2)\n",
    "            * [Gráficos de sectores](#section_1_4_2_3)\n",
    "            * [Diagrama de violín](#section_1_4_2_4)\n",
    "            \n",
    "    "
   ]
  },
  {
   "cell_type": "markdown",
   "metadata": {},
   "source": [
    "# **¿Qué es Visualización de datos y como se realiza en Python?** <a class=\"anchor\" id=\"section_1_1\"></a>"
   ]
  },
  {
   "cell_type": "markdown",
   "metadata": {},
   "source": [
    "La visualización de datos consiste en la realización de gráficas a partir de un conjunto de datos. Generalmente las gráficas se utilizan para conocer en detalle los datos con los que se han de trabajar y así mismo sirve para poder extraer la información contenida de forma visual para poder explicar o dar respuesta a preguntas sobre los mismos.\n",
    "\n",
    "Como se suele decir: \"Una imagen vale más que mil palabras.\"\n",
    "\n",
    "Para realizar gráficos en Python existen multitud de paquetes, algunos de los más usuales suelen ser:\n",
    "- Matplotlib\n",
    "- Seaborn\n",
    "- Plotly\n",
    "\n",
    "En nuestro caso vamos a ver en esta lección y las posteriores como realizar gráficas haciendo uso de **Matplotlib** y **Seaborn**. Así como las gráficas más utilizadas para el análisis de datos.\n",
    "\n"
   ]
  },
  {
   "cell_type": "markdown",
   "metadata": {},
   "source": [
    "# **¿Qué es Matplotlib?** <a class=\"anchor\" id=\"section_1_2\"></a>"
   ]
  },
  {
   "cell_type": "markdown",
   "metadata": {},
   "source": [
    "Matplotlib es una librería de Python que se utiliza para crear gráficos de todo tipo en Phyton. Ya que nos permite realizar gráficas estáticas, animadas e interactivas, con funciones como zoom, actualizacion etc. \n",
    "\n",
    "Así mismo permite todo tipo de personalización de estilo, fondos y permite así mismo exportar las gráficas a todo tipo de formatos de imagen.\n",
    "\n",
    "📌 Como analístas de datos, una parte importante  del trabajo será la capacidad de realizar gráficas que permitan explicar particularidades de los datos con los que se tengan que trabajar. Ya sea durante el proceso de limpieza de datos, para saber que datos pueden ser problemáticos, la explicación de las posibles distribuciones estadísitcas que puedan seguir los datos o para la creación y presentación de informes.\n",
    "\n",
    "Link a la documentación oficial de Matplotlib: https://matplotlib.org/3.5.1/plot_types/index.html\n"
   ]
  },
  {
   "cell_type": "markdown",
   "metadata": {},
   "source": [
    "### **¿Qué debemos hacer para trabajar con Matplotlib?** <a class=\"anchor\" id=\"section_1_2_1\"></a>"
   ]
  },
  {
   "cell_type": "markdown",
   "metadata": {},
   "source": [
    "1️⃣ Lo primero que tenemos que hacer es instalar la librería a través de la terminal. Para ello nos vamos a nuestra terminal y escribimos:\n",
    "\n",
    "```\n",
    "pip install matplotlib\n",
    "```\n",
    "\n",
    "2️⃣ Una vez instalado nos vamos a nuestro jupyter notebook y tendremos que importar la librería, por convencion se hace de la siguiente forma. En realidad vamos a importar un submódulo de matplotlib llamado pyplot, que es donde radica casi todas las utilidades para poder realizar multitud de gráficas distintas.\n",
    "\n",
    "```python\n",
    "import matplotlib.pyplot as plt\n",
    "```"
   ]
  },
  {
   "cell_type": "code",
   "execution_count": 2,
   "metadata": {},
   "outputs": [],
   "source": [
    "import matplotlib.pyplot as plt\n",
    "import numpy as np # Ya que usaremos algunas de sus funciones ;)\n",
    "import seaborn as sns\n",
    "df_iris = sns.load_dataset(\"iris\")"
   ]
  },
  {
   "cell_type": "markdown",
   "metadata": {},
   "source": [
    "El dataset iris contiene datos sobre la longitud y anchura del sépalo y los pétalos de diferentes especies de flores. Es un dataset muy conocido por la inmensa mayoría de Analistas de datos, ya que nos permitirá trabajar con datos reales, para poder realizar los ejercicios :D"
   ]
  },
  {
   "cell_type": "code",
   "execution_count": 3,
   "metadata": {},
   "outputs": [
    {
     "data": {
      "text/html": [
       "<div>\n",
       "<style scoped>\n",
       "    .dataframe tbody tr th:only-of-type {\n",
       "        vertical-align: middle;\n",
       "    }\n",
       "\n",
       "    .dataframe tbody tr th {\n",
       "        vertical-align: top;\n",
       "    }\n",
       "\n",
       "    .dataframe thead th {\n",
       "        text-align: right;\n",
       "    }\n",
       "</style>\n",
       "<table border=\"1\" class=\"dataframe\">\n",
       "  <thead>\n",
       "    <tr style=\"text-align: right;\">\n",
       "      <th></th>\n",
       "      <th>sepal_length</th>\n",
       "      <th>sepal_width</th>\n",
       "      <th>petal_length</th>\n",
       "      <th>petal_width</th>\n",
       "      <th>species</th>\n",
       "    </tr>\n",
       "  </thead>\n",
       "  <tbody>\n",
       "    <tr>\n",
       "      <th>0</th>\n",
       "      <td>5.1</td>\n",
       "      <td>3.5</td>\n",
       "      <td>1.4</td>\n",
       "      <td>0.2</td>\n",
       "      <td>setosa</td>\n",
       "    </tr>\n",
       "    <tr>\n",
       "      <th>1</th>\n",
       "      <td>4.9</td>\n",
       "      <td>3.0</td>\n",
       "      <td>1.4</td>\n",
       "      <td>0.2</td>\n",
       "      <td>setosa</td>\n",
       "    </tr>\n",
       "    <tr>\n",
       "      <th>2</th>\n",
       "      <td>4.7</td>\n",
       "      <td>3.2</td>\n",
       "      <td>1.3</td>\n",
       "      <td>0.2</td>\n",
       "      <td>setosa</td>\n",
       "    </tr>\n",
       "    <tr>\n",
       "      <th>3</th>\n",
       "      <td>4.6</td>\n",
       "      <td>3.1</td>\n",
       "      <td>1.5</td>\n",
       "      <td>0.2</td>\n",
       "      <td>setosa</td>\n",
       "    </tr>\n",
       "    <tr>\n",
       "      <th>4</th>\n",
       "      <td>5.0</td>\n",
       "      <td>3.6</td>\n",
       "      <td>1.4</td>\n",
       "      <td>0.2</td>\n",
       "      <td>setosa</td>\n",
       "    </tr>\n",
       "  </tbody>\n",
       "</table>\n",
       "</div>"
      ],
      "text/plain": [
       "   sepal_length  sepal_width  petal_length  petal_width species\n",
       "0           5.1          3.5           1.4          0.2  setosa\n",
       "1           4.9          3.0           1.4          0.2  setosa\n",
       "2           4.7          3.2           1.3          0.2  setosa\n",
       "3           4.6          3.1           1.5          0.2  setosa\n",
       "4           5.0          3.6           1.4          0.2  setosa"
      ]
     },
     "execution_count": 3,
     "metadata": {},
     "output_type": "execute_result"
    }
   ],
   "source": [
    "df_iris.head()"
   ]
  },
  {
   "cell_type": "markdown",
   "metadata": {},
   "source": [
    "### **El contenedor figure y sus propiedades** <a class=\"anchor\" id=\"section_1_2_2\"></a>"
   ]
  },
  {
   "cell_type": "markdown",
   "metadata": {},
   "source": [
    "Para poder realizar gráficas con Matplotlib, es necesario utilizar un objeto llamado contenedor gráfico que será en el cual se almacenen las gráficas que se realicen.\n",
    "\n",
    "En este caso a este contenedor se le llama Figure. Su utilidad es que nos permitirá \n",
    "\n",
    "Para hacer uso de este habrá que utilizar el siguente comando:"
   ]
  },
  {
   "cell_type": "code",
   "execution_count": 4,
   "metadata": {},
   "outputs": [
    {
     "data": {
      "text/plain": [
       "<Figure size 432x288 with 0 Axes>"
      ]
     },
     "execution_count": 4,
     "metadata": {},
     "output_type": "execute_result"
    },
    {
     "data": {
      "text/plain": [
       "<Figure size 432x288 with 0 Axes>"
      ]
     },
     "metadata": {},
     "output_type": "display_data"
    }
   ],
   "source": [
    "plt.figure()"
   ]
  },
  {
   "cell_type": "markdown",
   "metadata": {},
   "source": [
    "Ejecutando la sentencia anterior, se ha creado un contenedor de tipo figure vacio, ya que no hemos incluido aún ningun tipo de datos para realizar la gráfica.\n",
    "\n"
   ]
  },
  {
   "cell_type": "markdown",
   "metadata": {},
   "source": [
    "De la misma forma que hemos abierto un objeto de tipo figure, podemos cerrarlo. Ya sea para crear otros diferentes o porque no deseamos seguir trabajando con el.\n",
    "Para ello, haremos uso de la siguente instrucción:"
   ]
  },
  {
   "cell_type": "code",
   "execution_count": 5,
   "metadata": {},
   "outputs": [],
   "source": [
    "plt.close()"
   ]
  },
  {
   "cell_type": "markdown",
   "metadata": {},
   "source": [
    "Si en el campo no indicásemos que figura deseamos cerrar, se cerrará la última figura que tuvieramos activa."
   ]
  },
  {
   "cell_type": "markdown",
   "metadata": {},
   "source": [
    "## **Partes de la figura en Matplotlib** <a class=\"anchor\" id=\"section_1_3\"></a>"
   ]
  },
  {
   "cell_type": "markdown",
   "metadata": {},
   "source": [
    "![image.png](https://github.com/Adalab/data_imagenes/blob/main/Modulo-2/Visualizacion/partes_gráfica.jpg?raw=true)"
   ]
  },
  {
   "cell_type": "markdown",
   "metadata": {},
   "source": [
    "En la figura anterior, podemos ver las diferentes partes que puede tener una figura de Matplotlib:\n",
    "- Figura: Es todo lo contenido por el objeto **figure** de Matplotlib.\n",
    "- Título: El título que se mostrará con la gráfica al dibujarla.\n",
    "- Leyenda: Leyenda de la gráfica que mostrará los colores y nombres de las diferentes representraciones mostradas, líneas, puntos, etc.\n",
    "- Cuadrícula: Línea que mostrará una cuadricula por cada uno de los valores de los marcadores mayores.\n",
    "- Lomo: El lomo de la gráfica son las líneas que conforman los límites de las gráficas representadas.\n",
    "- Ejes X e Y: Los ejes de las gráficas, sobre los cuales se mostrarán los marcadores mayores y menores. \n",
    "- Etiqueta eje X e Y: Muestra el nombre de la variable representada en cada eje.\n",
    "- Marcador mayor: Muestra la división entre los valores que alcanzan las marcas de los datos.\n",
    "- Marcador menor: Muestra las subdivisiones entre cada una de las marcas mayores.\n",
    "- Etiqueta de marcador mayor y menor: Muestra el valor numérico asociado a cada marcador, ya sea el mayor o el menor.\n",
    "- Línea: Representación gráfica de los valores de una gráfica lineal.\n",
    "- Marcador: Puntos correspondientes a una gráfica de tipo dispersión."
   ]
  },
  {
   "cell_type": "markdown",
   "metadata": {},
   "source": [
    "En esta lección vamos a ver algunas de las diferentes gráficas que podemos realizar haciendo uso de Matplotlib."
   ]
  },
  {
   "cell_type": "markdown",
   "metadata": {},
   "source": [
    "## **Tipos de gráficas** <a class=\"anchor\" id=\"section_1_4\"></a>"
   ]
  },
  {
   "cell_type": "markdown",
   "metadata": {},
   "source": [
    "### **Gráficas básicas** <a class=\"anchor\" id=\"section_1_4_1\"></a>"
   ]
  },
  {
   "cell_type": "markdown",
   "metadata": {},
   "source": [
    "#### **Gráfica tipo gŕafica (Plot)** <a class=\"anchor\" id=\"section_1_4_1_1\"></a>"
   ]
  },
  {
   "cell_type": "markdown",
   "metadata": {},
   "source": [
    "Con las gráficas de tipo plot podemos realizar las llamadas gráfica lineales, en los cuales representamos los valores de una serie de puntos que poseen dos valores X e Y, que se unen para dibujar lo que muestren los puntos dibujados.\n",
    "\n",
    "Para ello siempre tendrémos que definir que valores tienen los puntos para los ejes X e Y.\n",
    "\n",
    "La forma general para la representacion de este tipo de gráficas será el siguente:\n",
    "\n",
    "```python\n",
    "X= lista de valores o array\n",
    "Y = lista de valores o array\n",
    "\n",
    "plt.figure()\n",
    "\n",
    "plt.plot(x,y)\n",
    "\n",
    "plt.show()\n",
    "```\n",
    "\n",
    "No tienen porque sér gráficas que representen una línea recta, a continuación mostraremos algunos ejemplos.\n",
    "\n"
   ]
  },
  {
   "cell_type": "code",
   "execution_count": 6,
   "metadata": {},
   "outputs": [
    {
     "data": {
      "image/png": "[encoded data removed]",
      "text/plain": [
       "<Figure size 432x288 with 1 Axes>"
      ]
     },
     "metadata": {
      "needs_background": "light"
     },
     "output_type": "display_data"
    }
   ],
   "source": [
    "# Vamos a crear una figura de uan recta definiendo los valores en X e Y, para lueg``\n",
    "\n",
    "plt.figure()\n",
    "\n",
    "x = [10, 20, 30, 40, 50]\n",
    "y = [50,100,150,200, 250]\n",
    "\n",
    "plt.plot(x, y)\n",
    "plt.show()\n"
   ]
  },
  {
   "cell_type": "code",
   "execution_count": 7,
   "metadata": {},
   "outputs": [
    {
     "data": {
      "image/png": "[encoded data removed]",
      "text/plain": [
       "<Figure size 432x288 with 1 Axes>"
      ]
     },
     "metadata": {
      "needs_background": "light"
     },
     "output_type": "display_data"
    }
   ],
   "source": [
    "# Vamos a crear una gráfica que nos dibuje una función seno(¿os acordais de trigonometría verdad?)\n",
    "\n",
    "plt.figure()\n",
    "\n",
    "x = np.linspace(0,5,100)\n",
    "y = np.sin(x)\n",
    "\n",
    "plt.plot(x, y)\n",
    "plt.show()\n"
   ]
  },
  {
   "cell_type": "markdown",
   "metadata": {},
   "source": [
    "**EJERCICIO 1**\n",
    "\n",
    "Crea una gráfica haciendo uso de **plot**, para representar dos arrays. El array del eje X debe ir de 0 a 6 y el array del eje Y debe ir de 0 a 250.\n",
    "\n",
    "Nota: Se recomienda hacer uso de la instruccion np.array()"
   ]
  },
  {
   "cell_type": "code",
   "execution_count": 8,
   "metadata": {},
   "outputs": [
    {
     "data": {
      "image/png": "[encoded data removed]",
      "text/plain": [
       "<Figure size 432x288 with 1 Axes>"
      ]
     },
     "metadata": {
      "needs_background": "light"
     },
     "output_type": "display_data"
    }
   ],
   "source": [
    "# Solución Ejercicio 1\n",
    "plt.figure()\n",
    "x = [0,1,2,3,4,5,6]\n",
    "y = [0,35,70,105,140,175,205]\n",
    "plt.plot(x,y)\n",
    "plt.show()\n"
   ]
  },
  {
   "cell_type": "markdown",
   "metadata": {},
   "source": [
    "**EJERCICIO 2**\n",
    "\n",
    "Crea una gráfica haciendo uso de **plot** y para los puntos de x e y utiliza la función np.random.rand() y piensa que es lo que está pudiendo pasar."
   ]
  },
  {
   "cell_type": "code",
   "execution_count": 14,
   "metadata": {},
   "outputs": [
    {
     "name": "stdout",
     "output_type": "stream",
     "text": [
      "None\n"
     ]
    },
    {
     "ename": "ValueError",
     "evalue": "x, y, and format string must not be None",
     "output_type": "error",
     "traceback": [
      "\u001b[0;31m---------------------------------------------------------------------------\u001b[0m",
      "\u001b[0;31mValueError\u001b[0m                                Traceback (most recent call last)",
      "\u001b[0;32m/tmp/ipykernel_403/2590658927.py\u001b[0m in \u001b[0;36m<module>\u001b[0;34m\u001b[0m\n\u001b[1;32m      7\u001b[0m \u001b[0my\u001b[0m \u001b[0;34m=\u001b[0m \u001b[0mnp\u001b[0m\u001b[0;34m.\u001b[0m\u001b[0mrandom\u001b[0m\u001b[0;34m.\u001b[0m\u001b[0mseed\u001b[0m\u001b[0;34m(\u001b[0m\u001b[0;36m7\u001b[0m\u001b[0;34m)\u001b[0m\u001b[0;34m\u001b[0m\u001b[0;34m\u001b[0m\u001b[0m\n\u001b[1;32m      8\u001b[0m \u001b[0mprint\u001b[0m\u001b[0;34m(\u001b[0m\u001b[0my\u001b[0m\u001b[0;34m)\u001b[0m\u001b[0;34m\u001b[0m\u001b[0;34m\u001b[0m\u001b[0m\n\u001b[0;32m----> 9\u001b[0;31m \u001b[0mplt\u001b[0m\u001b[0;34m.\u001b[0m\u001b[0mplot\u001b[0m\u001b[0;34m(\u001b[0m\u001b[0mx\u001b[0m\u001b[0;34m,\u001b[0m\u001b[0my\u001b[0m\u001b[0;34m)\u001b[0m\u001b[0;34m\u001b[0m\u001b[0;34m\u001b[0m\u001b[0m\n\u001b[0m\u001b[1;32m     10\u001b[0m \u001b[0mplt\u001b[0m\u001b[0;34m.\u001b[0m\u001b[0mshow\u001b[0m\u001b[0;34m(\u001b[0m\u001b[0;34m)\u001b[0m\u001b[0;34m\u001b[0m\u001b[0;34m\u001b[0m\u001b[0m\n",
      "\u001b[0;32m~/anaconda3/lib/python3.9/site-packages/matplotlib/pyplot.py\u001b[0m in \u001b[0;36mplot\u001b[0;34m(scalex, scaley, data, *args, **kwargs)\u001b[0m\n\u001b[1;32m   3017\u001b[0m \u001b[0;34m@\u001b[0m\u001b[0m_copy_docstring_and_deprecators\u001b[0m\u001b[0;34m(\u001b[0m\u001b[0mAxes\u001b[0m\u001b[0;34m.\u001b[0m\u001b[0mplot\u001b[0m\u001b[0;34m)\u001b[0m\u001b[0;34m\u001b[0m\u001b[0;34m\u001b[0m\u001b[0m\n\u001b[1;32m   3018\u001b[0m \u001b[0;32mdef\u001b[0m \u001b[0mplot\u001b[0m\u001b[0;34m(\u001b[0m\u001b[0;34m*\u001b[0m\u001b[0margs\u001b[0m\u001b[0;34m,\u001b[0m \u001b[0mscalex\u001b[0m\u001b[0;34m=\u001b[0m\u001b[0;32mTrue\u001b[0m\u001b[0;34m,\u001b[0m \u001b[0mscaley\u001b[0m\u001b[0;34m=\u001b[0m\u001b[0;32mTrue\u001b[0m\u001b[0;34m,\u001b[0m \u001b[0mdata\u001b[0m\u001b[0;34m=\u001b[0m\u001b[0;32mNone\u001b[0m\u001b[0;34m,\u001b[0m \u001b[0;34m**\u001b[0m\u001b[0mkwargs\u001b[0m\u001b[0;34m)\u001b[0m\u001b[0;34m:\u001b[0m\u001b[0;34m\u001b[0m\u001b[0;34m\u001b[0m\u001b[0m\n\u001b[0;32m-> 3019\u001b[0;31m     return gca().plot(\n\u001b[0m\u001b[1;32m   3020\u001b[0m         \u001b[0;34m*\u001b[0m\u001b[0margs\u001b[0m\u001b[0;34m,\u001b[0m \u001b[0mscalex\u001b[0m\u001b[0;34m=\u001b[0m\u001b[0mscalex\u001b[0m\u001b[0;34m,\u001b[0m \u001b[0mscaley\u001b[0m\u001b[0;34m=\u001b[0m\u001b[0mscaley\u001b[0m\u001b[0;34m,\u001b[0m\u001b[0;34m\u001b[0m\u001b[0;34m\u001b[0m\u001b[0m\n\u001b[1;32m   3021\u001b[0m         **({\"data\": data} if data is not None else {}), **kwargs)\n",
      "\u001b[0;32m~/anaconda3/lib/python3.9/site-packages/matplotlib/axes/_axes.py\u001b[0m in \u001b[0;36mplot\u001b[0;34m(self, scalex, scaley, data, *args, **kwargs)\u001b[0m\n\u001b[1;32m   1603\u001b[0m         \"\"\"\n\u001b[1;32m   1604\u001b[0m         \u001b[0mkwargs\u001b[0m \u001b[0;34m=\u001b[0m \u001b[0mcbook\u001b[0m\u001b[0;34m.\u001b[0m\u001b[0mnormalize_kwargs\u001b[0m\u001b[0;34m(\u001b[0m\u001b[0mkwargs\u001b[0m\u001b[0;34m,\u001b[0m \u001b[0mmlines\u001b[0m\u001b[0;34m.\u001b[0m\u001b[0mLine2D\u001b[0m\u001b[0;34m)\u001b[0m\u001b[0;34m\u001b[0m\u001b[0;34m\u001b[0m\u001b[0m\n\u001b[0;32m-> 1605\u001b[0;31m         \u001b[0mlines\u001b[0m \u001b[0;34m=\u001b[0m \u001b[0;34m[\u001b[0m\u001b[0;34m*\u001b[0m\u001b[0mself\u001b[0m\u001b[0;34m.\u001b[0m\u001b[0m_get_lines\u001b[0m\u001b[0;34m(\u001b[0m\u001b[0;34m*\u001b[0m\u001b[0margs\u001b[0m\u001b[0;34m,\u001b[0m \u001b[0mdata\u001b[0m\u001b[0;34m=\u001b[0m\u001b[0mdata\u001b[0m\u001b[0;34m,\u001b[0m \u001b[0;34m**\u001b[0m\u001b[0mkwargs\u001b[0m\u001b[0;34m)\u001b[0m\u001b[0;34m]\u001b[0m\u001b[0;34m\u001b[0m\u001b[0;34m\u001b[0m\u001b[0m\n\u001b[0m\u001b[1;32m   1606\u001b[0m         \u001b[0;32mfor\u001b[0m \u001b[0mline\u001b[0m \u001b[0;32min\u001b[0m \u001b[0mlines\u001b[0m\u001b[0;34m:\u001b[0m\u001b[0;34m\u001b[0m\u001b[0;34m\u001b[0m\u001b[0m\n\u001b[1;32m   1607\u001b[0m             \u001b[0mself\u001b[0m\u001b[0;34m.\u001b[0m\u001b[0madd_line\u001b[0m\u001b[0;34m(\u001b[0m\u001b[0mline\u001b[0m\u001b[0;34m)\u001b[0m\u001b[0;34m\u001b[0m\u001b[0;34m\u001b[0m\u001b[0m\n",
      "\u001b[0;32m~/anaconda3/lib/python3.9/site-packages/matplotlib/axes/_base.py\u001b[0m in \u001b[0;36m__call__\u001b[0;34m(self, data, *args, **kwargs)\u001b[0m\n\u001b[1;32m    313\u001b[0m                 \u001b[0mthis\u001b[0m \u001b[0;34m+=\u001b[0m \u001b[0margs\u001b[0m\u001b[0;34m[\u001b[0m\u001b[0;36m0\u001b[0m\u001b[0;34m]\u001b[0m\u001b[0;34m,\u001b[0m\u001b[0;34m\u001b[0m\u001b[0;34m\u001b[0m\u001b[0m\n\u001b[1;32m    314\u001b[0m                 \u001b[0margs\u001b[0m \u001b[0;34m=\u001b[0m \u001b[0margs\u001b[0m\u001b[0;34m[\u001b[0m\u001b[0;36m1\u001b[0m\u001b[0;34m:\u001b[0m\u001b[0;34m]\u001b[0m\u001b[0;34m\u001b[0m\u001b[0;34m\u001b[0m\u001b[0m\n\u001b[0;32m--> 315\u001b[0;31m             \u001b[0;32myield\u001b[0m \u001b[0;32mfrom\u001b[0m \u001b[0mself\u001b[0m\u001b[0;34m.\u001b[0m\u001b[0m_plot_args\u001b[0m\u001b[0;34m(\u001b[0m\u001b[0mthis\u001b[0m\u001b[0;34m,\u001b[0m \u001b[0mkwargs\u001b[0m\u001b[0;34m)\u001b[0m\u001b[0;34m\u001b[0m\u001b[0;34m\u001b[0m\u001b[0m\n\u001b[0m\u001b[1;32m    316\u001b[0m \u001b[0;34m\u001b[0m\u001b[0m\n\u001b[1;32m    317\u001b[0m     \u001b[0;32mdef\u001b[0m \u001b[0mget_next_color\u001b[0m\u001b[0;34m(\u001b[0m\u001b[0mself\u001b[0m\u001b[0;34m)\u001b[0m\u001b[0;34m:\u001b[0m\u001b[0;34m\u001b[0m\u001b[0;34m\u001b[0m\u001b[0m\n",
      "\u001b[0;32m~/anaconda3/lib/python3.9/site-packages/matplotlib/axes/_base.py\u001b[0m in \u001b[0;36m_plot_args\u001b[0;34m(self, tup, kwargs, return_kwargs)\u001b[0m\n\u001b[1;32m    460\u001b[0m         \u001b[0;31m# element array of None which causes problems downstream.\u001b[0m\u001b[0;34m\u001b[0m\u001b[0;34m\u001b[0m\u001b[0m\n\u001b[1;32m    461\u001b[0m         \u001b[0;32mif\u001b[0m \u001b[0many\u001b[0m\u001b[0;34m(\u001b[0m\u001b[0mv\u001b[0m \u001b[0;32mis\u001b[0m \u001b[0;32mNone\u001b[0m \u001b[0;32mfor\u001b[0m \u001b[0mv\u001b[0m \u001b[0;32min\u001b[0m \u001b[0mtup\u001b[0m\u001b[0;34m)\u001b[0m\u001b[0;34m:\u001b[0m\u001b[0;34m\u001b[0m\u001b[0;34m\u001b[0m\u001b[0m\n\u001b[0;32m--> 462\u001b[0;31m             \u001b[0;32mraise\u001b[0m \u001b[0mValueError\u001b[0m\u001b[0;34m(\u001b[0m\u001b[0;34m\"x, y, and format string must not be None\"\u001b[0m\u001b[0;34m)\u001b[0m\u001b[0;34m\u001b[0m\u001b[0;34m\u001b[0m\u001b[0m\n\u001b[0m\u001b[1;32m    463\u001b[0m \u001b[0;34m\u001b[0m\u001b[0m\n\u001b[1;32m    464\u001b[0m         \u001b[0mkw\u001b[0m \u001b[0;34m=\u001b[0m \u001b[0;34m{\u001b[0m\u001b[0;34m}\u001b[0m\u001b[0;34m\u001b[0m\u001b[0;34m\u001b[0m\u001b[0m\n",
      "\u001b[0;31mValueError\u001b[0m: x, y, and format string must not be None"
     ]
    },
    {
     "data": {
      "image/png": "[encoded data removed]",
      "text/plain": [
       "<Figure size 432x288 with 1 Axes>"
      ]
     },
     "metadata": {
      "needs_background": "light"
     },
     "output_type": "display_data"
    }
   ],
   "source": [
    "# Solucion Ejercicio 2\n",
    "\n",
    "np.random.seed(42) # Utiliza esto para la semilla de la creción de números aleatorios.\n",
    "\n",
    "plt.figure()\n",
    "x = [0,1,2,3,4,5,6]\n",
    "y = np.random.seed(7)\n",
    "print(y)\n",
    "plt.plot(x,y)\n",
    "plt.show()\n"
   ]
  },
  {
   "cell_type": "markdown",
   "metadata": {},
   "source": [
    "#### **Diagramas de tipo barras  (Bar plots)** <a class=\"anchor\" id=\"section_1_4_1_2\"></a>"
   ]
  },
  {
   "cell_type": "markdown",
   "metadata": {},
   "source": [
    "Vamos ahora a explicar las llamadas gráfica de barras, este tipo de gráficas nos permiten mostrar gráficamente unos valores o conjuntos de datos haciendo uso de barras rectanguilares cuya longitud es proporcional a los valores representados.\n",
    "Son muy útiles por ejemplo para contar el número de veces que se repite un valor numérico o para ver como se agrupan los datos por categorías.\n",
    "\n",
    "Existen diferentes tipos de diagramas de barras:\n",
    "- Diagrama de barras\n",
    "- Diagrama de barras horizontal\n",
    "- Diagrma de barras apiladas"
   ]
  },
  {
   "cell_type": "markdown",
   "metadata": {},
   "source": [
    "##### **Gráfica de tipo barras (Bar plot)** <a class=\"anchor\" id=\"section_1_4_1_2_1\"></a>"
   ]
  },
  {
   "cell_type": "markdown",
   "metadata": {},
   "source": [
    "Para realizar un diagrama de barras empleamos la siguente sintaxis:\n",
    "\n",
    "Donde en este caso:\n",
    "- x : Son los diferentes valores de las barras.\n",
    "- y (o heigth): Es la altura de cada una de las barras.\n",
    "\n",
    "La forma general para la representacion de este tipo de gráficas será el siguente:\n",
    "\n",
    "```python\n",
    "X= lista de valores o array \n",
    "Y = lista de valores o array\n",
    "\n",
    "plt.figure()d\n",
    "\n",
    "plt.bar(x,y)\n",
    "\n",
    "plt.show()\n",
    "```"
   ]
  },
  {
   "cell_type": "markdown",
   "metadata": {},
   "source": [
    "En el siguente ejemplo imaginamos que tenemos una lista de edades de alumnas y queremos saber cuantas alunmas tenemos por cada edad, de esta forma podríamos utilizar una gráfica de barras para conocerlo.\n",
    "\n",
    "De esta forma:"
   ]
  },
  {
   "cell_type": "code",
   "execution_count": 10,
   "metadata": {},
   "outputs": [
    {
     "data": {
      "image/png": "[encoded data removed]",
      "text/plain": [
       "<Figure size 432x288 with 1 Axes>"
      ]
     },
     "metadata": {
      "needs_background": "light"
     },
     "output_type": "display_data"
    }
   ],
   "source": [
    "x= [5,6,10,15,15,6,20, 27, 30, 5, 21,30] # edades\n",
    "y = [15, 21, 25, 9, 20, 23, 26, 12, 11, 19, 16, 24] # numero de personas por esa edad\n",
    "\n",
    "plt.figure()\n",
    "\n",
    "plt.bar(x,y)\n",
    "\n",
    "plt.show()\n"
   ]
  },
  {
   "cell_type": "markdown",
   "metadata": {},
   "source": [
    "Si ahora realizamos lo mismo con una varaible que sea categórica, por ejemplo queremos saber tenemos una serie de notas y queremos saber la cantidad de alunmas por nota obtenida."
   ]
  },
  {
   "cell_type": "code",
   "execution_count": 11,
   "metadata": {},
   "outputs": [
    {
     "data": {
      "image/png": "[encoded data removed]",
      "text/plain": [
       "<Figure size 432x288 with 1 Axes>"
      ]
     },
     "metadata": {
      "needs_background": "light"
     },
     "output_type": "display_data"
    }
   ],
   "source": [
    "x= ['Suspenso','Aprobado', 'Notable','Sobresaliente'] # edades\n",
    "y = [1,5,4,2] # numero de personas por esa edad\n",
    "\n",
    "plt.figure()\n",
    "\n",
    "plt.bar(x,y)\n",
    "\n",
    "plt.show()"
   ]
  },
  {
   "cell_type": "markdown",
   "metadata": {},
   "source": [
    "Como se puede ver de un vistazo rápido somos capaces de discernir en número de alumnas por cada una de las categorñias representadas."
   ]
  },
  {
   "cell_type": "markdown",
   "metadata": {},
   "source": [
    "De la misma forma tambien podemos realizar diagramas de barras con más una agrupación, de forma que estas se dibujen una al lado de la otra. Vamos a mostrar esto con un ejemplo."
   ]
  },
  {
   "cell_type": "code",
   "execution_count": 12,
   "metadata": {},
   "outputs": [
    {
     "ename": "TypeError",
     "evalue": "set_ticks() takes 2 positional arguments but 3 were given",
     "output_type": "error",
     "traceback": [
      "\u001b[0;31m---------------------------------------------------------------------------\u001b[0m",
      "\u001b[0;31mTypeError\u001b[0m                                 Traceback (most recent call last)",
      "\u001b[0;32m/tmp/ipykernel_403/978769805.py\u001b[0m in \u001b[0;36m<module>\u001b[0;34m\u001b[0m\n\u001b[1;32m     11\u001b[0m \u001b[0;34m\u001b[0m\u001b[0m\n\u001b[1;32m     12\u001b[0m \u001b[0;31m# Add some text for labels, title and custom x-axis tick labels, etc.\u001b[0m\u001b[0;34m\u001b[0m\u001b[0;34m\u001b[0m\u001b[0m\n\u001b[0;32m---> 13\u001b[0;31m \u001b[0max\u001b[0m\u001b[0;34m.\u001b[0m\u001b[0mset_xticks\u001b[0m\u001b[0;34m(\u001b[0m\u001b[0mx\u001b[0m\u001b[0;34m,\u001b[0m\u001b[0mlabels\u001b[0m\u001b[0;34m)\u001b[0m\u001b[0;34m\u001b[0m\u001b[0;34m\u001b[0m\u001b[0m\n\u001b[0m\u001b[1;32m     14\u001b[0m \u001b[0max\u001b[0m\u001b[0;34m.\u001b[0m\u001b[0mlegend\u001b[0m\u001b[0;34m(\u001b[0m\u001b[0;34m)\u001b[0m\u001b[0;34m\u001b[0m\u001b[0;34m\u001b[0m\u001b[0m\n\u001b[1;32m     15\u001b[0m \u001b[0;34m\u001b[0m\u001b[0m\n",
      "\u001b[0;32m~/anaconda3/lib/python3.9/site-packages/matplotlib/axes/_base.py\u001b[0m in \u001b[0;36mwrapper\u001b[0;34m(self, *args, **kwargs)\u001b[0m\n\u001b[1;32m     71\u001b[0m \u001b[0;34m\u001b[0m\u001b[0m\n\u001b[1;32m     72\u001b[0m         \u001b[0;32mdef\u001b[0m \u001b[0mwrapper\u001b[0m\u001b[0;34m(\u001b[0m\u001b[0mself\u001b[0m\u001b[0;34m,\u001b[0m \u001b[0;34m*\u001b[0m\u001b[0margs\u001b[0m\u001b[0;34m,\u001b[0m \u001b[0;34m**\u001b[0m\u001b[0mkwargs\u001b[0m\u001b[0;34m)\u001b[0m\u001b[0;34m:\u001b[0m\u001b[0;34m\u001b[0m\u001b[0;34m\u001b[0m\u001b[0m\n\u001b[0;32m---> 73\u001b[0;31m             \u001b[0;32mreturn\u001b[0m \u001b[0mget_method\u001b[0m\u001b[0;34m(\u001b[0m\u001b[0mself\u001b[0m\u001b[0;34m)\u001b[0m\u001b[0;34m(\u001b[0m\u001b[0;34m*\u001b[0m\u001b[0margs\u001b[0m\u001b[0;34m,\u001b[0m \u001b[0;34m**\u001b[0m\u001b[0mkwargs\u001b[0m\u001b[0;34m)\u001b[0m\u001b[0;34m\u001b[0m\u001b[0;34m\u001b[0m\u001b[0m\n\u001b[0m\u001b[1;32m     74\u001b[0m \u001b[0;34m\u001b[0m\u001b[0m\n\u001b[1;32m     75\u001b[0m         \u001b[0mwrapper\u001b[0m\u001b[0;34m.\u001b[0m\u001b[0m__module__\u001b[0m \u001b[0;34m=\u001b[0m \u001b[0mowner\u001b[0m\u001b[0;34m.\u001b[0m\u001b[0m__module__\u001b[0m\u001b[0;34m\u001b[0m\u001b[0;34m\u001b[0m\u001b[0m\n",
      "\u001b[0;31mTypeError\u001b[0m: set_ticks() takes 2 positional arguments but 3 were given"
     ]
    },
    {
     "data": {
      "image/png": "[encoded data removed]",
      "text/plain": [
       "<Figure size 432x288 with 1 Axes>"
      ]
     },
     "metadata": {
      "needs_background": "light"
     },
     "output_type": "display_data"
    }
   ],
   "source": [
    "labels = ['Suspenso', 'Aprobado', 'Notable', 'Sobresaliente']\n",
    "y1 = [1,5,4,2]\n",
    "y2 = [7,2,3,6]\n",
    "\n",
    "x = np.arange(len(labels))  # the label locations\n",
    "width = 0.35  # the width of the bars\n",
    "\n",
    "fig, ax = plt.subplots()\n",
    "rects1 = ax.bar(x - width/2, y1, width, label='Grupo A')\n",
    "rects2 = ax.bar(x + width/2, y2, width, label='Grupo b')\n",
    "\n",
    "# Add some text for labels, title and custom x-axis tick labels, etc.\n",
    "ax.set_xticks(x,labels)\n",
    "ax.legend()\n",
    "\n",
    "fig.tight_layout()\n",
    "\n",
    "plt.show()"
   ]
  },
  {
   "cell_type": "markdown",
   "metadata": {},
   "source": [
    "**EJERCICIO 3**\n",
    "\n",
    "Para el dataset df_iris, haz un barplot mostrando los diferentes valores de las longitudes.\n",
    "\n",
    "Pista: Utiliza la siguente instruccion para hacerte la más sencilla y contar el número que tenemos para cada especie de flor.\n",
    "\n",
    "df_iris['species'].value_counts()\n"
   ]
  },
  {
   "cell_type": "code",
   "execution_count": null,
   "metadata": {},
   "outputs": [
    {
     "data": {
      "text/html": [
       "<div>\n",
       "<style scoped>\n",
       "    .dataframe tbody tr th:only-of-type {\n",
       "        vertical-align: middle;\n",
       "    }\n",
       "\n",
       "    .dataframe tbody tr th {\n",
       "        vertical-align: top;\n",
       "    }\n",
       "\n",
       "    .dataframe thead th {\n",
       "        text-align: right;\n",
       "    }\n",
       "</style>\n",
       "<table border=\"1\" class=\"dataframe\">\n",
       "  <thead>\n",
       "    <tr style=\"text-align: right;\">\n",
       "      <th></th>\n",
       "      <th>sepal_length</th>\n",
       "      <th>sepal_width</th>\n",
       "      <th>petal_length</th>\n",
       "      <th>petal_width</th>\n",
       "      <th>species</th>\n",
       "    </tr>\n",
       "  </thead>\n",
       "  <tbody>\n",
       "    <tr>\n",
       "      <th>0</th>\n",
       "      <td>5.1</td>\n",
       "      <td>3.5</td>\n",
       "      <td>1.4</td>\n",
       "      <td>0.2</td>\n",
       "      <td>setosa</td>\n",
       "    </tr>\n",
       "    <tr>\n",
       "      <th>1</th>\n",
       "      <td>4.9</td>\n",
       "      <td>3.0</td>\n",
       "      <td>1.4</td>\n",
       "      <td>0.2</td>\n",
       "      <td>setosa</td>\n",
       "    </tr>\n",
       "    <tr>\n",
       "      <th>2</th>\n",
       "      <td>4.7</td>\n",
       "      <td>3.2</td>\n",
       "      <td>1.3</td>\n",
       "      <td>0.2</td>\n",
       "      <td>setosa</td>\n",
       "    </tr>\n",
       "    <tr>\n",
       "      <th>3</th>\n",
       "      <td>4.6</td>\n",
       "      <td>3.1</td>\n",
       "      <td>1.5</td>\n",
       "      <td>0.2</td>\n",
       "      <td>setosa</td>\n",
       "    </tr>\n",
       "    <tr>\n",
       "      <th>4</th>\n",
       "      <td>5.0</td>\n",
       "      <td>3.6</td>\n",
       "      <td>1.4</td>\n",
       "      <td>0.2</td>\n",
       "      <td>setosa</td>\n",
       "    </tr>\n",
       "  </tbody>\n",
       "</table>\n",
       "</div>"
      ],
      "text/plain": [
       "   sepal_length  sepal_width  petal_length  petal_width species\n",
       "0           5.1          3.5           1.4          0.2  setosa\n",
       "1           4.9          3.0           1.4          0.2  setosa\n",
       "2           4.7          3.2           1.3          0.2  setosa\n",
       "3           4.6          3.1           1.5          0.2  setosa\n",
       "4           5.0          3.6           1.4          0.2  setosa"
      ]
     },
     "execution_count": 23,
     "metadata": {},
     "output_type": "execute_result"
    }
   ],
   "source": [
    "# # Solucion Ejercicio 3\n",
    "# df_iris.head()\n",
    "# df_iris['species'].value_counts()\n",
    "# labels = [\"setosa\", \"versicolor\", \"virginica\"]\n",
    "y1 =\n",
    "y2\n",
    "y3 \n",
    "# plt.figure()\n",
    "x = np.arange(len(labels))\n",
    "width = 0.35\n",
    "\n",
    "fig, ax = plt.subplots()\n",
    "rects1 = ax.bar(x - width/2, y1, width, label = 'setosa')\n",
    "rects2 = ax.bar(x - width/2, y2, width, label = 'versicolor')\n",
    "rects3 = ax.bar(x - width/2, y3, width, label = 'virginica')\n",
    "\n",
    "ax.set_xticks(x, labels)\n",
    "ax.legend()\n",
    "\n",
    "fig.tight_layout()\n",
    "\n",
    "plt.show()"
   ]
  },
  {
   "cell_type": "markdown",
   "metadata": {},
   "source": [
    "##### **Diagrama de barras horizontales (Horizontal bar plot)** <a class=\"anchor\" id=\"section_1_4_1_2_2\"></a>\n",
    "\n",
    "Los diagramas de barras horizontales son iguales los diagramas de barras anteriores, solo que en este caso la orientacion es horizontal, en lugar de vertical. Se puede utilizar ambos estilos de forma indistinta.\n",
    "\n",
    "La sintaxis general es la siguente:\n",
    "\n",
    "Donde en este caso:\n",
    "- x: Son los diferentes valores de las barras.\n",
    "- y  o heigth): Es la altura de cada una de las barras.\n",
    "\n",
    "La forma general para la representacion de este tipo de gráficas será el siguente:\n",
    "\n",
    "```python\n",
    "X= lista de valores o array \n",
    "Y = lista de valores o array\n",
    "\n",
    "plt.figure()d\n",
    "\n",
    "plt.barh(x,y)\n",
    "\n",
    "plt.show()\n",
    "```\n",
    "\n",
    "Básicamente hemos cambiado **bar()** por **hbar()**."
   ]
  },
  {
   "cell_type": "markdown",
   "metadata": {},
   "source": [
    "Si utilizamos el ejemplo de las notas de las alumnas utilizado en el apartado anterior, pero haciendo uso de las barras hortizontales:\n"
   ]
  },
  {
   "cell_type": "code",
   "execution_count": null,
   "metadata": {},
   "outputs": [
    {
     "data": {
      "image/png": "[encoded data removed]",
      "text/plain": [
       "<Figure size 432x288 with 1 Axes>"
      ]
     },
     "metadata": {
      "needs_background": "light"
     },
     "output_type": "display_data"
    }
   ],
   "source": [
    "x= ['Suspenso','Aprobado', 'Notable','Sobresaliente'] # edades\n",
    "y = [1,5,4,2] # numero de personas por esa edad\n",
    "\n",
    "plt.figure()\n",
    "\n",
    "plt.barh(x,y)\n",
    "\n",
    "plt.show()\n"
   ]
  },
  {
   "cell_type": "markdown",
   "metadata": {},
   "source": [
    "**EJERCICIO 4**\n",
    "\n",
    "Repite la gráfica del ejericicio 3, aunque en esta ocasíon haz que las barras se muestren de forma horizontal."
   ]
  },
  {
   "cell_type": "code",
   "execution_count": null,
   "metadata": {},
   "outputs": [],
   "source": [
    "# Solucion Ejercicio 4"
   ]
  },
  {
   "cell_type": "markdown",
   "metadata": {},
   "source": [
    "#### **Diagrama de barras apiladas (Staked bar plot)** <a class=\"anchor\" id=\"section_1_4_1_2_3\"></a>\n",
    "\n",
    "Finalmente vamos a ver podemos realizar diagramas de barras con más una agrupación, como ya he mostrado en un apartado anterior, solo que ahora en lugar de que estas se dibujen una al lado de la otra, vamos a hacer que se apilen una encima de la otra. \n",
    "\n",
    "Es otra forma de mostrar diagramas de barras cuando tenemos más de una agrupacion.\n",
    "\n",
    "La sintaxis general para este tipo de gráficas es:\n",
    "\n",
    "\n",
    "Donde en este caso:\n",
    "- x : Son los diferentes valores de las barras de la primera agrupacion\n",
    "- y (o heigth): Es la altura de cada una de las barras de la primera agrupacion\n",
    "\n",
    "- x2: Son los diferentes valores de las barras de la segunda agrupación\n",
    "- y2: Son los diferentes valores de las barras de la seguunda agrupacion\n",
    "\n",
    "La forma general para la representacion de este tipo de gráficas será el siguente:\n",
    "\n",
    "```python\n",
    "x= lista de valores o array \n",
    "y = lista de valores o array\n",
    "\n",
    "x2= lista de valores o array \n",
    "y2 = lista de valores o array\n",
    "\n",
    "plt.figure()d\n",
    "\n",
    "plt.bar(x,y, label = 'Grupo 1')\n",
    "plt.bar(x2,y2, bottom = x, label='Grupo 2')\n",
    "\n",
    "plt.show()\n",
    "```\n",
    "\n",
    "Vamos a ilustrar como realizarlo con el siguente ejemplo:"
   ]
  },
  {
   "cell_type": "code",
   "execution_count": null,
   "metadata": {},
   "outputs": [
    {
     "data": {
      "image/png": "[encoded data removed]",
      "text/plain": [
       "<Figure size 432x288 with 1 Axes>"
      ]
     },
     "metadata": {
      "needs_background": "light"
     },
     "output_type": "display_data"
    }
   ],
   "source": [
    "x= ['Suspenso','Aprobado', 'Notable','Sobresaliente'] # edades\n",
    "fig, ax = plt.subplots()\n",
    "y = [1,5,4,2] # numero de personas por esa edad\n",
    "y2 = [7,2,3,6]\n",
    "\n",
    "\n",
    "plt.bar(x,y, label = 'grupo A')\n",
    "plt.bar(x,y2, bottom= y,label = 'grupo B')\n",
    "ax.legend()\n",
    "plt.show()"
   ]
  },
  {
   "cell_type": "markdown",
   "metadata": {},
   "source": [
    "Como se puede ver ahora se muestra una grafica de barras apilada sobre la otra. Fijate que como ambos diagramas de barras utilizan la misma variable del eje X, la hemos reutilizado para la realización del segundo gráfico de barras."
   ]
  },
  {
   "cell_type": "markdown",
   "metadata": {},
   "source": [
    "#### EJERCICIO 5\n",
    "Tenemos datos de hombres y mujeres por edades, obten el diagrama de barras apiladas.\n",
    "\n",
    "Edades hombres: 29, 29, 24, 17, 13,  7, 11, 10, 12, 13,  9,  5, 23, 14, 16\n",
    "Edades mujeres: 5,  11, 23,  6, 25, 16, 10, 27,  8, 27, 15, 29, 21, 10, 28"
   ]
  },
  {
   "cell_type": "code",
   "execution_count": null,
   "metadata": {},
   "outputs": [],
   "source": [
    "# Solucion Ejercicio 5"
   ]
  },
  {
   "cell_type": "markdown",
   "metadata": {},
   "source": [
    "#### **Gráfica de dispersión (Scatter plot)** <a class=\"anchor\" id=\"section_1_4_1_3\"></a>"
   ]
  },
  {
   "cell_type": "markdown",
   "metadata": {},
   "source": [
    "Las gráficas de dispersión se utilizan normalmente para representar los valores de dos pares de datos y de esta forma estudiar las posibles relaciones que pueden existir entre ambas variables.\n",
    "\n",
    "Ya que en función de la forma que describa la nube de puntos se puede extraer como de correlacionadas (como de relacionadas) estan ambas variables. Si la gráfica de dispersion forman casi una línea recta, esto implicaría que ambas variables estan posiblemente relacionadas.\n",
    "\n",
    "Por otro lado, si no intuimos ninguna forma y estan distribuidos por todos lados, muy probablemente ambas variables no estarán relacionadas.\n",
    "\n",
    "\n",
    "La forma general de realizar un gráfico de dispersión es el siguente:\n",
    "\n",
    "```python\n",
    "X= lista de valores, array o variable\n",
    "Y = lista de valores, array o variable\n",
    "\n",
    "plt.figure()\n",
    "\n",
    "plt.scatter(x,y)\n",
    "\n",
    "plt.show()\n",
    "```"
   ]
  },
  {
   "cell_type": "markdown",
   "metadata": {},
   "source": [
    "Vamos ahora a representar un gráfico de dispersion utilizando una serie de puntos creados de forma aleatoria, para ambas variables."
   ]
  },
  {
   "cell_type": "code",
   "execution_count": null,
   "metadata": {},
   "outputs": [
    {
     "data": {
      "image/png": "[encoded data removed]",
      "text/plain": [
       "<Figure size 432x288 with 1 Axes>"
      ]
     },
     "metadata": {
      "needs_background": "light"
     },
     "output_type": "display_data"
    }
   ],
   "source": [
    "x =np.random.randn(100)\n",
    "y = np.random.randn(100) \n",
    "plt.figure()\n",
    "\n",
    "plt.scatter(x,y)\n",
    "plt.show()\n"
   ]
  },
  {
   "cell_type": "markdown",
   "metadata": {},
   "source": [
    "Como podemos observar los puntos se distribuyen uniformemente para toda la gráfica, de esto podríamos extraer que ambos conjuntos de valores no estan correlacionados."
   ]
  },
  {
   "cell_type": "markdown",
   "metadata": {},
   "source": [
    "Vamos a mostrar ahora otro ejemplo donde vamos a forzar a los valores, a que estén relacionados."
   ]
  },
  {
   "cell_type": "code",
   "execution_count": null,
   "metadata": {},
   "outputs": [
    {
     "data": {
      "image/png": "[encoded data removed]",
      "text/plain": [
       "<Figure size 432x288 with 1 Axes>"
      ]
     },
     "metadata": {
      "needs_background": "light"
     },
     "output_type": "display_data"
    }
   ],
   "source": [
    "x =np.random.randn(100)\n",
    "y = x + np.random.randn(100) /5\n",
    "\n",
    "plt.figure()\n",
    "plt.scatter(x,y)\n",
    "plt.show()"
   ]
  },
  {
   "cell_type": "markdown",
   "metadata": {},
   "source": [
    "Como se puede observar ahora si que podemos ver una tendencia clara entre ambos conjuntos de puntos. En este caso se ha obtenido la relacion de forma artificial, ya que para los valores de el eje y, hemos utilizado la ecuación lineal para obtener dichos puntos.\n",
    "\n",
    "Esto implica que ambos conjuntos de valores están correlacionados, ya que hemos usado unos valores, para crear los otros."
   ]
  },
  {
   "cell_type": "markdown",
   "metadata": {},
   "source": [
    "### EJERCICIO 6\n",
    "\n",
    "Haciendo uso de nuevo del dataset **df_iris**, obten el gráfico de disperson para las variables 'sepal length (cm)', 'sepal width (cm)' y explica si vés algun tipo de patrón en la gráfica."
   ]
  },
  {
   "cell_type": "code",
   "execution_count": null,
   "metadata": {},
   "outputs": [],
   "source": [
    "# Solucion Ejercicio 6"
   ]
  },
  {
   "cell_type": "markdown",
   "metadata": {},
   "source": [
    "### EJERCICIO 7\n",
    "\n",
    "Haciendo uso de nuevo del dataset **df_iris**, obten el gráfico de disperson para las variables 'sepal length (cm)', 'sepal width (cm)' y aunque ahora unicamente dibuja aquellos valores correspondientes a la 'species' == 'setosa'\n",
    "\n",
    "Nota: Para filtrar los datasets podemos utilizar la siguente sintaxis:\n",
    "\n",
    "nombre_dataset[nombre_dataset['variable'] == condicion_variable][variable]"
   ]
  },
  {
   "cell_type": "code",
   "execution_count": null,
   "metadata": {},
   "outputs": [],
   "source": [
    "# Solucion Ejercicio 7"
   ]
  },
  {
   "cell_type": "markdown",
   "metadata": {},
   "source": [
    "## **Gráficas Estadísitcas** <a class=\"anchor\" id=\"section_1_4_2\"></a>"
   ]
  },
  {
   "cell_type": "markdown",
   "metadata": {},
   "source": [
    "Vamos a proceder ahora a explicar una serie de gráficas muy útiles para extraer información estadística de las variables con la que estamos trabajando.\n"
   ]
  },
  {
   "cell_type": "markdown",
   "metadata": {},
   "source": [
    "### **Gráficas de tipo histograma (Histogram plot)** <a class=\"anchor\" id=\"section_1_4_2_1\"></a>"
   ]
  },
  {
   "cell_type": "markdown",
   "metadata": {},
   "source": [
    "Los histogramas son gráficas utilizas para mostrar las frecuencias de una distribución de datos. Dicho de otra forma, nos permite ver el número de veces que se repite un mismo número de  para un conjunto de datos, así como ver que valores son los más comunes.\n",
    "\n",
    "La sintaxis general para este tipo de gráficas es el siguente:\n",
    "\n",
    "```python\n",
    "x = lista de valores, array o variable\n",
    "\n",
    "\n",
    "plt.figure()\n",
    "\n",
    "plt.hist( x = datos)\n",
    "\n",
    "plt.show()\n",
    "```\n",
    "\n",
    "Nota: Para personalizar el tamaño de los bins, podemos introducir el valor desado, añadiendo dentro de plt.hist(x=, bins =[]). Donde bins puede ser un valor entero o una lista de los diferentes bins disponibles.\n"
   ]
  },
  {
   "cell_type": "markdown",
   "metadata": {},
   "source": [
    "Imaginemos ahora que tenemos un conjunto de datos que representa una lista de edades de personas, si ahora quisieramos ver cuantas personas tenemos por cada edad de la lista, podriamos utilizar un histograma para obtener una gráfica que nos facilitase esta información."
   ]
  },
  {
   "cell_type": "code",
   "execution_count": null,
   "metadata": {},
   "outputs": [
    {
     "data": {
      "image/png": "[encoded data removed]",
      "text/plain": [
       "<Figure size 432x288 with 1 Axes>"
      ]
     },
     "metadata": {
      "needs_background": "light"
     },
     "output_type": "display_data"
    }
   ],
   "source": [
    "np.random.seed(42)\n",
    "x = np.random.normal(50, 10, 100)\n",
    "\n",
    "plt.hist(x = x, ec= 'black')\n",
    "plt.show() "
   ]
  },
  {
   "cell_type": "markdown",
   "metadata": {},
   "source": [
    "Como podemos extraer de la gráfica anteior, podemos ver que la edad más comun de la lista sería 55 años, así como que no tenemos a nadie mayor de 70 o menor de 20 años."
   ]
  },
  {
   "cell_type": "markdown",
   "metadata": {},
   "source": [
    "#### EJERCICIO 8\n",
    "\n",
    "Obtén el histograma del 'Sepal length (cm)' para el dataset df_iris y exlica algunas de las conclusiones que se pueden extraer del mismo."
   ]
  },
  {
   "cell_type": "code",
   "execution_count": null,
   "metadata": {},
   "outputs": [],
   "source": [
    "# Solucion Ejercicio 8"
   ]
  },
  {
   "cell_type": "markdown",
   "metadata": {},
   "source": [
    "### **Diagrama de cajas (Boxplot)** <a class=\"anchor\" id=\"section_1_4_2_2\"></a>"
   ]
  },
  {
   "cell_type": "markdown",
   "metadata": {},
   "source": [
    "Vamos a explicar ahora otrá gráfica muy utilizada para estudiar las caracterísitcas de una variable.\n",
    "Las llamadas boxplot, estas gráficas son muy útiles ya que nos permiten obtener muchísima información en un mismo gráfico. \n",
    "Nos proporciona la siguente informacion:\n",
    "- Media\n",
    "- Mínimo y máximo\n",
    "- Cuartiles\n",
    "- Rango\n",
    "- Datos atípicos\n",
    "\n",
    "La sintaxis general para obtener los boxplots son la siguente:\n",
    "\n",
    "```python\n",
    "x= lista de valores, array o variable\n",
    "\n",
    "plt.figure()\n",
    "\n",
    "plt.boxplot(x)\n",
    "\n",
    "plt.show()\n",
    "```"
   ]
  },
  {
   "cell_type": "markdown",
   "metadata": {},
   "source": [
    "Tomamos el ejemplo anterior de los datos de las edades, solo que ahora tenemos una lista de 1000 edades diferentes"
   ]
  },
  {
   "cell_type": "code",
   "execution_count": null,
   "metadata": {},
   "outputs": [
    {
     "data": {
      "image/png": "[encoded data removed]",
      "text/plain": [
       "<Figure size 432x288 with 1 Axes>"
      ]
     },
     "metadata": {
      "needs_background": "light"
     },
     "output_type": "display_data"
    }
   ],
   "source": [
    "np.random.seed(42)\n",
    "x = np.random.normal(50, 10, 1000)\n",
    "plt.boxplot(x)\n",
    "plt.show()"
   ]
  },
  {
   "cell_type": "markdown",
   "metadata": {},
   "source": [
    "Veamos ahora que elementos forman parte de un diagráma de caja:"
   ]
  },
  {
   "cell_type": "markdown",
   "metadata": {},
   "source": [
    "![image.png](https://github.com/Adalab/data_imagenes/blob/main/Modulo-2/Visualizacion/boxplot.png?raw=true)"
   ]
  },
  {
   "cell_type": "markdown",
   "metadata": {},
   "source": [
    "De la imagen anterior podemos ver las diferentes partes que forman un diagrama de tipo caja.\n",
    "\n",
    "Vamos ahora a explicarlos brevemente:\n",
    "\n",
    "- Mediana: La línea de color naranja, es el valor central del conjunto de datos. Es aquel valor que tiene por detras y por delante de el, el 50 % del resto de los datos. Tambien llamado Q2 o segundo cuartil.\n",
    "- Mínimo y máximo: Las líneas que se extienden fuera del dibujo central y crea los llamados \"bigotes\"\n",
    "- Cuartiles:\n",
    "    - Q1 o 1er Cuartil: El 25 % de los datos es menor que o igual a este valor.\n",
    "    - Q3 o 3er cuattil: El 75% de los datos es menor o igual a este valor.\n",
    "- Rango intercuatílico: Diferencia entre el Q3 y Q1.\n",
    "- Datos atípicos: Datos extremos que se encuentran muy alejados de la mediana o del Q1 o Q3. Estos son de especial interes, ya que pueden implicar que son datos incorrectos o datos interesantes de estudiar, ya que se alejan del resto de los datos.\n"
   ]
  },
  {
   "cell_type": "markdown",
   "metadata": {},
   "source": [
    "Un boxplot no tiene que limitarse a un solo valor, se puede realizar para los diferentes valores de una variable."
   ]
  },
  {
   "cell_type": "markdown",
   "metadata": {},
   "source": [
    "#### EJERCICIO 9\n",
    "\n",
    "Obtene el boxplot para las diferentes variables de dataset **df_iris**.\n",
    "Recordatorio: No se puede realizar un boxplot para las varaibles de tipo categórico."
   ]
  },
  {
   "cell_type": "code",
   "execution_count": 15,
   "metadata": {},
   "outputs": [
    {
     "data": {
      "text/plain": [
       "{'whiskers': [<matplotlib.lines.Line2D at 0x7ff6f5bd7760>,\n",
       "  <matplotlib.lines.Line2D at 0x7ff6f5bd7af0>],\n",
       " 'caps': [<matplotlib.lines.Line2D at 0x7ff6f5bd7e80>,\n",
       "  <matplotlib.lines.Line2D at 0x7ff6f5be4250>],\n",
       " 'boxes': [<matplotlib.lines.Line2D at 0x7ff6f5bd73d0>],\n",
       " 'medians': [<matplotlib.lines.Line2D at 0x7ff6f5be45e0>],\n",
       " 'fliers': [<matplotlib.lines.Line2D at 0x7ff6f5be4970>],\n",
       " 'means': []}"
      ]
     },
     "execution_count": 15,
     "metadata": {},
     "output_type": "execute_result"
    },
    {
     "data": {
      "image/png": "[encoded data removed]",
      "text/plain": [
       "<Figure size 432x288 with 1 Axes>"
      ]
     },
     "metadata": {
      "needs_background": "light"
     },
     "output_type": "display_data"
    }
   ],
   "source": [
    "# Solucion Ejercicio 9\n",
    "plt.figure()\n",
    "plt.boxplot(df_iris.loc[:, 'sepal_width'])\n",
    "plt.show()                  #habría que hacer para cada vv\n"
   ]
  },
  {
   "cell_type": "code",
   "execution_count": 18,
   "metadata": {},
   "outputs": [
    {
     "data": {
      "image/png": "[encoded data removed]",
      "text/plain": [
       "<Figure size 432x288 with 1 Axes>"
      ]
     },
     "metadata": {
      "needs_background": "light"
     },
     "output_type": "display_data"
    }
   ],
   "source": [
    "# Solucion Ejercicio 9\n",
    "plt.figure()\n",
    "plt.boxplot(df_iris.loc[:, df_iris.columns != 'species'])     #quitamos la vv categórica para que no de error con boxplot (no dibuja categóricas)\n",
    "plt.show()"
   ]
  },
  {
   "cell_type": "markdown",
   "metadata": {},
   "source": [
    "### **Gráficos de sectores o tarta (Pie chart)** <a class=\"anchor\" id=\"section_1_4_2_3\"></a>"
   ]
  },
  {
   "cell_type": "markdown",
   "metadata": {},
   "source": [
    "Los gráficos de sectores es otro tipo de gráfica que realiza la representacion de los datos en un círculo, donde en función de las frecuencias de data valor es representada por una porción del círculo. Logicamente a mayor frecuencia de un valor, mayor será la porción que ocupe en este gráfico.\n",
    "\n",
    "La sintaxis a utilizar es la siguente:\n",
    "\n",
    "\n",
    "```python\n",
    "x= lista de valores, array o variable\n",
    "\n",
    "plt.figure()\n",
    "\n",
    "plt.pie(x, labels =x)\n",
    "\n",
    "plt.show()\n",
    "```"
   ]
  },
  {
   "cell_type": "markdown",
   "metadata": {},
   "source": [
    "Imagineros que ahora tenemos una lista de diferentes edades de alumnas entre 20 y 30 años. Y queremos ver el diagrama de tarta de las edades, para ello podríamos utilizar el siguente código."
   ]
  },
  {
   "cell_type": "code",
   "execution_count": null,
   "metadata": {},
   "outputs": [
    {
     "data": {
      "image/png": "[encoded data removed]",
      "text/plain": [
       "<Figure size 432x288 with 1 Axes>"
      ]
     },
     "metadata": {},
     "output_type": "display_data"
    }
   ],
   "source": [
    "np.random.seed(42)\n",
    "import random\n",
    "randomlist = []\n",
    "for i in range(0,20):\n",
    "    n = random.randint(20,30)\n",
    "    randomlist.append(n)\n",
    "#x = np.random.randint(50, 10, 5)\n",
    "\n",
    "plt.figure()\n",
    "\n",
    "plt.pie(randomlist, labels=randomlist)\n",
    "plt.show()"
   ]
  },
  {
   "cell_type": "markdown",
   "metadata": {},
   "source": [
    "#### EJERCICIO 10\n",
    "\n",
    "Utilizando de nuevo el conjunto de datos **df_iris**, realiza un gráfico de sectores para cada variable, para los datos pertenecientes a la especie = setosa"
   ]
  },
  {
   "cell_type": "code",
   "execution_count": 19,
   "metadata": {},
   "outputs": [
    {
     "ename": "SyntaxError",
     "evalue": "invalid syntax (459591467.py, line 4)",
     "output_type": "error",
     "traceback": [
      "\u001b[0;36m  File \u001b[0;32m\"/tmp/ipykernel_403/459591467.py\"\u001b[0;36m, line \u001b[0;32m4\u001b[0m\n\u001b[0;31m    for values variables:\u001b[0m\n\u001b[0m               ^\u001b[0m\n\u001b[0;31mSyntaxError\u001b[0m\u001b[0;31m:\u001b[0m invalid syntax\n"
     ]
    }
   ],
   "source": [
    "# Solucion Ejercicio 10\n",
    "variables = ['sepal_lenght', 'spela_width', 'petal_lengh', 'petal_width']\n",
    "\n",
    "for values variables:\n",
    "    data = df_iris[df_iris['species'] == \"setosa\"][values]\n",
    "    plt.figure()\n",
    "    plt.pie(data, labels = data)\n",
    "    plt.show()\n",
    "\n",
    "\n"
   ]
  },
  {
   "cell_type": "markdown",
   "metadata": {},
   "source": [
    "#### **Diagrama de violin (Violin plot)** <a class=\"anchor\" id=\"section_1_4_2_4\"></a>\n",
    "\n",
    "Finalmente vamos a explicar el último tipo de gráficas que aprenderemos a realizar en esta lección. Los llamados diagramas de violín, estos gráficos son bastante similares a los boxplot, con la particularidad que ademas, muestran la distribución de frecuencias de los datos.\n",
    "\n",
    "Sería una forma de combinar parte de la información de un boxplot y de un histograma en una única gráfica.\n",
    "\n",
    "La sintaxis general para este tipo de gráficas es:\n",
    "\n",
    "\n",
    "\n",
    "```python\n",
    "x= lista de valores, array o variable\n",
    "\n",
    "plt.figure()\n",
    "\n",
    "plt.violinplot(x, showmedians =True)\n",
    "\n",
    "plt.show()\n",
    "```"
   ]
  },
  {
   "cell_type": "code",
   "execution_count": null,
   "metadata": {},
   "outputs": [
    {
     "data": {
      "image/png": "[encoded data removed]",
      "text/plain": [
       "<Figure size 432x288 with 1 Axes>"
      ]
     },
     "metadata": {
      "needs_background": "light"
     },
     "output_type": "display_data"
    }
   ],
   "source": [
    "np.random.seed(42)\n",
    "x = np.random.normal(50, 10, 1000)\n",
    "\n",
    "plt.figure()\n",
    "\n",
    "plt.violinplot(x, showmedians=True)\n",
    "plt.show()"
   ]
  },
  {
   "cell_type": "markdown",
   "metadata": {},
   "source": [
    "De esta forma podemos ver que nos recuerda a la forma general de un boxplot, aunque ahora no nos muestra la informacion de 1er y 3er cuartil, ya que las puntas de los \"bigotes\", nos indican donde se encuentra el valor máximo y el valor mínimo de los datos que se han graficado.\n",
    "\n",
    "A pesar de esto, esta gráfica es muy útil, debido a que en más de una ocasión nos interesará conocer la distribución que siguen los datos, a la hora de hacer predicciones o otro tipo de transformaciones sobre los datos."
   ]
  },
  {
   "cell_type": "markdown",
   "metadata": {},
   "source": [
    "#### EJERCICIO 11\n",
    "\n",
    "Utilizando de nuevo el conjunto de datos **df_iris**, el diagrama de violin para cada una de las variables del dataset."
   ]
  },
  {
   "cell_type": "code",
   "execution_count": null,
   "metadata": {},
   "outputs": [],
   "source": [
    "# Solucion Ejercicio 11"
   ]
  },
  {
   "cell_type": "markdown",
   "metadata": {},
   "source": [
    "A lo largo de esta lección hemos aprendido un monton de formas diversas de realizar todo tipo de gráficas con Python.\n",
    "\n",
    "A pesar de esto, las gráficas obtenidas hasta este punto han sido bastante simples y sin complicaciones, debido a que no hemos prestado atención a las opciones de personalización, leyenda, nombre de los ejes, tipo de marcadores y otras opciones que permiten hacer unas gráficas aún más informativas y que facilitan su interpretación.\n",
    "\n",
    "Esto lo veremos en la siguente lección!"
   ]
  }
 ],
 "metadata": {
  "interpreter": {
   "hash": "326012db1a15eed00b4c897031071ca0738d0e309cebb539ff1a9a581652b8cb"
  },
  "kernelspec": {
   "display_name": "Python 3.10.0 64-bit ('adalabenv': conda)",
   "language": "python",
   "name": "python3"
  },
  "language_info": {
   "codemirror_mode": {
    "name": "ipython",
    "version": 3
   },
   "file_extension": ".py",
   "mimetype": "text/x-python",
   "name": "python",
   "nbconvert_exporter": "python",
   "pygments_lexer": "ipython3",
   "version": "3.9.7"
  },
  "orig_nbformat": 4
 },
 "nbformat": 4,
 "nbformat_minor": 2
}
