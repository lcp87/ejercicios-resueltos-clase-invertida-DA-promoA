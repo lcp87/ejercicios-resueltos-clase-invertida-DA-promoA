{
 "cells": [
  {
   "cell_type": "markdown",
   "id": "861aeca8",
   "metadata": {
    "toc": true
   },
   "source": [
    "<h1>Table of Contents<span class=\"tocSkip\"></span></h1>\n",
    "<div class=\"toc\"><ul class=\"toc-item\"><li><span><a href=\"#¿Qué-es-groupby()?\" data-toc-modified-id=\"¿Qué-es-groupby()?-1\"><span class=\"toc-item-num\">1&nbsp;&nbsp;</span>¿Qué es <code>groupby()</code>?</a></span></li><li><span><a href=\"#Bases-del-groupby---agrupacion-por-una-categoría\" data-toc-modified-id=\"Bases-del-groupby---agrupacion-por-una-categoría-2\"><span class=\"toc-item-num\">2&nbsp;&nbsp;</span>Bases del groupby - agrupacion por una categoría</a></span></li><li><span><a href=\"#Agrupación-por-múltiples-condiciones\" data-toc-modified-id=\"Agrupación-por-múltiples-condiciones-3\"><span class=\"toc-item-num\">3&nbsp;&nbsp;</span>Agrupación por múltiples condiciones</a></span></li><li><span><a href=\"#Convertir-el-objeto-groupby-a-un-DataFrame\" data-toc-modified-id=\"Convertir-el-objeto-groupby-a-un-DataFrame-4\"><span class=\"toc-item-num\">4&nbsp;&nbsp;</span>Convertir el objeto groupby a un DataFrame</a></span></li><li><span><a href=\"#Agregación-(método-agg)\" data-toc-modified-id=\"Agregación-(método-agg)-5\"><span class=\"toc-item-num\">5&nbsp;&nbsp;</span>Agregación (método <code>agg</code>)</a></span></li><li><span><a href=\"#Tratamiento-de-nulos\" data-toc-modified-id=\"Tratamiento-de-nulos-6\"><span class=\"toc-item-num\">6&nbsp;&nbsp;</span>Tratamiento de nulos</a></span></li></ul></div>"
   ]
  },
  {
   "cell_type": "code",
   "execution_count": 2,
   "id": "a3f64e77",
   "metadata": {},
   "outputs": [],
   "source": [
    "# importamos las librerías que necesitamos\n",
    "\n",
    "import pandas as pd"
   ]
  },
  {
   "cell_type": "code",
   "execution_count": 3,
   "id": "6db5bf51",
   "metadata": {},
   "outputs": [],
   "source": [
    "#ejecutemos este comando para ver todas las columnas\n",
    "\n",
    "pd.options.display.max_columns = None"
   ]
  },
  {
   "cell_type": "code",
   "execution_count": 4,
   "id": "03042d2a",
   "metadata": {},
   "outputs": [
    {
     "data": {
      "text/html": [
       "<div>\n",
       "<style scoped>\n",
       "    .dataframe tbody tr th:only-of-type {\n",
       "        vertical-align: middle;\n",
       "    }\n",
       "\n",
       "    .dataframe tbody tr th {\n",
       "        vertical-align: top;\n",
       "    }\n",
       "\n",
       "    .dataframe thead th {\n",
       "        text-align: right;\n",
       "    }\n",
       "</style>\n",
       "<table border=\"1\" class=\"dataframe\">\n",
       "  <thead>\n",
       "    <tr style=\"text-align: right;\">\n",
       "      <th></th>\n",
       "      <th>Customer</th>\n",
       "      <th>State</th>\n",
       "      <th>Customer Lifetime Value</th>\n",
       "      <th>Response</th>\n",
       "      <th>Coverage</th>\n",
       "      <th>Education</th>\n",
       "      <th>Effective To Date</th>\n",
       "      <th>EmploymentStatus</th>\n",
       "      <th>Gender</th>\n",
       "      <th>Income</th>\n",
       "      <th>Location Code</th>\n",
       "      <th>Marital Status</th>\n",
       "      <th>Monthly Premium Auto</th>\n",
       "      <th>Months Since Last Claim</th>\n",
       "      <th>Months Since Policy Inception</th>\n",
       "      <th>Number of Open Complaints</th>\n",
       "      <th>Number of Policies</th>\n",
       "      <th>Policy Type</th>\n",
       "      <th>Policy</th>\n",
       "      <th>Renew Offer Type</th>\n",
       "      <th>Sales Channel</th>\n",
       "      <th>Total Claim Amount</th>\n",
       "      <th>Vehicle Class</th>\n",
       "      <th>Vehicle Size</th>\n",
       "    </tr>\n",
       "  </thead>\n",
       "  <tbody>\n",
       "    <tr>\n",
       "      <th>0</th>\n",
       "      <td>BU79786</td>\n",
       "      <td>Washington</td>\n",
       "      <td>2763.519279</td>\n",
       "      <td>No</td>\n",
       "      <td>Basic</td>\n",
       "      <td>Bachelor</td>\n",
       "      <td>2/24/11</td>\n",
       "      <td>Employed</td>\n",
       "      <td>F</td>\n",
       "      <td>56274</td>\n",
       "      <td>Suburban</td>\n",
       "      <td>Married</td>\n",
       "      <td>69</td>\n",
       "      <td>32</td>\n",
       "      <td>5</td>\n",
       "      <td>0</td>\n",
       "      <td>1</td>\n",
       "      <td>Corporate Auto</td>\n",
       "      <td>Corporate L3</td>\n",
       "      <td>Offer1</td>\n",
       "      <td>Agent</td>\n",
       "      <td>384.811147</td>\n",
       "      <td>Two-Door Car</td>\n",
       "      <td>Medsize</td>\n",
       "    </tr>\n",
       "  </tbody>\n",
       "</table>\n",
       "</div>"
      ],
      "text/plain": [
       "  Customer       State  Customer Lifetime Value Response Coverage Education  \\\n",
       "0  BU79786  Washington              2763.519279       No    Basic  Bachelor   \n",
       "\n",
       "  Effective To Date EmploymentStatus Gender  Income Location Code  \\\n",
       "0           2/24/11         Employed      F   56274      Suburban   \n",
       "\n",
       "  Marital Status  Monthly Premium Auto  Months Since Last Claim  \\\n",
       "0        Married                    69                       32   \n",
       "\n",
       "   Months Since Policy Inception  Number of Open Complaints  \\\n",
       "0                              5                          0   \n",
       "\n",
       "   Number of Policies     Policy Type        Policy Renew Offer Type  \\\n",
       "0                   1  Corporate Auto  Corporate L3           Offer1   \n",
       "\n",
       "  Sales Channel  Total Claim Amount Vehicle Class Vehicle Size  \n",
       "0         Agent          384.811147  Two-Door Car      Medsize  "
      ]
     },
     "execution_count": 4,
     "metadata": {},
     "output_type": "execute_result"
    }
   ],
   "source": [
    "# En este jupyter trabajaremos con el dataset de Marketing que usamos en la lección de filtrado\n",
    "\n",
    "df = pd.read_csv(\"./Marketing-Customer-Analysis.csv\")\n",
    "df.head(1)"
   ]
  },
  {
   "cell_type": "code",
   "execution_count": 5,
   "id": "ce803a66",
   "metadata": {},
   "outputs": [],
   "source": [
    "# cambiamos el nombre de las columnas\n",
    "\n",
    "nuevas_columnas = {col: col.lower().replace(\" \", \"_\") for col in df.columns}\n",
    "df.rename(columns = nuevas_columnas, inplace = True)"
   ]
  },
  {
   "cell_type": "code",
   "execution_count": 6,
   "id": "eda26895",
   "metadata": {},
   "outputs": [
    {
     "data": {
      "text/html": [
       "<div>\n",
       "<style scoped>\n",
       "    .dataframe tbody tr th:only-of-type {\n",
       "        vertical-align: middle;\n",
       "    }\n",
       "\n",
       "    .dataframe tbody tr th {\n",
       "        vertical-align: top;\n",
       "    }\n",
       "\n",
       "    .dataframe thead th {\n",
       "        text-align: right;\n",
       "    }\n",
       "</style>\n",
       "<table border=\"1\" class=\"dataframe\">\n",
       "  <thead>\n",
       "    <tr style=\"text-align: right;\">\n",
       "      <th></th>\n",
       "      <th>customer</th>\n",
       "      <th>state</th>\n",
       "      <th>customer_lifetime_value</th>\n",
       "      <th>response</th>\n",
       "      <th>coverage</th>\n",
       "      <th>education</th>\n",
       "      <th>effective_to_date</th>\n",
       "      <th>employmentstatus</th>\n",
       "      <th>gender</th>\n",
       "      <th>income</th>\n",
       "      <th>location_code</th>\n",
       "      <th>marital_status</th>\n",
       "      <th>monthly_premium_auto</th>\n",
       "      <th>months_since_last_claim</th>\n",
       "      <th>months_since_policy_inception</th>\n",
       "      <th>number_of_open_complaints</th>\n",
       "      <th>number_of_policies</th>\n",
       "      <th>policy_type</th>\n",
       "      <th>policy</th>\n",
       "      <th>renew_offer_type</th>\n",
       "      <th>sales_channel</th>\n",
       "      <th>total_claim_amount</th>\n",
       "      <th>vehicle_class</th>\n",
       "      <th>vehicle_size</th>\n",
       "    </tr>\n",
       "  </thead>\n",
       "  <tbody>\n",
       "    <tr>\n",
       "      <th>0</th>\n",
       "      <td>BU79786</td>\n",
       "      <td>Washington</td>\n",
       "      <td>2763.519279</td>\n",
       "      <td>No</td>\n",
       "      <td>Basic</td>\n",
       "      <td>Bachelor</td>\n",
       "      <td>2/24/11</td>\n",
       "      <td>Employed</td>\n",
       "      <td>F</td>\n",
       "      <td>56274</td>\n",
       "      <td>Suburban</td>\n",
       "      <td>Married</td>\n",
       "      <td>69</td>\n",
       "      <td>32</td>\n",
       "      <td>5</td>\n",
       "      <td>0</td>\n",
       "      <td>1</td>\n",
       "      <td>Corporate Auto</td>\n",
       "      <td>Corporate L3</td>\n",
       "      <td>Offer1</td>\n",
       "      <td>Agent</td>\n",
       "      <td>384.811147</td>\n",
       "      <td>Two-Door Car</td>\n",
       "      <td>Medsize</td>\n",
       "    </tr>\n",
       "  </tbody>\n",
       "</table>\n",
       "</div>"
      ],
      "text/plain": [
       "  customer       state  customer_lifetime_value response coverage education  \\\n",
       "0  BU79786  Washington              2763.519279       No    Basic  Bachelor   \n",
       "\n",
       "  effective_to_date employmentstatus gender  income location_code  \\\n",
       "0           2/24/11         Employed      F   56274      Suburban   \n",
       "\n",
       "  marital_status  monthly_premium_auto  months_since_last_claim  \\\n",
       "0        Married                    69                       32   \n",
       "\n",
       "   months_since_policy_inception  number_of_open_complaints  \\\n",
       "0                              5                          0   \n",
       "\n",
       "   number_of_policies     policy_type        policy renew_offer_type  \\\n",
       "0                   1  Corporate Auto  Corporate L3           Offer1   \n",
       "\n",
       "  sales_channel  total_claim_amount vehicle_class vehicle_size  \n",
       "0         Agent          384.811147  Two-Door Car      Medsize  "
      ]
     },
     "execution_count": 6,
     "metadata": {},
     "output_type": "execute_result"
    }
   ],
   "source": [
    "df.head(1)"
   ]
  },
  {
   "attachments": {
    "image.png": {
     "image/png": "[encoded data removed]"
    }
   },
   "cell_type": "markdown",
   "id": "63f77814",
   "metadata": {},
   "source": [
    "# ¿Qué es `groupby()`?\n",
    "\n",
    "En el análisis exploratorio de datos, a menudo nos queremos analizar los datos por algunas categorías. En **SQL**, la sentencia **GROUP BY** agrupa las filas que tienen los mismos valores. En `Pandas`, la operación GROUP BY de SQL se realiza mediante el `método groupby()`. \n",
    "\n",
    "El método groupby() facilita la exploración del conjunto de datos y desvela las relaciones subyacentes entre las variables\n",
    "\n",
    "\n",
    "Este jupyter veremos:\n",
    "\n",
    "- El proceso \"group by\": dividir-aplicar-combinar\n",
    "\n",
    "\n",
    "\n",
    "- Agrupación por múltiples categorías\n",
    "\n",
    "\n",
    "\n",
    "- Convertir el objeto groupby a un DataFrame¶\n",
    "\n",
    "\n",
    "\n",
    "- Agregación\n",
    "\n",
    "\n",
    "- Transformación\n",
    "\n",
    "\n",
    "- Filtración\n",
    "\n",
    "\n",
    "\n",
    "\n",
    "- Restablecimiento del índice con as_index\n",
    "\n",
    "\n",
    "- Tratamiento de los valores perdidos\n",
    "\n",
    "Antes de empezar con el código entendamos visualmente como funciona el `groupby`\n",
    "\n",
    "![image.png](https://github.com/Adalab/data_imagenes/blob/main/Modulo-2/Pandas/groupby.png?raw=true)"
   ]
  },
  {
   "cell_type": "markdown",
   "id": "810f51c5",
   "metadata": {},
   "source": [
    "# Bases del groupby - agrupacion por una categoría"
   ]
  },
  {
   "cell_type": "code",
   "execution_count": 7,
   "id": "89c5652b",
   "metadata": {},
   "outputs": [
    {
     "data": {
      "text/html": [
       "<div>\n",
       "<style scoped>\n",
       "    .dataframe tbody tr th:only-of-type {\n",
       "        vertical-align: middle;\n",
       "    }\n",
       "\n",
       "    .dataframe tbody tr th {\n",
       "        vertical-align: top;\n",
       "    }\n",
       "\n",
       "    .dataframe thead th {\n",
       "        text-align: right;\n",
       "    }\n",
       "</style>\n",
       "<table border=\"1\" class=\"dataframe\">\n",
       "  <thead>\n",
       "    <tr style=\"text-align: right;\">\n",
       "      <th></th>\n",
       "      <th>customer</th>\n",
       "      <th>state</th>\n",
       "      <th>customer_lifetime_value</th>\n",
       "      <th>response</th>\n",
       "      <th>coverage</th>\n",
       "      <th>education</th>\n",
       "      <th>effective_to_date</th>\n",
       "      <th>employmentstatus</th>\n",
       "      <th>gender</th>\n",
       "      <th>income</th>\n",
       "      <th>location_code</th>\n",
       "      <th>marital_status</th>\n",
       "      <th>monthly_premium_auto</th>\n",
       "      <th>months_since_last_claim</th>\n",
       "      <th>months_since_policy_inception</th>\n",
       "      <th>number_of_open_complaints</th>\n",
       "      <th>number_of_policies</th>\n",
       "      <th>policy_type</th>\n",
       "      <th>policy</th>\n",
       "      <th>renew_offer_type</th>\n",
       "      <th>sales_channel</th>\n",
       "      <th>total_claim_amount</th>\n",
       "      <th>vehicle_class</th>\n",
       "      <th>vehicle_size</th>\n",
       "    </tr>\n",
       "  </thead>\n",
       "  <tbody>\n",
       "    <tr>\n",
       "      <th>0</th>\n",
       "      <td>BU79786</td>\n",
       "      <td>Washington</td>\n",
       "      <td>2763.519279</td>\n",
       "      <td>No</td>\n",
       "      <td>Basic</td>\n",
       "      <td>Bachelor</td>\n",
       "      <td>2/24/11</td>\n",
       "      <td>Employed</td>\n",
       "      <td>F</td>\n",
       "      <td>56274</td>\n",
       "      <td>Suburban</td>\n",
       "      <td>Married</td>\n",
       "      <td>69</td>\n",
       "      <td>32</td>\n",
       "      <td>5</td>\n",
       "      <td>0</td>\n",
       "      <td>1</td>\n",
       "      <td>Corporate Auto</td>\n",
       "      <td>Corporate L3</td>\n",
       "      <td>Offer1</td>\n",
       "      <td>Agent</td>\n",
       "      <td>384.811147</td>\n",
       "      <td>Two-Door Car</td>\n",
       "      <td>Medsize</td>\n",
       "    </tr>\n",
       "  </tbody>\n",
       "</table>\n",
       "</div>"
      ],
      "text/plain": [
       "  customer       state  customer_lifetime_value response coverage education  \\\n",
       "0  BU79786  Washington              2763.519279       No    Basic  Bachelor   \n",
       "\n",
       "  effective_to_date employmentstatus gender  income location_code  \\\n",
       "0           2/24/11         Employed      F   56274      Suburban   \n",
       "\n",
       "  marital_status  monthly_premium_auto  months_since_last_claim  \\\n",
       "0        Married                    69                       32   \n",
       "\n",
       "   months_since_policy_inception  number_of_open_complaints  \\\n",
       "0                              5                          0   \n",
       "\n",
       "   number_of_policies     policy_type        policy renew_offer_type  \\\n",
       "0                   1  Corporate Auto  Corporate L3           Offer1   \n",
       "\n",
       "  sales_channel  total_claim_amount vehicle_class vehicle_size  \n",
       "0         Agent          384.811147  Two-Door Car      Medsize  "
      ]
     },
     "execution_count": 7,
     "metadata": {},
     "output_type": "execute_result"
    }
   ],
   "source": [
    "df.head(1)"
   ]
  },
  {
   "cell_type": "code",
   "execution_count": 8,
   "id": "7283780e",
   "metadata": {},
   "outputs": [
    {
     "data": {
      "text/plain": [
       "<pandas.core.groupby.generic.DataFrameGroupBy object at 0x7faa6ff7a640>"
      ]
     },
     "execution_count": 8,
     "metadata": {},
     "output_type": "execute_result"
    }
   ],
   "source": [
    "# imaginemos que queremos agrupar por sexo\n",
    "\n",
    "df_groupby_genero = df.groupby(\"gender\")\n",
    "df_groupby_genero"
   ]
  },
  {
   "cell_type": "markdown",
   "id": "6baaa16c",
   "metadata": {},
   "source": [
    "La función groupby() por si misma devuelve un objeto DataFrameGroupBy. Hay algunos atributos y métodos disponibles para que podamos acceder a la información de los grupos: "
   ]
  },
  {
   "cell_type": "code",
   "execution_count": 9,
   "id": "e8c4c902",
   "metadata": {},
   "outputs": [
    {
     "data": {
      "text/plain": [
       "2"
      ]
     },
     "execution_count": 9,
     "metadata": {},
     "output_type": "execute_result"
    }
   ],
   "source": [
    "# para acceder al número de grupos que tenemos. En nuestro caso tenemos dos grupos\n",
    "\n",
    "df_groupby_genero.ngroups"
   ]
  },
  {
   "cell_type": "code",
   "execution_count": 10,
   "id": "7c38035b",
   "metadata": {},
   "outputs": [
    {
     "data": {
      "text/plain": [
       "{'F': [0, 1, 2, 5, 6, 9, 11, 15, 19, 21, 23, 24, 26, 27, 28, 29, 34, 35, 37, 40, 41, 42, 45, 47, 48, 49, 51, 52, 55, 57, 58, 59, 61, 63, 64, 66, 67, 68, 69, 76, 80, 84, 87, 88, 91, 92, 94, 95, 96, 98, 100, 104, 105, 106, 108, 118, 119, 122, 124, 126, 129, 131, 132, 134, 136, 137, 138, 139, 142, 144, 146, 147, 148, 153, 154, 157, 159, 161, 162, 163, 166, 167, 168, 169, 171, 172, 173, 175, 176, 177, 178, 179, 180, 181, 185, 186, 187, 188, 191, 193, ...], 'M': [3, 4, 7, 8, 10, 12, 13, 14, 16, 17, 18, 20, 22, 25, 30, 31, 32, 33, 36, 38, 39, 43, 44, 46, 50, 53, 54, 56, 60, 62, 65, 70, 71, 72, 73, 74, 75, 77, 78, 79, 81, 82, 83, 85, 86, 89, 90, 93, 97, 99, 101, 102, 103, 107, 109, 110, 111, 112, 113, 114, 115, 116, 117, 120, 121, 123, 125, 127, 128, 130, 133, 135, 140, 141, 143, 145, 149, 150, 151, 152, 155, 156, 158, 160, 164, 165, 170, 174, 182, 183, 184, 189, 190, 192, 196, 197, 199, 203, 204, 205, ...]}"
      ]
     },
     "execution_count": 10,
     "metadata": {},
     "output_type": "execute_result"
    }
   ],
   "source": [
    "# Utilizamos \"groups\" para obtener el indice de los los elementos. \n",
    "\n",
    "df_groupby_genero.groups"
   ]
  },
  {
   "cell_type": "code",
   "execution_count": 11,
   "id": "434e43a4",
   "metadata": {},
   "outputs": [
    {
     "data": {
      "text/html": [
       "<div>\n",
       "<style scoped>\n",
       "    .dataframe tbody tr th:only-of-type {\n",
       "        vertical-align: middle;\n",
       "    }\n",
       "\n",
       "    .dataframe tbody tr th {\n",
       "        vertical-align: top;\n",
       "    }\n",
       "\n",
       "    .dataframe thead th {\n",
       "        text-align: right;\n",
       "    }\n",
       "</style>\n",
       "<table border=\"1\" class=\"dataframe\">\n",
       "  <thead>\n",
       "    <tr style=\"text-align: right;\">\n",
       "      <th></th>\n",
       "      <th>customer</th>\n",
       "      <th>state</th>\n",
       "      <th>customer_lifetime_value</th>\n",
       "      <th>response</th>\n",
       "      <th>coverage</th>\n",
       "      <th>education</th>\n",
       "      <th>effective_to_date</th>\n",
       "      <th>employmentstatus</th>\n",
       "      <th>gender</th>\n",
       "      <th>income</th>\n",
       "      <th>location_code</th>\n",
       "      <th>marital_status</th>\n",
       "      <th>monthly_premium_auto</th>\n",
       "      <th>months_since_last_claim</th>\n",
       "      <th>months_since_policy_inception</th>\n",
       "      <th>number_of_open_complaints</th>\n",
       "      <th>number_of_policies</th>\n",
       "      <th>policy_type</th>\n",
       "      <th>policy</th>\n",
       "      <th>renew_offer_type</th>\n",
       "      <th>sales_channel</th>\n",
       "      <th>total_claim_amount</th>\n",
       "      <th>vehicle_class</th>\n",
       "      <th>vehicle_size</th>\n",
       "    </tr>\n",
       "  </thead>\n",
       "  <tbody>\n",
       "    <tr>\n",
       "      <th>0</th>\n",
       "      <td>BU79786</td>\n",
       "      <td>Washington</td>\n",
       "      <td>2763.519279</td>\n",
       "      <td>No</td>\n",
       "      <td>Basic</td>\n",
       "      <td>Bachelor</td>\n",
       "      <td>2/24/11</td>\n",
       "      <td>Employed</td>\n",
       "      <td>F</td>\n",
       "      <td>56274</td>\n",
       "      <td>Suburban</td>\n",
       "      <td>Married</td>\n",
       "      <td>69</td>\n",
       "      <td>32</td>\n",
       "      <td>5</td>\n",
       "      <td>0</td>\n",
       "      <td>1</td>\n",
       "      <td>Corporate Auto</td>\n",
       "      <td>Corporate L3</td>\n",
       "      <td>Offer1</td>\n",
       "      <td>Agent</td>\n",
       "      <td>384.811147</td>\n",
       "      <td>Two-Door Car</td>\n",
       "      <td>Medsize</td>\n",
       "    </tr>\n",
       "  </tbody>\n",
       "</table>\n",
       "</div>"
      ],
      "text/plain": [
       "  customer       state  customer_lifetime_value response coverage education  \\\n",
       "0  BU79786  Washington              2763.519279       No    Basic  Bachelor   \n",
       "\n",
       "  effective_to_date employmentstatus gender  income location_code  \\\n",
       "0           2/24/11         Employed      F   56274      Suburban   \n",
       "\n",
       "  marital_status  monthly_premium_auto  months_since_last_claim  \\\n",
       "0        Married                    69                       32   \n",
       "\n",
       "   months_since_policy_inception  number_of_open_complaints  \\\n",
       "0                              5                          0   \n",
       "\n",
       "   number_of_policies     policy_type        policy renew_offer_type  \\\n",
       "0                   1  Corporate Auto  Corporate L3           Offer1   \n",
       "\n",
       "  sales_channel  total_claim_amount vehicle_class vehicle_size  \n",
       "0         Agent          384.811147  Two-Door Car      Medsize  "
      ]
     },
     "execution_count": 11,
     "metadata": {},
     "output_type": "execute_result"
    }
   ],
   "source": [
    "# si queremos obtener un dataframe solo con los resultados de un grupo usaremos em método \"get_group\"\n",
    "\n",
    "df_mujeres = df_groupby_genero.get_group(\"F\")\n",
    "df_mujeres.head(1)"
   ]
  },
  {
   "cell_type": "code",
   "execution_count": 12,
   "id": "93ce576f",
   "metadata": {},
   "outputs": [
    {
     "name": "stdout",
     "output_type": "stream",
     "text": [
      "En la columna 'education' solo tenemos este valor ['F']\n",
      "-----------------------------------------------------------------------------------\n"
     ]
    }
   ],
   "source": [
    "print(f\"En la columna 'education' solo tenemos este valor {df_mujeres.gender.unique()}\")\n",
    "print(\"-----------------------------------------------------------------------------------\")"
   ]
  },
  {
   "cell_type": "markdown",
   "id": "f4e8e96b",
   "metadata": {},
   "source": [
    "Pero en realidad hasta aquí no hemos establecido ninguna relación ni calculado nada, solo hemos extraido ciertos datos. Imaginemos ahora que queremos calcular la media por género de todos los clientes para las varibales numéricas. \n",
    "\n",
    "La estructura del `groupby` será la misma solo que tendremos que añadir el estadístico que queramos aplicar después del groupby. "
   ]
  },
  {
   "cell_type": "code",
   "execution_count": 13,
   "id": "fd95e7eb",
   "metadata": {},
   "outputs": [
    {
     "data": {
      "text/html": [
       "<div>\n",
       "<style scoped>\n",
       "    .dataframe tbody tr th:only-of-type {\n",
       "        vertical-align: middle;\n",
       "    }\n",
       "\n",
       "    .dataframe tbody tr th {\n",
       "        vertical-align: top;\n",
       "    }\n",
       "\n",
       "    .dataframe thead th {\n",
       "        text-align: right;\n",
       "    }\n",
       "</style>\n",
       "<table border=\"1\" class=\"dataframe\">\n",
       "  <thead>\n",
       "    <tr style=\"text-align: right;\">\n",
       "      <th></th>\n",
       "      <th>customer_lifetime_value</th>\n",
       "      <th>income</th>\n",
       "      <th>monthly_premium_auto</th>\n",
       "      <th>months_since_last_claim</th>\n",
       "      <th>months_since_policy_inception</th>\n",
       "      <th>number_of_open_complaints</th>\n",
       "      <th>number_of_policies</th>\n",
       "      <th>total_claim_amount</th>\n",
       "    </tr>\n",
       "    <tr>\n",
       "      <th>gender</th>\n",
       "      <th></th>\n",
       "      <th></th>\n",
       "      <th></th>\n",
       "      <th></th>\n",
       "      <th></th>\n",
       "      <th></th>\n",
       "      <th></th>\n",
       "      <th></th>\n",
       "    </tr>\n",
       "  </thead>\n",
       "  <tbody>\n",
       "    <tr>\n",
       "      <th>F</th>\n",
       "      <td>8096.602370</td>\n",
       "      <td>38108.176471</td>\n",
       "      <td>93.087162</td>\n",
       "      <td>14.844998</td>\n",
       "      <td>47.949764</td>\n",
       "      <td>0.387076</td>\n",
       "      <td>2.928081</td>\n",
       "      <td>412.856483</td>\n",
       "    </tr>\n",
       "    <tr>\n",
       "      <th>M</th>\n",
       "      <td>7909.551488</td>\n",
       "      <td>37188.253575</td>\n",
       "      <td>93.356792</td>\n",
       "      <td>15.359249</td>\n",
       "      <td>48.184093</td>\n",
       "      <td>0.381591</td>\n",
       "      <td>3.005809</td>\n",
       "      <td>456.184439</td>\n",
       "    </tr>\n",
       "  </tbody>\n",
       "</table>\n",
       "</div>"
      ],
      "text/plain": [
       "        customer_lifetime_value        income  monthly_premium_auto  \\\n",
       "gender                                                                \n",
       "F                   8096.602370  38108.176471             93.087162   \n",
       "M                   7909.551488  37188.253575             93.356792   \n",
       "\n",
       "        months_since_last_claim  months_since_policy_inception  \\\n",
       "gender                                                           \n",
       "F                     14.844998                      47.949764   \n",
       "M                     15.359249                      48.184093   \n",
       "\n",
       "        number_of_open_complaints  number_of_policies  total_claim_amount  \n",
       "gender                                                                     \n",
       "F                        0.387076            2.928081          412.856483  \n",
       "M                        0.381591            3.005809          456.184439  "
      ]
     },
     "execution_count": 13,
     "metadata": {},
     "output_type": "execute_result"
    }
   ],
   "source": [
    "df_groupby_genero_mean = df.groupby(\"gender\").mean()\n",
    "df_groupby_genero_mean"
   ]
  },
  {
   "cell_type": "markdown",
   "id": "20208a90",
   "metadata": {},
   "source": [
    "Si analizamos la tabla anterior vemos que el `groupby` nos ha sacado la media para todas nuestras variables numéricas. Bien 💪! Ya tenemos nuestro primer análisis de nuestros datos. \n",
    "\n",
    "**Pero, ¿qué pasaría si yo solo quisiera de la media de una de las columnas?** Veamos como hacerlo"
   ]
  },
  {
   "cell_type": "code",
   "execution_count": 14,
   "id": "53d25009",
   "metadata": {},
   "outputs": [
    {
     "data": {
      "text/plain": [
       "gender\n",
       "F    2.928081\n",
       "M    3.005809\n",
       "Name: number_of_policies, dtype: float64"
      ]
     },
     "execution_count": 14,
     "metadata": {},
     "output_type": "execute_result"
    }
   ],
   "source": [
    "df_groupby_genero_polizas = df.groupby(\"gender\")[\"number_of_policies\"].mean()\n",
    "df_groupby_genero_polizas"
   ]
  },
  {
   "cell_type": "markdown",
   "id": "a2573d37",
   "metadata": {},
   "source": [
    "Genial! Ya tenemos que de media las mujeres contratan 2.92 polizas y los hombres 3.00"
   ]
  },
  {
   "cell_type": "markdown",
   "id": "b0f45caf",
   "metadata": {},
   "source": [
    "Otros estadísticos que podemos calcular con el groupby son: \n",
    "\n",
    "- `count()` – número de observaciones no nulas\n",
    "\n",
    "\n",
    "- `describe()`: resumen de los principales estadísticos\n",
    "\n",
    "\n",
    "- `sum()` – suma de todos los valores\n",
    "\n",
    "\n",
    "- `mean()` – media de los valores\n",
    "\n",
    "\n",
    "- `median()` – mediana de los valores\n",
    "\n",
    "\n",
    "- `min()` – valor mínimo\n",
    "\n",
    "\n",
    "- `max()` – valor máximo\n",
    "\n",
    "\n",
    "- `std()` – desviación estándar\n",
    "\n",
    "\n",
    "- `var()`– varianza"
   ]
  },
  {
   "cell_type": "code",
   "execution_count": 15,
   "id": "ad1b2023",
   "metadata": {},
   "outputs": [
    {
     "data": {
      "text/plain": [
       "gender\n",
       "F    2.360877\n",
       "M    2.419929\n",
       "Name: number_of_policies, dtype: float64"
      ]
     },
     "execution_count": 15,
     "metadata": {},
     "output_type": "execute_result"
    }
   ],
   "source": [
    "# veamos algún ejemplo con la desviación estándar. \n",
    "\n",
    "df_groupby_genero_polizas_std = df.groupby(\"gender\")[\"number_of_policies\"].std()\n",
    "df_groupby_genero_polizas_std"
   ]
  },
  {
   "cell_type": "code",
   "execution_count": 16,
   "id": "25166b32",
   "metadata": {},
   "outputs": [
    {
     "data": {
      "text/plain": [
       "gender\n",
       "F    4658\n",
       "M    4476\n",
       "Name: number_of_policies, dtype: int64"
      ]
     },
     "execution_count": 16,
     "metadata": {},
     "output_type": "execute_result"
    }
   ],
   "source": [
    "# o contar cuantos clientes tenemos dentro de cada categoría\n",
    "\n",
    "df_groupby_genero_polizas_count = df.groupby(\"gender\")[\"number_of_policies\"].count()\n",
    "df_groupby_genero_polizas_count"
   ]
  },
  {
   "cell_type": "markdown",
   "id": "11bffde8",
   "metadata": {},
   "source": [
    "# Agrupación por múltiples condiciones "
   ]
  },
  {
   "cell_type": "markdown",
   "id": "05d54628",
   "metadata": {},
   "source": [
    "Hasta ahora hemos visto como hacer agrupaciones basándonos solo en una columna. Pero con este método podemos agrupar por más de una. En este caso tendremos que pasar **una lista con el nombre de las columnas** por las que queremos agrupar. Veamos como hacerlo: "
   ]
  },
  {
   "cell_type": "markdown",
   "id": "c9ebe924",
   "metadata": {},
   "source": [
    "Imaginamos que queremos agrupar por el \"género\" y por el \"tamaño del vehículo\". "
   ]
  },
  {
   "cell_type": "code",
   "execution_count": 17,
   "id": "e803a47f",
   "metadata": {},
   "outputs": [
    {
     "data": {
      "text/plain": [
       "gender  vehicle_size\n",
       "F       Large           2.916832\n",
       "        Medsize         2.918885\n",
       "        Small           2.966414\n",
       "M       Large           2.712018\n",
       "        Medsize         3.032874\n",
       "        Small           3.057075\n",
       "Name: number_of_policies, dtype: float64"
      ]
     },
     "execution_count": 17,
     "metadata": {},
     "output_type": "execute_result"
    }
   ],
   "source": [
    "df_genero_tamaño = df.groupby([\"gender\", \"vehicle_size\"])['number_of_policies'].mean()\n",
    "df_genero_tamaño"
   ]
  },
  {
   "cell_type": "markdown",
   "id": "621e5ee0",
   "metadata": {},
   "source": [
    "Interpretemos los resultados, el resultado de este groupby nos esta \"contando\":\n",
    "\n",
    "- Dentro de las mujeres:\n",
    "\n",
    "    - 2.91 mujeres de media tienen un coche grande\n",
    "    - 2.91 mujeres de media tienen un coche mediano\n",
    "    - 2.96 mujeres de media tienen un coche pequeño\n",
    "    \n",
    "    \n",
    "- En el caso de los hombres:\n",
    "\n",
    "    - 2.27 hombres de media tienen un coche grande\n",
    "    - 3.03 hombres de media tienen un coche mediano\n",
    "    - 3.05 hombres de media tienen un coche pequeño\n"
   ]
  },
  {
   "cell_type": "markdown",
   "id": "c83c7dc8",
   "metadata": {},
   "source": [
    "# Convertir el objeto groupby a un DataFrame "
   ]
  },
  {
   "cell_type": "markdown",
   "id": "468e6324",
   "metadata": {},
   "source": [
    "Como hemos visto, cuando queremos que nos devuelva solo una columna no nos devuelve un dataframe, pero con pandas lo podremos convertir sin problema: "
   ]
  },
  {
   "cell_type": "code",
   "execution_count": 18,
   "id": "1cd07ece",
   "metadata": {},
   "outputs": [
    {
     "data": {
      "text/plain": [
       "gender  vehicle_size\n",
       "F       Large           2.916832\n",
       "        Medsize         2.918885\n",
       "        Small           2.966414\n",
       "M       Large           2.712018\n",
       "        Medsize         3.032874\n",
       "        Small           3.057075\n",
       "Name: number_of_policies, dtype: float64"
      ]
     },
     "execution_count": 18,
     "metadata": {},
     "output_type": "execute_result"
    }
   ],
   "source": [
    "# tomemos como ejemplo el resultado de nuestro último groupby\n",
    "\n",
    "df_genero_tamaño"
   ]
  },
  {
   "cell_type": "code",
   "execution_count": 19,
   "id": "ed55a184",
   "metadata": {},
   "outputs": [
    {
     "data": {
      "text/plain": [
       "pandas.core.series.Series"
      ]
     },
     "execution_count": 19,
     "metadata": {},
     "output_type": "execute_result"
    }
   ],
   "source": [
    "# si chequeamos su tipo vemos que es una Serie\n",
    "\n",
    "type(df_genero_tamaño)"
   ]
  },
  {
   "cell_type": "markdown",
   "id": "8008b5c9",
   "metadata": {},
   "source": [
    "Tenemos dos formas de convertir esta Serie a DataFrame: \n",
    "\n",
    "- Usando `pd.DataFrame()`\n",
    "\n",
    "\n",
    "- Usando `reset_index()`"
   ]
  },
  {
   "cell_type": "code",
   "execution_count": 20,
   "id": "b123dd25",
   "metadata": {},
   "outputs": [
    {
     "data": {
      "text/html": [
       "<div>\n",
       "<style scoped>\n",
       "    .dataframe tbody tr th:only-of-type {\n",
       "        vertical-align: middle;\n",
       "    }\n",
       "\n",
       "    .dataframe tbody tr th {\n",
       "        vertical-align: top;\n",
       "    }\n",
       "\n",
       "    .dataframe thead th {\n",
       "        text-align: right;\n",
       "    }\n",
       "</style>\n",
       "<table border=\"1\" class=\"dataframe\">\n",
       "  <thead>\n",
       "    <tr style=\"text-align: right;\">\n",
       "      <th></th>\n",
       "      <th></th>\n",
       "      <th>number_of_policies</th>\n",
       "    </tr>\n",
       "    <tr>\n",
       "      <th>gender</th>\n",
       "      <th>vehicle_size</th>\n",
       "      <th></th>\n",
       "    </tr>\n",
       "  </thead>\n",
       "  <tbody>\n",
       "    <tr>\n",
       "      <th rowspan=\"3\" valign=\"top\">F</th>\n",
       "      <th>Large</th>\n",
       "      <td>2.916832</td>\n",
       "    </tr>\n",
       "    <tr>\n",
       "      <th>Medsize</th>\n",
       "      <td>2.918885</td>\n",
       "    </tr>\n",
       "    <tr>\n",
       "      <th>Small</th>\n",
       "      <td>2.966414</td>\n",
       "    </tr>\n",
       "    <tr>\n",
       "      <th rowspan=\"3\" valign=\"top\">M</th>\n",
       "      <th>Large</th>\n",
       "      <td>2.712018</td>\n",
       "    </tr>\n",
       "    <tr>\n",
       "      <th>Medsize</th>\n",
       "      <td>3.032874</td>\n",
       "    </tr>\n",
       "    <tr>\n",
       "      <th>Small</th>\n",
       "      <td>3.057075</td>\n",
       "    </tr>\n",
       "  </tbody>\n",
       "</table>\n",
       "</div>"
      ],
      "text/plain": [
       "                     number_of_policies\n",
       "gender vehicle_size                    \n",
       "F      Large                   2.916832\n",
       "       Medsize                 2.918885\n",
       "       Small                   2.966414\n",
       "M      Large                   2.712018\n",
       "       Medsize                 3.032874\n",
       "       Small                   3.057075"
      ]
     },
     "execution_count": 20,
     "metadata": {},
     "output_type": "execute_result"
    }
   ],
   "source": [
    "# 1️⃣ usando pd.DataFrame\n",
    "\n",
    "dff_genero = pd.DataFrame(df_genero_tamaño)\n",
    "dff_genero"
   ]
  },
  {
   "cell_type": "markdown",
   "id": "9ec98909",
   "metadata": {},
   "source": [
    "Si nos fijamos las columnas por las que hemos agrupado están como índices. Recordemos que tenemos el método `reset_index()`"
   ]
  },
  {
   "cell_type": "code",
   "execution_count": 21,
   "id": "374a966f",
   "metadata": {},
   "outputs": [],
   "source": [
    "dff_genero.reset_index(inplace = True)"
   ]
  },
  {
   "cell_type": "code",
   "execution_count": 22,
   "id": "967a82a9",
   "metadata": {},
   "outputs": [
    {
     "data": {
      "text/html": [
       "<div>\n",
       "<style scoped>\n",
       "    .dataframe tbody tr th:only-of-type {\n",
       "        vertical-align: middle;\n",
       "    }\n",
       "\n",
       "    .dataframe tbody tr th {\n",
       "        vertical-align: top;\n",
       "    }\n",
       "\n",
       "    .dataframe thead th {\n",
       "        text-align: right;\n",
       "    }\n",
       "</style>\n",
       "<table border=\"1\" class=\"dataframe\">\n",
       "  <thead>\n",
       "    <tr style=\"text-align: right;\">\n",
       "      <th></th>\n",
       "      <th>gender</th>\n",
       "      <th>vehicle_size</th>\n",
       "      <th>number_of_policies</th>\n",
       "    </tr>\n",
       "  </thead>\n",
       "  <tbody>\n",
       "    <tr>\n",
       "      <th>0</th>\n",
       "      <td>F</td>\n",
       "      <td>Large</td>\n",
       "      <td>2.916832</td>\n",
       "    </tr>\n",
       "    <tr>\n",
       "      <th>1</th>\n",
       "      <td>F</td>\n",
       "      <td>Medsize</td>\n",
       "      <td>2.918885</td>\n",
       "    </tr>\n",
       "    <tr>\n",
       "      <th>2</th>\n",
       "      <td>F</td>\n",
       "      <td>Small</td>\n",
       "      <td>2.966414</td>\n",
       "    </tr>\n",
       "    <tr>\n",
       "      <th>3</th>\n",
       "      <td>M</td>\n",
       "      <td>Large</td>\n",
       "      <td>2.712018</td>\n",
       "    </tr>\n",
       "    <tr>\n",
       "      <th>4</th>\n",
       "      <td>M</td>\n",
       "      <td>Medsize</td>\n",
       "      <td>3.032874</td>\n",
       "    </tr>\n",
       "    <tr>\n",
       "      <th>5</th>\n",
       "      <td>M</td>\n",
       "      <td>Small</td>\n",
       "      <td>3.057075</td>\n",
       "    </tr>\n",
       "  </tbody>\n",
       "</table>\n",
       "</div>"
      ],
      "text/plain": [
       "  gender vehicle_size  number_of_policies\n",
       "0      F        Large            2.916832\n",
       "1      F      Medsize            2.918885\n",
       "2      F        Small            2.966414\n",
       "3      M        Large            2.712018\n",
       "4      M      Medsize            3.032874\n",
       "5      M        Small            3.057075"
      ]
     },
     "execution_count": 22,
     "metadata": {},
     "output_type": "execute_result"
    }
   ],
   "source": [
    "# veamos ahora nuestro dataframe. Yujuu ahora ya tenemos un dataframe con los resultados de nuestro groupby\n",
    "\n",
    "dff_genero"
   ]
  },
  {
   "cell_type": "code",
   "execution_count": 23,
   "id": "3e457183",
   "metadata": {
    "scrolled": true
   },
   "outputs": [
    {
     "data": {
      "text/html": [
       "<div>\n",
       "<style scoped>\n",
       "    .dataframe tbody tr th:only-of-type {\n",
       "        vertical-align: middle;\n",
       "    }\n",
       "\n",
       "    .dataframe tbody tr th {\n",
       "        vertical-align: top;\n",
       "    }\n",
       "\n",
       "    .dataframe thead th {\n",
       "        text-align: right;\n",
       "    }\n",
       "</style>\n",
       "<table border=\"1\" class=\"dataframe\">\n",
       "  <thead>\n",
       "    <tr style=\"text-align: right;\">\n",
       "      <th></th>\n",
       "      <th>gender</th>\n",
       "      <th>vehicle_size</th>\n",
       "      <th>number_of_policies</th>\n",
       "    </tr>\n",
       "  </thead>\n",
       "  <tbody>\n",
       "    <tr>\n",
       "      <th>0</th>\n",
       "      <td>F</td>\n",
       "      <td>Large</td>\n",
       "      <td>2.916832</td>\n",
       "    </tr>\n",
       "    <tr>\n",
       "      <th>1</th>\n",
       "      <td>F</td>\n",
       "      <td>Medsize</td>\n",
       "      <td>2.918885</td>\n",
       "    </tr>\n",
       "    <tr>\n",
       "      <th>2</th>\n",
       "      <td>F</td>\n",
       "      <td>Small</td>\n",
       "      <td>2.966414</td>\n",
       "    </tr>\n",
       "    <tr>\n",
       "      <th>3</th>\n",
       "      <td>M</td>\n",
       "      <td>Large</td>\n",
       "      <td>2.712018</td>\n",
       "    </tr>\n",
       "    <tr>\n",
       "      <th>4</th>\n",
       "      <td>M</td>\n",
       "      <td>Medsize</td>\n",
       "      <td>3.032874</td>\n",
       "    </tr>\n",
       "    <tr>\n",
       "      <th>5</th>\n",
       "      <td>M</td>\n",
       "      <td>Small</td>\n",
       "      <td>3.057075</td>\n",
       "    </tr>\n",
       "  </tbody>\n",
       "</table>\n",
       "</div>"
      ],
      "text/plain": [
       "  gender vehicle_size  number_of_policies\n",
       "0      F        Large            2.916832\n",
       "1      F      Medsize            2.918885\n",
       "2      F        Small            2.966414\n",
       "3      M        Large            2.712018\n",
       "4      M      Medsize            3.032874\n",
       "5      M        Small            3.057075"
      ]
     },
     "execution_count": 23,
     "metadata": {},
     "output_type": "execute_result"
    }
   ],
   "source": [
    "# 2️⃣ Usando reset_index(). Es mucho más directo, en un solo paso somos capaces de convertir la Serie a dataframe\n",
    "dff_genero2 = df_genero_tamaño.reset_index()\n",
    "dff_genero2"
   ]
  },
  {
   "cell_type": "markdown",
   "id": "a04fa023",
   "metadata": {},
   "source": [
    "# Agregación (método `agg`) "
   ]
  },
  {
   "cell_type": "markdown",
   "id": "4ab1eb71",
   "metadata": {},
   "source": [
    "Hasta ahora, cada vez que hacíamos una agrupación lo hacíamos solo para un estadístico, es decir, o la media, o la desviación estándar o la suma, etc.\n",
    "\n",
    "Con el método `agg()` podemos indicar varios estadísticos a nuestra agrupación. "
   ]
  },
  {
   "cell_type": "markdown",
   "id": "da555069",
   "metadata": {},
   "source": [
    "En nuestro último ejemplo en este jupyter agrupamos nuestros datos por género y tamaño para calcular la media del número de polizas 👇🏽"
   ]
  },
  {
   "cell_type": "code",
   "execution_count": 24,
   "id": "41a197ad",
   "metadata": {},
   "outputs": [
    {
     "data": {
      "text/plain": [
       "gender  vehicle_size\n",
       "F       Large           2.916832\n",
       "        Medsize         2.918885\n",
       "        Small           2.966414\n",
       "M       Large           2.712018\n",
       "        Medsize         3.032874\n",
       "        Small           3.057075\n",
       "Name: number_of_policies, dtype: float64"
      ]
     },
     "execution_count": 24,
     "metadata": {},
     "output_type": "execute_result"
    }
   ],
   "source": [
    "df_genero_tamaño = df.groupby([\"gender\", \"vehicle_size\"])['number_of_policies'].mean()\n",
    "df_genero_tamaño"
   ]
  },
  {
   "cell_type": "markdown",
   "id": "bf467f0e",
   "metadata": {},
   "source": [
    "**¿Cómo podríamos hacer para calcular varios estadísticos?**\n",
    "\n",
    "Lo que tendremos que hacer es añadir el método `agg` especificando en una lista los estadísticos que queremos calcular"
   ]
  },
  {
   "cell_type": "code",
   "execution_count": 25,
   "id": "790c4069",
   "metadata": {},
   "outputs": [
    {
     "data": {
      "text/html": [
       "<div>\n",
       "<style scoped>\n",
       "    .dataframe tbody tr th:only-of-type {\n",
       "        vertical-align: middle;\n",
       "    }\n",
       "\n",
       "    .dataframe tbody tr th {\n",
       "        vertical-align: top;\n",
       "    }\n",
       "\n",
       "    .dataframe thead th {\n",
       "        text-align: right;\n",
       "    }\n",
       "</style>\n",
       "<table border=\"1\" class=\"dataframe\">\n",
       "  <thead>\n",
       "    <tr style=\"text-align: right;\">\n",
       "      <th></th>\n",
       "      <th>gender</th>\n",
       "      <th>vehicle_size</th>\n",
       "      <th>mean</th>\n",
       "      <th>std</th>\n",
       "    </tr>\n",
       "  </thead>\n",
       "  <tbody>\n",
       "    <tr>\n",
       "      <th>0</th>\n",
       "      <td>F</td>\n",
       "      <td>Large</td>\n",
       "      <td>2.916832</td>\n",
       "      <td>2.472270</td>\n",
       "    </tr>\n",
       "    <tr>\n",
       "      <th>1</th>\n",
       "      <td>F</td>\n",
       "      <td>Medsize</td>\n",
       "      <td>2.918885</td>\n",
       "      <td>2.354516</td>\n",
       "    </tr>\n",
       "    <tr>\n",
       "      <th>2</th>\n",
       "      <td>F</td>\n",
       "      <td>Small</td>\n",
       "      <td>2.966414</td>\n",
       "      <td>2.322660</td>\n",
       "    </tr>\n",
       "    <tr>\n",
       "      <th>3</th>\n",
       "      <td>M</td>\n",
       "      <td>Large</td>\n",
       "      <td>2.712018</td>\n",
       "      <td>2.289515</td>\n",
       "    </tr>\n",
       "    <tr>\n",
       "      <th>4</th>\n",
       "      <td>M</td>\n",
       "      <td>Medsize</td>\n",
       "      <td>3.032874</td>\n",
       "      <td>2.448949</td>\n",
       "    </tr>\n",
       "    <tr>\n",
       "      <th>5</th>\n",
       "      <td>M</td>\n",
       "      <td>Small</td>\n",
       "      <td>3.057075</td>\n",
       "      <td>2.367252</td>\n",
       "    </tr>\n",
       "  </tbody>\n",
       "</table>\n",
       "</div>"
      ],
      "text/plain": [
       "  gender vehicle_size      mean       std\n",
       "0      F        Large  2.916832  2.472270\n",
       "1      F      Medsize  2.918885  2.354516\n",
       "2      F        Small  2.966414  2.322660\n",
       "3      M        Large  2.712018  2.289515\n",
       "4      M      Medsize  3.032874  2.448949\n",
       "5      M        Small  3.057075  2.367252"
      ]
     },
     "execution_count": 25,
     "metadata": {},
     "output_type": "execute_result"
    }
   ],
   "source": [
    "df_mean_std = df.groupby([\"gender\", \"vehicle_size\"])['number_of_policies'].agg([\"mean\", 'std'])\n",
    "df_mean_std.reset_index(inplace = True)\n",
    "df_mean_std"
   ]
  },
  {
   "cell_type": "markdown",
   "id": "0796108a",
   "metadata": {},
   "source": [
    "Por defecto, se nos generan dos columnas con los nombres de los estadísticos que estamos calculando. \n",
    "\n",
    "Pero podemos establecer el nombre de estas columnas en el propio método `agg`"
   ]
  },
  {
   "cell_type": "code",
   "execution_count": 26,
   "id": "938b6855",
   "metadata": {},
   "outputs": [
    {
     "data": {
      "text/html": [
       "<div>\n",
       "<style scoped>\n",
       "    .dataframe tbody tr th:only-of-type {\n",
       "        vertical-align: middle;\n",
       "    }\n",
       "\n",
       "    .dataframe tbody tr th {\n",
       "        vertical-align: top;\n",
       "    }\n",
       "\n",
       "    .dataframe thead th {\n",
       "        text-align: right;\n",
       "    }\n",
       "</style>\n",
       "<table border=\"1\" class=\"dataframe\">\n",
       "  <thead>\n",
       "    <tr style=\"text-align: right;\">\n",
       "      <th></th>\n",
       "      <th>gender</th>\n",
       "      <th>vehicle_size</th>\n",
       "      <th>media_genero_tamaño</th>\n",
       "      <th>std_genero_tamaño</th>\n",
       "    </tr>\n",
       "  </thead>\n",
       "  <tbody>\n",
       "    <tr>\n",
       "      <th>0</th>\n",
       "      <td>F</td>\n",
       "      <td>Large</td>\n",
       "      <td>2.916832</td>\n",
       "      <td>2.472270</td>\n",
       "    </tr>\n",
       "    <tr>\n",
       "      <th>1</th>\n",
       "      <td>F</td>\n",
       "      <td>Medsize</td>\n",
       "      <td>2.918885</td>\n",
       "      <td>2.354516</td>\n",
       "    </tr>\n",
       "    <tr>\n",
       "      <th>2</th>\n",
       "      <td>F</td>\n",
       "      <td>Small</td>\n",
       "      <td>2.966414</td>\n",
       "      <td>2.322660</td>\n",
       "    </tr>\n",
       "    <tr>\n",
       "      <th>3</th>\n",
       "      <td>M</td>\n",
       "      <td>Large</td>\n",
       "      <td>2.712018</td>\n",
       "      <td>2.289515</td>\n",
       "    </tr>\n",
       "    <tr>\n",
       "      <th>4</th>\n",
       "      <td>M</td>\n",
       "      <td>Medsize</td>\n",
       "      <td>3.032874</td>\n",
       "      <td>2.448949</td>\n",
       "    </tr>\n",
       "    <tr>\n",
       "      <th>5</th>\n",
       "      <td>M</td>\n",
       "      <td>Small</td>\n",
       "      <td>3.057075</td>\n",
       "      <td>2.367252</td>\n",
       "    </tr>\n",
       "  </tbody>\n",
       "</table>\n",
       "</div>"
      ],
      "text/plain": [
       "  gender vehicle_size  media_genero_tamaño  std_genero_tamaño\n",
       "0      F        Large             2.916832           2.472270\n",
       "1      F      Medsize             2.918885           2.354516\n",
       "2      F        Small             2.966414           2.322660\n",
       "3      M        Large             2.712018           2.289515\n",
       "4      M      Medsize             3.032874           2.448949\n",
       "5      M        Small             3.057075           2.367252"
      ]
     },
     "execution_count": 26,
     "metadata": {},
     "output_type": "execute_result"
    }
   ],
   "source": [
    "df_mean_std = df.groupby([\"gender\", \"vehicle_size\"])['number_of_policies'].agg(media_genero_tamaño =(\"mean\"),\n",
    "                                                                               std_genero_tamaño= ('std'))\n",
    "\n",
    "df_mean_std.reset_index(inplace = True)\n",
    "df_mean_std"
   ]
  },
  {
   "cell_type": "markdown",
   "id": "db7ace72",
   "metadata": {},
   "source": [
    "# Tratamiento de nulos"
   ]
  },
  {
   "cell_type": "markdown",
   "id": "261eda29",
   "metadata": {},
   "source": [
    "Por defecto el groupby ingnora los NaN cuando realiza el agrupamiento. podemos incluir el parámetro `dropna` (por defecto True) para que tenga en cuenta los NaN en el cálculo de los estadísticos. "
   ]
  },
  {
   "cell_type": "code",
   "execution_count": 27,
   "id": "4c0bbf84",
   "metadata": {},
   "outputs": [
    {
     "data": {
      "text/html": [
       "<div>\n",
       "<style scoped>\n",
       "    .dataframe tbody tr th:only-of-type {\n",
       "        vertical-align: middle;\n",
       "    }\n",
       "\n",
       "    .dataframe tbody tr th {\n",
       "        vertical-align: top;\n",
       "    }\n",
       "\n",
       "    .dataframe thead th {\n",
       "        text-align: right;\n",
       "    }\n",
       "</style>\n",
       "<table border=\"1\" class=\"dataframe\">\n",
       "  <thead>\n",
       "    <tr style=\"text-align: right;\">\n",
       "      <th></th>\n",
       "      <th></th>\n",
       "      <th>media_genero_tamaño</th>\n",
       "      <th>std_genero_tamaño</th>\n",
       "    </tr>\n",
       "    <tr>\n",
       "      <th>gender</th>\n",
       "      <th>vehicle_size</th>\n",
       "      <th></th>\n",
       "      <th></th>\n",
       "    </tr>\n",
       "  </thead>\n",
       "  <tbody>\n",
       "    <tr>\n",
       "      <th rowspan=\"3\" valign=\"top\">F</th>\n",
       "      <th>Large</th>\n",
       "      <td>2.916832</td>\n",
       "      <td>2.472270</td>\n",
       "    </tr>\n",
       "    <tr>\n",
       "      <th>Medsize</th>\n",
       "      <td>2.918885</td>\n",
       "      <td>2.354516</td>\n",
       "    </tr>\n",
       "    <tr>\n",
       "      <th>Small</th>\n",
       "      <td>2.966414</td>\n",
       "      <td>2.322660</td>\n",
       "    </tr>\n",
       "    <tr>\n",
       "      <th rowspan=\"3\" valign=\"top\">M</th>\n",
       "      <th>Large</th>\n",
       "      <td>2.712018</td>\n",
       "      <td>2.289515</td>\n",
       "    </tr>\n",
       "    <tr>\n",
       "      <th>Medsize</th>\n",
       "      <td>3.032874</td>\n",
       "      <td>2.448949</td>\n",
       "    </tr>\n",
       "    <tr>\n",
       "      <th>Small</th>\n",
       "      <td>3.057075</td>\n",
       "      <td>2.367252</td>\n",
       "    </tr>\n",
       "  </tbody>\n",
       "</table>\n",
       "</div>"
      ],
      "text/plain": [
       "                     media_genero_tamaño  std_genero_tamaño\n",
       "gender vehicle_size                                        \n",
       "F      Large                    2.916832           2.472270\n",
       "       Medsize                  2.918885           2.354516\n",
       "       Small                    2.966414           2.322660\n",
       "M      Large                    2.712018           2.289515\n",
       "       Medsize                  3.032874           2.448949\n",
       "       Small                    3.057075           2.367252"
      ]
     },
     "execution_count": 27,
     "metadata": {},
     "output_type": "execute_result"
    }
   ],
   "source": [
    "df_mean_std2 = df.groupby([\"gender\", \"vehicle_size\"], dropna = False)['number_of_policies'].agg(media_genero_tamaño =(\"mean\"),\n",
    "                                                                                               std_genero_tamaño= ('std'))\n",
    "\n",
    "df_mean_std2\n"
   ]
  },
  {
   "cell_type": "markdown",
   "id": "0088f2eb",
   "metadata": {},
   "source": [
    "📌 **NOTA** En este caso los valores no cambian porque no tenemos ningún nulo en nuestro *dataframe*. Pero si los tuvieramos cambiarían los valores del groupby! "
   ]
  },
  {
   "cell_type": "markdown",
   "id": "44172156",
   "metadata": {},
   "source": [
    "**EJERCICIOS**\n",
    "\n",
    "En la carpeta de *datos* tenéis un dataset que se llama \"titanic.csv\": \n",
    "\n",
    "1️⃣ Cargar el dataset\n",
    "\n",
    "2️⃣ ¿Cuánta gente sobrevivió de media en función de la clase? \n",
    "\n",
    "3️⃣ ¿Hubo diferencia entre sexos y clases en la media de personas que sobrevivieron? \n",
    "\n",
    "3️⃣ ¿Hubo diferencia entre sexos y clases en la media de personas que sobrevivieron? \n",
    "\n",
    "4️⃣ Calcula la media, la mediana y mediana de la edad en funcion de la clase. "
   ]
  },
  {
   "cell_type": "code",
   "execution_count": null,
   "id": "d02c5e9b",
   "metadata": {},
   "outputs": [],
   "source": []
  }
 ],
 "metadata": {
  "interpreter": {
   "hash": "a2a25da4702e7ca1aacc8a7d4e81059851e19fd1060402175b35fae4c2a518e8"
  },
  "kernelspec": {
   "display_name": "adalab",
   "language": "python",
   "name": "python3"
  },
  "language_info": {
   "codemirror_mode": {
    "name": "ipython",
    "version": 3
   },
   "file_extension": ".py",
   "mimetype": "text/x-python",
   "name": "python",
   "nbconvert_exporter": "python",
   "pygments_lexer": "ipython3",
   "version": "3.9.7"
  },
  "toc": {
   "base_numbering": 1,
   "nav_menu": {},
   "number_sections": true,
   "sideBar": true,
   "skip_h1_title": false,
   "title_cell": "Table of Contents",
   "title_sidebar": "Contents",
   "toc_cell": true,
   "toc_position": {
    "height": "calc(100% - 180px)",
    "left": "10px",
    "top": "150px",
    "width": "384px"
   },
   "toc_section_display": true,
   "toc_window_display": false
  }
 },
 "nbformat": 4,
 "nbformat_minor": 5
}
