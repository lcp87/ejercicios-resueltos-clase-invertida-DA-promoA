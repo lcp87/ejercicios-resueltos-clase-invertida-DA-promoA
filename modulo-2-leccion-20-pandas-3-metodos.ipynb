{
 "cells": [
  {
   "cell_type": "markdown",
   "id": "89afc61d",
   "metadata": {
    "toc": true
   },
   "source": [
    "<h1>Table of Contents<span class=\"tocSkip\"></span></h1>\n",
    "<div class=\"toc\"><ul class=\"toc-item\"><li><span><a href=\"#Métodos-de-pandas\" data-toc-modified-id=\"Métodos-de-pandas-1\"><span class=\"toc-item-num\">1&nbsp;&nbsp;</span>Métodos de pandas</a></span><ul class=\"toc-item\"><li><span><a href=\"#Métodos-para-explorar-nuestro-dataframe\" data-toc-modified-id=\"Métodos-para-explorar-nuestro-dataframe-1.1\"><span class=\"toc-item-num\">1.1&nbsp;&nbsp;</span>Métodos para explorar nuestro <em>dataframe</em></a></span></li><li><span><a href=\"#Métodos-para-modificar-algunas-características\" data-toc-modified-id=\"Métodos-para-modificar-algunas-características-1.2\"><span class=\"toc-item-num\">1.2&nbsp;&nbsp;</span>Métodos para modificar algunas características</a></span></li></ul></li><li><span><a href=\"#Reasignación-columnas-df[‘x’]-=-df[‘x’]\" data-toc-modified-id=\"Reasignación-columnas-df[‘x’]-=-df[‘x’]-2\"><span class=\"toc-item-num\">2&nbsp;&nbsp;</span>Reasignación columnas df[‘x’] = df[‘x’]</a></span></li></ul></div>"
   ]
  },
  {
   "cell_type": "markdown",
   "id": "951972a5",
   "metadata": {},
   "source": [
    "**Como siempre antes de empezar tenemos que hacer el import!!**"
   ]
  },
  {
   "cell_type": "code",
   "execution_count": 3,
   "id": "40ccb5f2",
   "metadata": {},
   "outputs": [],
   "source": [
    "import pandas as pd"
   ]
  },
  {
   "cell_type": "markdown",
   "id": "b4fd5310",
   "metadata": {},
   "source": [
    "# Métodos de pandas "
   ]
  },
  {
   "cell_type": "markdown",
   "id": "0aa1ef83",
   "metadata": {},
   "source": [
    "En este apartado vamos a ver algunos de los principales que podemos aplicar a nuestros *dataframes*. El principal objetivo de estos métodos es hacer una exploración inicial de nuestro dataframe, aunque algunos de ellos nos servirán para hacer algunos cambios en nuestro dataframe, como por ejemplo cambiar el nombre de las columnas o reemplazar ciertos caracteres. Algunos de los métodos son: \n",
    "\n",
    "- Métodos para exploración básica del *dataframe*: \n",
    "\n",
    "    - `.head()`\n",
    "\n",
    "    - `.tail()`\n",
    "\n",
    "    - `.sample()`\n",
    "\n",
    "    - `.columns`\n",
    "\n",
    "    - `.shape`\n",
    "\n",
    "    - `.describe()`\n",
    "\n",
    "    - `.info()`\n",
    "\n",
    "    - `.unique`\n",
    "\n",
    "    - `.value_counts()`\n",
    "    \n",
    "    - `.isnull()`\n",
    "    \n",
    "    - `.isna()`\n",
    "    \n",
    "    - `.corr()`\n",
    "\n",
    "\n",
    "\n",
    "- Métodos para modificar algunas características básicas de nuestro *dataframe*: \n",
    "\n",
    "    - `.set_index()`\n",
    "    - `.reset_index()`\n",
    "    - `.rename()`\n",
    "    - `.drop()`\n",
    "    - `.cut()`\n",
    "    - `.replace()`\n",
    "\n",
    "\n"
   ]
  },
  {
   "cell_type": "markdown",
   "id": "5dd3d666",
   "metadata": {},
   "source": [
    "📌Ante de empezar vamos a cargar un dataset para poder trabajar. En Python tenemos una serie de librerias que nos van a proveer de datasets para que nosotros podamos trabajar. En este caso usaremos la librería `PyDataset`\n",
    "\n",
    "- Lo primero que tenemos que hacer es instalarla desde la terminal\n",
    "```\n",
    "pip install pydataset\n",
    "```\n",
    "o \n",
    "\n",
    "```\n",
    "pip3 install pydataset\n",
    "```\n",
    "\n",
    "- Una vez instalado lo importamos en nuestro jupyter: \n",
    "\n",
    "```python\n",
    "from pydataset import data\n",
    "```"
   ]
  },
  {
   "cell_type": "code",
   "execution_count": 4,
   "id": "8c3051b6",
   "metadata": {},
   "outputs": [],
   "source": [
    "from pydataset import data\n"
   ]
  },
  {
   "cell_type": "code",
   "execution_count": 5,
   "id": "47f2f7f1",
   "metadata": {},
   "outputs": [
    {
     "data": {
      "text/html": [
       "<div>\n",
       "<style scoped>\n",
       "    .dataframe tbody tr th:only-of-type {\n",
       "        vertical-align: middle;\n",
       "    }\n",
       "\n",
       "    .dataframe tbody tr th {\n",
       "        vertical-align: top;\n",
       "    }\n",
       "\n",
       "    .dataframe thead th {\n",
       "        text-align: right;\n",
       "    }\n",
       "</style>\n",
       "<table border=\"1\" class=\"dataframe\">\n",
       "  <thead>\n",
       "    <tr style=\"text-align: right;\">\n",
       "      <th></th>\n",
       "      <th>dataset_id</th>\n",
       "      <th>title</th>\n",
       "    </tr>\n",
       "  </thead>\n",
       "  <tbody>\n",
       "    <tr>\n",
       "      <th>0</th>\n",
       "      <td>AirPassengers</td>\n",
       "      <td>Monthly Airline Passenger Numbers 1949-1960</td>\n",
       "    </tr>\n",
       "    <tr>\n",
       "      <th>1</th>\n",
       "      <td>BJsales</td>\n",
       "      <td>Sales Data with Leading Indicator</td>\n",
       "    </tr>\n",
       "    <tr>\n",
       "      <th>2</th>\n",
       "      <td>BOD</td>\n",
       "      <td>Biochemical Oxygen Demand</td>\n",
       "    </tr>\n",
       "    <tr>\n",
       "      <th>3</th>\n",
       "      <td>Formaldehyde</td>\n",
       "      <td>Determination of Formaldehyde</td>\n",
       "    </tr>\n",
       "    <tr>\n",
       "      <th>4</th>\n",
       "      <td>HairEyeColor</td>\n",
       "      <td>Hair and Eye Color of Statistics Students</td>\n",
       "    </tr>\n",
       "  </tbody>\n",
       "</table>\n",
       "</div>"
      ],
      "text/plain": [
       "      dataset_id                                        title\n",
       "0  AirPassengers  Monthly Airline Passenger Numbers 1949-1960\n",
       "1        BJsales            Sales Data with Leading Indicator\n",
       "2            BOD                    Biochemical Oxygen Demand\n",
       "3   Formaldehyde                Determination of Formaldehyde\n",
       "4   HairEyeColor    Hair and Eye Color of Statistics Students"
      ]
     },
     "execution_count": 5,
     "metadata": {},
     "output_type": "execute_result"
    }
   ],
   "source": [
    "# para saber que datasets tenemos \n",
    "dfs = data()\n",
    "dfs.head()\n"
   ]
  },
  {
   "cell_type": "markdown",
   "id": "c2cd3d71",
   "metadata": {},
   "source": [
    "Si nos fijamos tenemos 757 datasets, donde tenemos información sobre su título y un `id` el cual usaremos para cargar ese dataset. En este jupyter usaremos un dataset con información sobre plantas petrolíferas"
   ]
  },
  {
   "cell_type": "code",
   "execution_count": 6,
   "id": "ba212b6f",
   "metadata": {},
   "outputs": [],
   "source": [
    "# cargamos el dataframe con el que queremos trabajar\n",
    "\n",
    "df = data('rock')"
   ]
  },
  {
   "cell_type": "code",
   "execution_count": 7,
   "id": "e9a04146",
   "metadata": {},
   "outputs": [
    {
     "data": {
      "text/plain": [
       "<bound method NDFrame.describe of      area      peri     shape    perm\n",
       "1    4990  2791.900  0.090330     6.3\n",
       "2    7002  3892.600  0.148622     6.3\n",
       "3    7558  3930.660  0.183312     6.3\n",
       "4    7352  3869.320  0.117063     6.3\n",
       "5    7943  3948.540  0.122417    17.1\n",
       "6    7979  4010.150  0.167045    17.1\n",
       "7    9333  4345.750  0.189651    17.1\n",
       "8    8209  4344.750  0.164127    17.1\n",
       "9    8393  3682.040  0.203654   119.0\n",
       "10   6425  3098.650  0.162394   119.0\n",
       "11   9364  4480.050  0.150944   119.0\n",
       "12   8624  3986.240  0.148141   119.0\n",
       "13  10651  4036.540  0.228595    82.4\n",
       "14   8868  3518.040  0.231623    82.4\n",
       "15   9417  3999.370  0.172567    82.4\n",
       "16   8874  3629.070  0.153481    82.4\n",
       "17  10962  4608.660  0.204314    58.6\n",
       "18  10743  4787.620  0.262727    58.6\n",
       "19  11878  4864.220  0.200071    58.6\n",
       "20   9867  4479.410  0.144810    58.6\n",
       "21   7838  3428.740  0.113852   142.0\n",
       "22  11876  4353.140  0.291029   142.0\n",
       "23  12212  4697.650  0.240077   142.0\n",
       "24   8233  3518.440  0.161865   142.0\n",
       "25   6360  1977.390  0.280887   740.0\n",
       "26   4193  1379.350  0.179455   740.0\n",
       "27   7416  1916.240  0.191802   740.0\n",
       "28   5246  1585.420  0.133083   740.0\n",
       "29   6509  1851.210  0.225214   890.0\n",
       "30   4895  1239.660  0.341273   890.0\n",
       "31   6775  1728.140  0.311646   890.0\n",
       "32   7894  1461.060  0.276016   890.0\n",
       "33   5980  1426.760  0.197653   950.0\n",
       "34   5318   990.388  0.326635   950.0\n",
       "35   7392  1350.760  0.154192   950.0\n",
       "36   7894  1461.060  0.276016   950.0\n",
       "37   3469  1376.700  0.176969   100.0\n",
       "38   1468   476.322  0.438712   100.0\n",
       "39   3524  1189.460  0.163586   100.0\n",
       "40   5267  1644.960  0.253832   100.0\n",
       "41   5048   941.543  0.328641  1300.0\n",
       "42   1016   308.642  0.230081  1300.0\n",
       "43   5605  1145.690  0.464125  1300.0\n",
       "44   8793  2280.490  0.420477  1300.0\n",
       "45   3475  1174.110  0.200744   580.0\n",
       "46   1651   597.808  0.262651   580.0\n",
       "47   5514  1455.880  0.182453   580.0\n",
       "48   9718  1485.580  0.200447   580.0>"
      ]
     },
     "execution_count": 7,
     "metadata": {},
     "output_type": "execute_result"
    }
   ],
   "source": [
    "df.head()\n",
    "df.describe"
   ]
  },
  {
   "cell_type": "markdown",
   "id": "b5a67907",
   "metadata": {},
   "source": [
    "## Métodos para explorar nuestro *dataframe*"
   ]
  },
  {
   "cell_type": "markdown",
   "id": "124916ce",
   "metadata": {},
   "source": [
    "- `head()`\n",
    "\n",
    "Nos permite ver las primeras lineas de nuestro *dataframe*. Por defecto, nos devolverá las 5 primeras lineas. "
   ]
  },
  {
   "cell_type": "code",
   "execution_count": 8,
   "id": "04d80f3e",
   "metadata": {},
   "outputs": [
    {
     "data": {
      "text/html": [
       "<div>\n",
       "<style scoped>\n",
       "    .dataframe tbody tr th:only-of-type {\n",
       "        vertical-align: middle;\n",
       "    }\n",
       "\n",
       "    .dataframe tbody tr th {\n",
       "        vertical-align: top;\n",
       "    }\n",
       "\n",
       "    .dataframe thead th {\n",
       "        text-align: right;\n",
       "    }\n",
       "</style>\n",
       "<table border=\"1\" class=\"dataframe\">\n",
       "  <thead>\n",
       "    <tr style=\"text-align: right;\">\n",
       "      <th></th>\n",
       "      <th>area</th>\n",
       "      <th>peri</th>\n",
       "      <th>shape</th>\n",
       "      <th>perm</th>\n",
       "    </tr>\n",
       "  </thead>\n",
       "  <tbody>\n",
       "    <tr>\n",
       "      <th>1</th>\n",
       "      <td>4990</td>\n",
       "      <td>2791.90</td>\n",
       "      <td>0.090330</td>\n",
       "      <td>6.3</td>\n",
       "    </tr>\n",
       "    <tr>\n",
       "      <th>2</th>\n",
       "      <td>7002</td>\n",
       "      <td>3892.60</td>\n",
       "      <td>0.148622</td>\n",
       "      <td>6.3</td>\n",
       "    </tr>\n",
       "    <tr>\n",
       "      <th>3</th>\n",
       "      <td>7558</td>\n",
       "      <td>3930.66</td>\n",
       "      <td>0.183312</td>\n",
       "      <td>6.3</td>\n",
       "    </tr>\n",
       "    <tr>\n",
       "      <th>4</th>\n",
       "      <td>7352</td>\n",
       "      <td>3869.32</td>\n",
       "      <td>0.117063</td>\n",
       "      <td>6.3</td>\n",
       "    </tr>\n",
       "    <tr>\n",
       "      <th>5</th>\n",
       "      <td>7943</td>\n",
       "      <td>3948.54</td>\n",
       "      <td>0.122417</td>\n",
       "      <td>17.1</td>\n",
       "    </tr>\n",
       "  </tbody>\n",
       "</table>\n",
       "</div>"
      ],
      "text/plain": [
       "   area     peri     shape  perm\n",
       "1  4990  2791.90  0.090330   6.3\n",
       "2  7002  3892.60  0.148622   6.3\n",
       "3  7558  3930.66  0.183312   6.3\n",
       "4  7352  3869.32  0.117063   6.3\n",
       "5  7943  3948.54  0.122417  17.1"
      ]
     },
     "execution_count": 8,
     "metadata": {},
     "output_type": "execute_result"
    }
   ],
   "source": [
    "df.head()\n"
   ]
  },
  {
   "cell_type": "code",
   "execution_count": 9,
   "id": "2bd309aa",
   "metadata": {},
   "outputs": [
    {
     "data": {
      "text/html": [
       "<div>\n",
       "<style scoped>\n",
       "    .dataframe tbody tr th:only-of-type {\n",
       "        vertical-align: middle;\n",
       "    }\n",
       "\n",
       "    .dataframe tbody tr th {\n",
       "        vertical-align: top;\n",
       "    }\n",
       "\n",
       "    .dataframe thead th {\n",
       "        text-align: right;\n",
       "    }\n",
       "</style>\n",
       "<table border=\"1\" class=\"dataframe\">\n",
       "  <thead>\n",
       "    <tr style=\"text-align: right;\">\n",
       "      <th></th>\n",
       "      <th>area</th>\n",
       "      <th>peri</th>\n",
       "      <th>shape</th>\n",
       "      <th>perm</th>\n",
       "    </tr>\n",
       "  </thead>\n",
       "  <tbody>\n",
       "    <tr>\n",
       "      <th>1</th>\n",
       "      <td>4990</td>\n",
       "      <td>2791.90</td>\n",
       "      <td>0.090330</td>\n",
       "      <td>6.3</td>\n",
       "    </tr>\n",
       "    <tr>\n",
       "      <th>2</th>\n",
       "      <td>7002</td>\n",
       "      <td>3892.60</td>\n",
       "      <td>0.148622</td>\n",
       "      <td>6.3</td>\n",
       "    </tr>\n",
       "    <tr>\n",
       "      <th>3</th>\n",
       "      <td>7558</td>\n",
       "      <td>3930.66</td>\n",
       "      <td>0.183312</td>\n",
       "      <td>6.3</td>\n",
       "    </tr>\n",
       "    <tr>\n",
       "      <th>4</th>\n",
       "      <td>7352</td>\n",
       "      <td>3869.32</td>\n",
       "      <td>0.117063</td>\n",
       "      <td>6.3</td>\n",
       "    </tr>\n",
       "    <tr>\n",
       "      <th>5</th>\n",
       "      <td>7943</td>\n",
       "      <td>3948.54</td>\n",
       "      <td>0.122417</td>\n",
       "      <td>17.1</td>\n",
       "    </tr>\n",
       "    <tr>\n",
       "      <th>6</th>\n",
       "      <td>7979</td>\n",
       "      <td>4010.15</td>\n",
       "      <td>0.167045</td>\n",
       "      <td>17.1</td>\n",
       "    </tr>\n",
       "    <tr>\n",
       "      <th>7</th>\n",
       "      <td>9333</td>\n",
       "      <td>4345.75</td>\n",
       "      <td>0.189651</td>\n",
       "      <td>17.1</td>\n",
       "    </tr>\n",
       "  </tbody>\n",
       "</table>\n",
       "</div>"
      ],
      "text/plain": [
       "   area     peri     shape  perm\n",
       "1  4990  2791.90  0.090330   6.3\n",
       "2  7002  3892.60  0.148622   6.3\n",
       "3  7558  3930.66  0.183312   6.3\n",
       "4  7352  3869.32  0.117063   6.3\n",
       "5  7943  3948.54  0.122417  17.1\n",
       "6  7979  4010.15  0.167045  17.1\n",
       "7  9333  4345.75  0.189651  17.1"
      ]
     },
     "execution_count": 9,
     "metadata": {},
     "output_type": "execute_result"
    }
   ],
   "source": [
    "# en caso de que queramos más filas solo tendremos que especificar el número entre paréntesis\n",
    "\n",
    "df.head(7)"
   ]
  },
  {
   "cell_type": "markdown",
   "id": "be2a8ec5",
   "metadata": {},
   "source": [
    "- `tail()` \n",
    "\n",
    "Nos permite ver las últimas filas de nuestro *dataframe*, por defecto 5. Pero al igual que en `head()`, podemos especificar el número de filas que querremos ver. "
   ]
  },
  {
   "cell_type": "code",
   "execution_count": 10,
   "id": "9c359a42",
   "metadata": {},
   "outputs": [
    {
     "data": {
      "text/html": [
       "<div>\n",
       "<style scoped>\n",
       "    .dataframe tbody tr th:only-of-type {\n",
       "        vertical-align: middle;\n",
       "    }\n",
       "\n",
       "    .dataframe tbody tr th {\n",
       "        vertical-align: top;\n",
       "    }\n",
       "\n",
       "    .dataframe thead th {\n",
       "        text-align: right;\n",
       "    }\n",
       "</style>\n",
       "<table border=\"1\" class=\"dataframe\">\n",
       "  <thead>\n",
       "    <tr style=\"text-align: right;\">\n",
       "      <th></th>\n",
       "      <th>area</th>\n",
       "      <th>peri</th>\n",
       "      <th>shape</th>\n",
       "      <th>perm</th>\n",
       "    </tr>\n",
       "  </thead>\n",
       "  <tbody>\n",
       "    <tr>\n",
       "      <th>44</th>\n",
       "      <td>8793</td>\n",
       "      <td>2280.490</td>\n",
       "      <td>0.420477</td>\n",
       "      <td>1300.0</td>\n",
       "    </tr>\n",
       "    <tr>\n",
       "      <th>45</th>\n",
       "      <td>3475</td>\n",
       "      <td>1174.110</td>\n",
       "      <td>0.200744</td>\n",
       "      <td>580.0</td>\n",
       "    </tr>\n",
       "    <tr>\n",
       "      <th>46</th>\n",
       "      <td>1651</td>\n",
       "      <td>597.808</td>\n",
       "      <td>0.262651</td>\n",
       "      <td>580.0</td>\n",
       "    </tr>\n",
       "    <tr>\n",
       "      <th>47</th>\n",
       "      <td>5514</td>\n",
       "      <td>1455.880</td>\n",
       "      <td>0.182453</td>\n",
       "      <td>580.0</td>\n",
       "    </tr>\n",
       "    <tr>\n",
       "      <th>48</th>\n",
       "      <td>9718</td>\n",
       "      <td>1485.580</td>\n",
       "      <td>0.200447</td>\n",
       "      <td>580.0</td>\n",
       "    </tr>\n",
       "  </tbody>\n",
       "</table>\n",
       "</div>"
      ],
      "text/plain": [
       "    area      peri     shape    perm\n",
       "44  8793  2280.490  0.420477  1300.0\n",
       "45  3475  1174.110  0.200744   580.0\n",
       "46  1651   597.808  0.262651   580.0\n",
       "47  5514  1455.880  0.182453   580.0\n",
       "48  9718  1485.580  0.200447   580.0"
      ]
     },
     "execution_count": 10,
     "metadata": {},
     "output_type": "execute_result"
    }
   ],
   "source": [
    "df.tail()\n"
   ]
  },
  {
   "cell_type": "code",
   "execution_count": 11,
   "id": "70aff616",
   "metadata": {},
   "outputs": [
    {
     "data": {
      "text/html": [
       "<div>\n",
       "<style scoped>\n",
       "    .dataframe tbody tr th:only-of-type {\n",
       "        vertical-align: middle;\n",
       "    }\n",
       "\n",
       "    .dataframe tbody tr th {\n",
       "        vertical-align: top;\n",
       "    }\n",
       "\n",
       "    .dataframe thead th {\n",
       "        text-align: right;\n",
       "    }\n",
       "</style>\n",
       "<table border=\"1\" class=\"dataframe\">\n",
       "  <thead>\n",
       "    <tr style=\"text-align: right;\">\n",
       "      <th></th>\n",
       "      <th>area</th>\n",
       "      <th>peri</th>\n",
       "      <th>shape</th>\n",
       "      <th>perm</th>\n",
       "    </tr>\n",
       "  </thead>\n",
       "  <tbody>\n",
       "    <tr>\n",
       "      <th>42</th>\n",
       "      <td>1016</td>\n",
       "      <td>308.642</td>\n",
       "      <td>0.230081</td>\n",
       "      <td>1300.0</td>\n",
       "    </tr>\n",
       "    <tr>\n",
       "      <th>43</th>\n",
       "      <td>5605</td>\n",
       "      <td>1145.690</td>\n",
       "      <td>0.464125</td>\n",
       "      <td>1300.0</td>\n",
       "    </tr>\n",
       "    <tr>\n",
       "      <th>44</th>\n",
       "      <td>8793</td>\n",
       "      <td>2280.490</td>\n",
       "      <td>0.420477</td>\n",
       "      <td>1300.0</td>\n",
       "    </tr>\n",
       "    <tr>\n",
       "      <th>45</th>\n",
       "      <td>3475</td>\n",
       "      <td>1174.110</td>\n",
       "      <td>0.200744</td>\n",
       "      <td>580.0</td>\n",
       "    </tr>\n",
       "    <tr>\n",
       "      <th>46</th>\n",
       "      <td>1651</td>\n",
       "      <td>597.808</td>\n",
       "      <td>0.262651</td>\n",
       "      <td>580.0</td>\n",
       "    </tr>\n",
       "    <tr>\n",
       "      <th>47</th>\n",
       "      <td>5514</td>\n",
       "      <td>1455.880</td>\n",
       "      <td>0.182453</td>\n",
       "      <td>580.0</td>\n",
       "    </tr>\n",
       "    <tr>\n",
       "      <th>48</th>\n",
       "      <td>9718</td>\n",
       "      <td>1485.580</td>\n",
       "      <td>0.200447</td>\n",
       "      <td>580.0</td>\n",
       "    </tr>\n",
       "  </tbody>\n",
       "</table>\n",
       "</div>"
      ],
      "text/plain": [
       "    area      peri     shape    perm\n",
       "42  1016   308.642  0.230081  1300.0\n",
       "43  5605  1145.690  0.464125  1300.0\n",
       "44  8793  2280.490  0.420477  1300.0\n",
       "45  3475  1174.110  0.200744   580.0\n",
       "46  1651   597.808  0.262651   580.0\n",
       "47  5514  1455.880  0.182453   580.0\n",
       "48  9718  1485.580  0.200447   580.0"
      ]
     },
     "execution_count": 11,
     "metadata": {},
     "output_type": "execute_result"
    }
   ],
   "source": [
    "# si queremos ver las últimas 7 lineas \n",
    "\n",
    "df.tail(7)"
   ]
  },
  {
   "cell_type": "markdown",
   "id": "0f472f1d",
   "metadata": {},
   "source": [
    "- `sample()`\n",
    "\n",
    "Nos muestra filas aleatorias de nuestro *dataframe*, por defecto nos devuelve solo una, pero podemos especificar el número de filas que queremos ver. "
   ]
  },
  {
   "cell_type": "code",
   "execution_count": 12,
   "id": "4cd14905",
   "metadata": {},
   "outputs": [
    {
     "data": {
      "text/html": [
       "<div>\n",
       "<style scoped>\n",
       "    .dataframe tbody tr th:only-of-type {\n",
       "        vertical-align: middle;\n",
       "    }\n",
       "\n",
       "    .dataframe tbody tr th {\n",
       "        vertical-align: top;\n",
       "    }\n",
       "\n",
       "    .dataframe thead th {\n",
       "        text-align: right;\n",
       "    }\n",
       "</style>\n",
       "<table border=\"1\" class=\"dataframe\">\n",
       "  <thead>\n",
       "    <tr style=\"text-align: right;\">\n",
       "      <th></th>\n",
       "      <th>area</th>\n",
       "      <th>peri</th>\n",
       "      <th>shape</th>\n",
       "      <th>perm</th>\n",
       "    </tr>\n",
       "  </thead>\n",
       "  <tbody>\n",
       "    <tr>\n",
       "      <th>20</th>\n",
       "      <td>9867</td>\n",
       "      <td>4479.41</td>\n",
       "      <td>0.14481</td>\n",
       "      <td>58.6</td>\n",
       "    </tr>\n",
       "  </tbody>\n",
       "</table>\n",
       "</div>"
      ],
      "text/plain": [
       "    area     peri    shape  perm\n",
       "20  9867  4479.41  0.14481  58.6"
      ]
     },
     "execution_count": 12,
     "metadata": {},
     "output_type": "execute_result"
    }
   ],
   "source": [
    "# por defecto nos devuelve una\n",
    "\n",
    "df.sample()"
   ]
  },
  {
   "cell_type": "code",
   "execution_count": 13,
   "id": "d7ad93b8",
   "metadata": {},
   "outputs": [
    {
     "data": {
      "text/html": [
       "<div>\n",
       "<style scoped>\n",
       "    .dataframe tbody tr th:only-of-type {\n",
       "        vertical-align: middle;\n",
       "    }\n",
       "\n",
       "    .dataframe tbody tr th {\n",
       "        vertical-align: top;\n",
       "    }\n",
       "\n",
       "    .dataframe thead th {\n",
       "        text-align: right;\n",
       "    }\n",
       "</style>\n",
       "<table border=\"1\" class=\"dataframe\">\n",
       "  <thead>\n",
       "    <tr style=\"text-align: right;\">\n",
       "      <th></th>\n",
       "      <th>area</th>\n",
       "      <th>peri</th>\n",
       "      <th>shape</th>\n",
       "      <th>perm</th>\n",
       "    </tr>\n",
       "  </thead>\n",
       "  <tbody>\n",
       "    <tr>\n",
       "      <th>1</th>\n",
       "      <td>4990</td>\n",
       "      <td>2791.900</td>\n",
       "      <td>0.090330</td>\n",
       "      <td>6.3</td>\n",
       "    </tr>\n",
       "    <tr>\n",
       "      <th>46</th>\n",
       "      <td>1651</td>\n",
       "      <td>597.808</td>\n",
       "      <td>0.262651</td>\n",
       "      <td>580.0</td>\n",
       "    </tr>\n",
       "    <tr>\n",
       "      <th>8</th>\n",
       "      <td>8209</td>\n",
       "      <td>4344.750</td>\n",
       "      <td>0.164127</td>\n",
       "      <td>17.1</td>\n",
       "    </tr>\n",
       "    <tr>\n",
       "      <th>22</th>\n",
       "      <td>11876</td>\n",
       "      <td>4353.140</td>\n",
       "      <td>0.291029</td>\n",
       "      <td>142.0</td>\n",
       "    </tr>\n",
       "    <tr>\n",
       "      <th>41</th>\n",
       "      <td>5048</td>\n",
       "      <td>941.543</td>\n",
       "      <td>0.328641</td>\n",
       "      <td>1300.0</td>\n",
       "    </tr>\n",
       "  </tbody>\n",
       "</table>\n",
       "</div>"
      ],
      "text/plain": [
       "     area      peri     shape    perm\n",
       "1    4990  2791.900  0.090330     6.3\n",
       "46   1651   597.808  0.262651   580.0\n",
       "8    8209  4344.750  0.164127    17.1\n",
       "22  11876  4353.140  0.291029   142.0\n",
       "41   5048   941.543  0.328641  1300.0"
      ]
     },
     "execution_count": 13,
     "metadata": {},
     "output_type": "execute_result"
    }
   ],
   "source": [
    "# ¿y si queremos ver 5? Lo especificamos entre paréntesis. \n",
    "\n",
    "df.sample(5)"
   ]
  },
  {
   "cell_type": "markdown",
   "id": "e571b104",
   "metadata": {},
   "source": [
    "- `shape`\n",
    "\n",
    "Nos devuelve el número de filas y columnas que tenemos en nuestro *dataframe* "
   ]
  },
  {
   "cell_type": "code",
   "execution_count": 14,
   "id": "37fa7b93",
   "metadata": {},
   "outputs": [
    {
     "data": {
      "text/plain": [
       "(48, 4)"
      ]
     },
     "execution_count": 14,
     "metadata": {},
     "output_type": "execute_result"
    }
   ],
   "source": [
    "# nuestro dataset tiene 48 filas y 4 columnas\n",
    "\n",
    "df.shape"
   ]
  },
  {
   "cell_type": "markdown",
   "id": "c5ce091c",
   "metadata": {},
   "source": [
    "- `dtypes`\n",
    "\n",
    "Nos devuelve el tipo de datos que tenemos en cada una de nuestras columnas"
   ]
  },
  {
   "cell_type": "code",
   "execution_count": 15,
   "id": "5a2ba89e",
   "metadata": {},
   "outputs": [
    {
     "ename": "SyntaxError",
     "evalue": "invalid syntax (<ipython-input-15-90807562dc8f>, line 3)",
     "output_type": "error",
     "traceback": [
      "\u001b[0;36m  File \u001b[0;32m\"<ipython-input-15-90807562dc8f>\"\u001b[0;36m, line \u001b[0;32m3\u001b[0m\n\u001b[0;31m    df.\u001b[0m\n\u001b[0m       ^\u001b[0m\n\u001b[0;31mSyntaxError\u001b[0m\u001b[0;31m:\u001b[0m invalid syntax\n"
     ]
    }
   ],
   "source": [
    "# en este caso tenemos integers y floats\n",
    "\n",
    "df."
   ]
  },
  {
   "cell_type": "markdown",
   "id": "8982fd2a",
   "metadata": {},
   "source": [
    "- `.columns`\n",
    "\n",
    "Nos muestra el nombre de las columnas de nuestro *dataframe* "
   ]
  },
  {
   "cell_type": "code",
   "execution_count": null,
   "id": "af0af3a0",
   "metadata": {},
   "outputs": [
    {
     "data": {
      "text/plain": [
       "Index(['area', 'peri', 'shape', 'perm'], dtype='object')"
      ]
     },
     "execution_count": 16,
     "metadata": {},
     "output_type": "execute_result"
    }
   ],
   "source": [
    "df.columns"
   ]
  },
  {
   "cell_type": "markdown",
   "id": "73fbc607",
   "metadata": {},
   "source": [
    "- `describe()`\n",
    "\n",
    "Nos devuelve un *dataframe* con un resumen de los principales estadísticos (media, mediana, desviacón estándar etc.) de nuestras **columnas numéricas**"
   ]
  },
  {
   "cell_type": "code",
   "execution_count": null,
   "id": "7c06300c",
   "metadata": {},
   "outputs": [
    {
     "data": {
      "text/html": [
       "<div>\n",
       "<style scoped>\n",
       "    .dataframe tbody tr th:only-of-type {\n",
       "        vertical-align: middle;\n",
       "    }\n",
       "\n",
       "    .dataframe tbody tr th {\n",
       "        vertical-align: top;\n",
       "    }\n",
       "\n",
       "    .dataframe thead th {\n",
       "        text-align: right;\n",
       "    }\n",
       "</style>\n",
       "<table border=\"1\" class=\"dataframe\">\n",
       "  <thead>\n",
       "    <tr style=\"text-align: right;\">\n",
       "      <th></th>\n",
       "      <th>area</th>\n",
       "      <th>peri</th>\n",
       "      <th>shape</th>\n",
       "      <th>perm</th>\n",
       "    </tr>\n",
       "  </thead>\n",
       "  <tbody>\n",
       "    <tr>\n",
       "      <th>count</th>\n",
       "      <td>48.000000</td>\n",
       "      <td>48.000000</td>\n",
       "      <td>48.000000</td>\n",
       "      <td>48.000000</td>\n",
       "    </tr>\n",
       "    <tr>\n",
       "      <th>mean</th>\n",
       "      <td>7187.729167</td>\n",
       "      <td>2682.211938</td>\n",
       "      <td>0.218110</td>\n",
       "      <td>415.450000</td>\n",
       "    </tr>\n",
       "    <tr>\n",
       "      <th>std</th>\n",
       "      <td>2683.848862</td>\n",
       "      <td>1431.661164</td>\n",
       "      <td>0.083496</td>\n",
       "      <td>437.818226</td>\n",
       "    </tr>\n",
       "    <tr>\n",
       "      <th>min</th>\n",
       "      <td>1016.000000</td>\n",
       "      <td>308.642000</td>\n",
       "      <td>0.090330</td>\n",
       "      <td>6.300000</td>\n",
       "    </tr>\n",
       "    <tr>\n",
       "      <th>25%</th>\n",
       "      <td>5305.250000</td>\n",
       "      <td>1414.907500</td>\n",
       "      <td>0.162262</td>\n",
       "      <td>76.450000</td>\n",
       "    </tr>\n",
       "    <tr>\n",
       "      <th>50%</th>\n",
       "      <td>7487.000000</td>\n",
       "      <td>2536.195000</td>\n",
       "      <td>0.198862</td>\n",
       "      <td>130.500000</td>\n",
       "    </tr>\n",
       "    <tr>\n",
       "      <th>75%</th>\n",
       "      <td>8869.500000</td>\n",
       "      <td>3989.522500</td>\n",
       "      <td>0.262670</td>\n",
       "      <td>777.500000</td>\n",
       "    </tr>\n",
       "    <tr>\n",
       "      <th>max</th>\n",
       "      <td>12212.000000</td>\n",
       "      <td>4864.220000</td>\n",
       "      <td>0.464125</td>\n",
       "      <td>1300.000000</td>\n",
       "    </tr>\n",
       "  </tbody>\n",
       "</table>\n",
       "</div>"
      ],
      "text/plain": [
       "               area         peri      shape         perm\n",
       "count     48.000000    48.000000  48.000000    48.000000\n",
       "mean    7187.729167  2682.211938   0.218110   415.450000\n",
       "std     2683.848862  1431.661164   0.083496   437.818226\n",
       "min     1016.000000   308.642000   0.090330     6.300000\n",
       "25%     5305.250000  1414.907500   0.162262    76.450000\n",
       "50%     7487.000000  2536.195000   0.198862   130.500000\n",
       "75%     8869.500000  3989.522500   0.262670   777.500000\n",
       "max    12212.000000  4864.220000   0.464125  1300.000000"
      ]
     },
     "execution_count": 17,
     "metadata": {},
     "output_type": "execute_result"
    }
   ],
   "source": [
    "df.describe()"
   ]
  },
  {
   "cell_type": "markdown",
   "id": "d28ee2d1",
   "metadata": {},
   "source": [
    "- `info()` \n",
    "\n",
    "Nos devuelve un pequeño resumen sobre: \n",
    "\n",
    "- El número de columnas que tenemos\n",
    "\n",
    "\n",
    "- Los nombres de las columnas\n",
    "\n",
    "\n",
    "- El número de valores no nulos\n",
    "\n",
    "\n",
    "- El tipo de los datos de nuestras columnas"
   ]
  },
  {
   "cell_type": "code",
   "execution_count": null,
   "id": "85d05418",
   "metadata": {},
   "outputs": [
    {
     "name": "stdout",
     "output_type": "stream",
     "text": [
      "<class 'pandas.core.frame.DataFrame'>\n",
      "Int64Index: 48 entries, 1 to 48\n",
      "Data columns (total 4 columns):\n",
      " #   Column  Non-Null Count  Dtype  \n",
      "---  ------  --------------  -----  \n",
      " 0   area    48 non-null     int64  \n",
      " 1   peri    48 non-null     float64\n",
      " 2   shape   48 non-null     float64\n",
      " 3   perm    48 non-null     float64\n",
      "dtypes: float64(3), int64(1)\n",
      "memory usage: 1.9 KB\n"
     ]
    }
   ],
   "source": [
    "df.info()"
   ]
  },
  {
   "cell_type": "markdown",
   "id": "60b4402f",
   "metadata": {},
   "source": [
    "- `unique()`\n",
    "\n",
    "En este caso tendremos que específicar la columna sobre la que queremos trabajar. \n",
    "\n",
    "¿Cómo hacemos esto en pandas? \n",
    "\n",
    "```python\n",
    "# el nombre del dataframe seguido de corchetes con el nombre de la columna\n",
    "df[\"nombre_columna\"]\n",
    "\n",
    "# esto es lo mismo que: \n",
    "\n",
    "df.nombre_columna\n",
    "```"
   ]
  },
  {
   "cell_type": "code",
   "execution_count": null,
   "id": "f20cecdb",
   "metadata": {},
   "outputs": [
    {
     "data": {
      "text/plain": [
       "array([ 4990,  7002,  7558,  7352,  7943,  7979,  9333,  8209,  8393,\n",
       "        6425,  9364,  8624, 10651,  8868,  9417,  8874, 10962, 10743,\n",
       "       11878,  9867,  7838, 11876, 12212,  8233,  6360,  4193,  7416,\n",
       "        5246,  6509,  4895,  6775,  7894,  5980,  5318,  7392,  3469,\n",
       "        1468,  3524,  5267,  5048,  1016,  5605,  8793,  3475,  1651,\n",
       "        5514,  9718])"
      ]
     },
     "execution_count": 19,
     "metadata": {},
     "output_type": "execute_result"
    }
   ],
   "source": [
    "# en la columna area tenemos los siguientes valores únicos. \n",
    "\n",
    "df[\"area\"].unique()"
   ]
  },
  {
   "cell_type": "code",
   "execution_count": null,
   "id": "f2a59a24",
   "metadata": {},
   "outputs": [
    {
     "data": {
      "text/plain": [
       "array([   6.3,   17.1,  119. ,   82.4,   58.6,  142. ,  740. ,  890. ,\n",
       "        950. ,  100. , 1300. ,  580. ])"
      ]
     },
     "execution_count": 20,
     "metadata": {},
     "output_type": "execute_result"
    }
   ],
   "source": [
    "# ¿y que valores únicos tenemos en la columna perm?\n",
    "\n",
    "df[\"perm\"].unique()"
   ]
  },
  {
   "cell_type": "markdown",
   "id": "9f0fe0b7",
   "metadata": {},
   "source": [
    "- `value_counts()`\n",
    "\n",
    "Devuelve una serie que contiene el recuento de valores únicos.\n",
    "\n",
    "El objeto resultante estará en orden descendente para que el primer elemento sea el más frecuente. Excluye los valores NA por defecto.\n",
    "\n",
    "De nuevo tendremos que especificar que columna es sobre la que queremos aplicar el método. "
   ]
  },
  {
   "cell_type": "code",
   "execution_count": null,
   "id": "2833907a",
   "metadata": {},
   "outputs": [
    {
     "data": {
      "text/plain": [
       "82.4      4\n",
       "58.6      4\n",
       "6.3       4\n",
       "17.1      4\n",
       "580.0     4\n",
       "1300.0    4\n",
       "100.0     4\n",
       "950.0     4\n",
       "890.0     4\n",
       "740.0     4\n",
       "142.0     4\n",
       "119.0     4\n",
       "Name: perm, dtype: int64"
      ]
     },
     "execution_count": 21,
     "metadata": {},
     "output_type": "execute_result"
    }
   ],
   "source": [
    "# en este caso, para cada uno de nuestros valores únicos tenemos 4 valores en nuestro dataframe\n",
    "\n",
    "df[\"perm\"].value_counts()"
   ]
  },
  {
   "cell_type": "code",
   "execution_count": null,
   "id": "c1a18d14",
   "metadata": {},
   "outputs": [
    {
     "data": {
      "text/plain": [
       "1461.060    2\n",
       "941.543     1\n",
       "1851.210    1\n",
       "4353.140    1\n",
       "1376.700    1\n",
       "3518.440    1\n",
       "1379.350    1\n",
       "3999.370    1\n",
       "1916.240    1\n",
       "1426.760    1\n",
       "3930.660    1\n",
       "3518.040    1\n",
       "3869.320    1\n",
       "990.388     1\n",
       "4480.050    1\n",
       "4787.620    1\n",
       "4608.660    1\n",
       "3428.740    1\n",
       "1174.110    1\n",
       "1977.390    1\n",
       "4864.220    1\n",
       "1644.960    1\n",
       "1585.420    1\n",
       "308.642     1\n",
       "4345.750    1\n",
       "4036.540    1\n",
       "3629.070    1\n",
       "3682.040    1\n",
       "1145.690    1\n",
       "597.808     1\n",
       "1485.580    1\n",
       "4697.650    1\n",
       "2280.490    1\n",
       "1189.460    1\n",
       "4010.150    1\n",
       "4344.750    1\n",
       "476.322     1\n",
       "1455.880    1\n",
       "2791.900    1\n",
       "3892.600    1\n",
       "3986.240    1\n",
       "4479.410    1\n",
       "1728.140    1\n",
       "1239.660    1\n",
       "3948.540    1\n",
       "1350.760    1\n",
       "3098.650    1\n",
       "Name: peri, dtype: int64"
      ]
     },
     "execution_count": 22,
     "metadata": {},
     "output_type": "execute_result"
    }
   ],
   "source": [
    "df[\"peri\"].value_counts()"
   ]
  },
  {
   "cell_type": "markdown",
   "id": "503bf983",
   "metadata": {},
   "source": [
    "- `isnull()`\n",
    "\n",
    "Nos devuelve un booleano con los valores que faltan en nuestro dataframe."
   ]
  },
  {
   "cell_type": "code",
   "execution_count": null,
   "id": "dcb606d1",
   "metadata": {},
   "outputs": [
    {
     "data": {
      "text/html": [
       "<div>\n",
       "<style scoped>\n",
       "    .dataframe tbody tr th:only-of-type {\n",
       "        vertical-align: middle;\n",
       "    }\n",
       "\n",
       "    .dataframe tbody tr th {\n",
       "        vertical-align: top;\n",
       "    }\n",
       "\n",
       "    .dataframe thead th {\n",
       "        text-align: right;\n",
       "    }\n",
       "</style>\n",
       "<table border=\"1\" class=\"dataframe\">\n",
       "  <thead>\n",
       "    <tr style=\"text-align: right;\">\n",
       "      <th></th>\n",
       "      <th>area</th>\n",
       "      <th>peri</th>\n",
       "      <th>shape</th>\n",
       "      <th>perm</th>\n",
       "    </tr>\n",
       "  </thead>\n",
       "  <tbody>\n",
       "    <tr>\n",
       "      <th>1</th>\n",
       "      <td>False</td>\n",
       "      <td>False</td>\n",
       "      <td>False</td>\n",
       "      <td>False</td>\n",
       "    </tr>\n",
       "    <tr>\n",
       "      <th>2</th>\n",
       "      <td>False</td>\n",
       "      <td>False</td>\n",
       "      <td>False</td>\n",
       "      <td>False</td>\n",
       "    </tr>\n",
       "    <tr>\n",
       "      <th>3</th>\n",
       "      <td>False</td>\n",
       "      <td>False</td>\n",
       "      <td>False</td>\n",
       "      <td>False</td>\n",
       "    </tr>\n",
       "    <tr>\n",
       "      <th>4</th>\n",
       "      <td>False</td>\n",
       "      <td>False</td>\n",
       "      <td>False</td>\n",
       "      <td>False</td>\n",
       "    </tr>\n",
       "    <tr>\n",
       "      <th>5</th>\n",
       "      <td>False</td>\n",
       "      <td>False</td>\n",
       "      <td>False</td>\n",
       "      <td>False</td>\n",
       "    </tr>\n",
       "  </tbody>\n",
       "</table>\n",
       "</div>"
      ],
      "text/plain": [
       "    area   peri  shape   perm\n",
       "1  False  False  False  False\n",
       "2  False  False  False  False\n",
       "3  False  False  False  False\n",
       "4  False  False  False  False\n",
       "5  False  False  False  False"
      ]
     },
     "execution_count": 23,
     "metadata": {},
     "output_type": "execute_result"
    }
   ],
   "source": [
    "df.isnull().head()"
   ]
  },
  {
   "cell_type": "markdown",
   "id": "f42328fc",
   "metadata": {},
   "source": [
    "Pero si nos fijamos esto es algo difícil de interpretar, ¿cómo solucionamos esto? "
   ]
  },
  {
   "cell_type": "code",
   "execution_count": null,
   "id": "adbaeac2",
   "metadata": {},
   "outputs": [
    {
     "data": {
      "text/plain": [
       "area     0\n",
       "peri     0\n",
       "shape    0\n",
       "perm     0\n",
       "dtype: int64"
      ]
     },
     "execution_count": 24,
     "metadata": {},
     "output_type": "execute_result"
    }
   ],
   "source": [
    "# de esta forma nos devuelve el número de valores nulos que tenemos por columnas. En este caso 0 por columna\n",
    "\n",
    "df.isnull().sum()"
   ]
  },
  {
   "cell_type": "markdown",
   "id": "b12024e7",
   "metadata": {},
   "source": [
    "- `isna()`\n",
    "\n",
    "Hace lo mismo que el método anterior, nos devuelve si nuestros valores son nulos o no. "
   ]
  },
  {
   "cell_type": "code",
   "execution_count": null,
   "id": "a095ed65",
   "metadata": {},
   "outputs": [
    {
     "data": {
      "text/plain": [
       "area     0\n",
       "peri     0\n",
       "shape    0\n",
       "perm     0\n",
       "dtype: int64"
      ]
     },
     "execution_count": 25,
     "metadata": {},
     "output_type": "execute_result"
    }
   ],
   "source": [
    "df.isna().sum()"
   ]
  },
  {
   "cell_type": "markdown",
   "id": "80144866",
   "metadata": {},
   "source": [
    "- `corr()`\n",
    "\n",
    "Calcula la correlación por pares de las columnas, excluyendo los valores NA/nulos. \n",
    "\n",
    "Aunque ya lo veremos más adelante, la correlación trata de establecer la relación o dependencia que existe entre dos variables. Cuanto más cerca del 1 este este valor, más correlaciondas estarán las variables. El signo indica si esa correlación es positiva o negativa. Es decir:\n",
    "\n",
    "- Positiva: a mayor valor de una variable, mayor valor de la otra. \n",
    "\n",
    "\n",
    "- Negativa: a mayor valor de una variable, menos de la otra. "
   ]
  },
  {
   "cell_type": "code",
   "execution_count": null,
   "id": "263d9b18",
   "metadata": {},
   "outputs": [
    {
     "data": {
      "text/html": [
       "<div>\n",
       "<style scoped>\n",
       "    .dataframe tbody tr th:only-of-type {\n",
       "        vertical-align: middle;\n",
       "    }\n",
       "\n",
       "    .dataframe tbody tr th {\n",
       "        vertical-align: top;\n",
       "    }\n",
       "\n",
       "    .dataframe thead th {\n",
       "        text-align: right;\n",
       "    }\n",
       "</style>\n",
       "<table border=\"1\" class=\"dataframe\">\n",
       "  <thead>\n",
       "    <tr style=\"text-align: right;\">\n",
       "      <th></th>\n",
       "      <th>area</th>\n",
       "      <th>peri</th>\n",
       "      <th>shape</th>\n",
       "      <th>perm</th>\n",
       "    </tr>\n",
       "  </thead>\n",
       "  <tbody>\n",
       "    <tr>\n",
       "      <th>area</th>\n",
       "      <td>1.000000</td>\n",
       "      <td>0.822506</td>\n",
       "      <td>-0.182161</td>\n",
       "      <td>-0.396637</td>\n",
       "    </tr>\n",
       "    <tr>\n",
       "      <th>peri</th>\n",
       "      <td>0.822506</td>\n",
       "      <td>1.000000</td>\n",
       "      <td>-0.433126</td>\n",
       "      <td>-0.738716</td>\n",
       "    </tr>\n",
       "    <tr>\n",
       "      <th>shape</th>\n",
       "      <td>-0.182161</td>\n",
       "      <td>-0.433126</td>\n",
       "      <td>1.000000</td>\n",
       "      <td>0.556721</td>\n",
       "    </tr>\n",
       "    <tr>\n",
       "      <th>perm</th>\n",
       "      <td>-0.396637</td>\n",
       "      <td>-0.738716</td>\n",
       "      <td>0.556721</td>\n",
       "      <td>1.000000</td>\n",
       "    </tr>\n",
       "  </tbody>\n",
       "</table>\n",
       "</div>"
      ],
      "text/plain": [
       "           area      peri     shape      perm\n",
       "area   1.000000  0.822506 -0.182161 -0.396637\n",
       "peri   0.822506  1.000000 -0.433126 -0.738716\n",
       "shape -0.182161 -0.433126  1.000000  0.556721\n",
       "perm  -0.396637 -0.738716  0.556721  1.000000"
      ]
     },
     "execution_count": 26,
     "metadata": {},
     "output_type": "execute_result"
    }
   ],
   "source": [
    "df.corr()"
   ]
  },
  {
   "cell_type": "markdown",
   "id": "9f7068c8",
   "metadata": {},
   "source": [
    "## Métodos para modificar algunas características"
   ]
  },
  {
   "cell_type": "markdown",
   "id": "8c31271e",
   "metadata": {},
   "source": [
    "- `set_index()`\n",
    "\n",
    "Establezca el índice del *dataframe* utilizando las columnas existentes.\n",
    "\n",
    "Establezca el índice del DataFrame (etiquetas de fila) utilizando una o más columnas. El índice puede sustituir al índice existente o ampliarlo.\n",
    "\n",
    "La sintaxis que debemos seguir: \n",
    "\n",
    "```python\n",
    "nuestrodataframe.set_index([\"nombre_columna\"], inplace = True)\n",
    "\n",
    "# con el parámetro `inplace` lo que hacemos es sobreescribir sobre el dataframe orginal. Es decir, los cambios se ejecutarán sobre nuestro dataframe sin necesidad de crear uno nuevo\n",
    "```"
   ]
  },
  {
   "cell_type": "code",
   "execution_count": null,
   "id": "ea96b5f9",
   "metadata": {},
   "outputs": [],
   "source": [
    "\n",
    "df.set_index([\"area\"], inplace = True)"
   ]
  },
  {
   "cell_type": "code",
   "execution_count": null,
   "id": "7c5f325a",
   "metadata": {},
   "outputs": [
    {
     "data": {
      "text/html": [
       "<div>\n",
       "<style scoped>\n",
       "    .dataframe tbody tr th:only-of-type {\n",
       "        vertical-align: middle;\n",
       "    }\n",
       "\n",
       "    .dataframe tbody tr th {\n",
       "        vertical-align: top;\n",
       "    }\n",
       "\n",
       "    .dataframe thead th {\n",
       "        text-align: right;\n",
       "    }\n",
       "</style>\n",
       "<table border=\"1\" class=\"dataframe\">\n",
       "  <thead>\n",
       "    <tr style=\"text-align: right;\">\n",
       "      <th></th>\n",
       "      <th>peri</th>\n",
       "      <th>shape</th>\n",
       "      <th>perm</th>\n",
       "    </tr>\n",
       "    <tr>\n",
       "      <th>area</th>\n",
       "      <th></th>\n",
       "      <th></th>\n",
       "      <th></th>\n",
       "    </tr>\n",
       "  </thead>\n",
       "  <tbody>\n",
       "    <tr>\n",
       "      <th>4990</th>\n",
       "      <td>2791.90</td>\n",
       "      <td>0.090330</td>\n",
       "      <td>6.3</td>\n",
       "    </tr>\n",
       "    <tr>\n",
       "      <th>7002</th>\n",
       "      <td>3892.60</td>\n",
       "      <td>0.148622</td>\n",
       "      <td>6.3</td>\n",
       "    </tr>\n",
       "    <tr>\n",
       "      <th>7558</th>\n",
       "      <td>3930.66</td>\n",
       "      <td>0.183312</td>\n",
       "      <td>6.3</td>\n",
       "    </tr>\n",
       "    <tr>\n",
       "      <th>7352</th>\n",
       "      <td>3869.32</td>\n",
       "      <td>0.117063</td>\n",
       "      <td>6.3</td>\n",
       "    </tr>\n",
       "    <tr>\n",
       "      <th>7943</th>\n",
       "      <td>3948.54</td>\n",
       "      <td>0.122417</td>\n",
       "      <td>17.1</td>\n",
       "    </tr>\n",
       "  </tbody>\n",
       "</table>\n",
       "</div>"
      ],
      "text/plain": [
       "         peri     shape  perm\n",
       "area                         \n",
       "4990  2791.90  0.090330   6.3\n",
       "7002  3892.60  0.148622   6.3\n",
       "7558  3930.66  0.183312   6.3\n",
       "7352  3869.32  0.117063   6.3\n",
       "7943  3948.54  0.122417  17.1"
      ]
     },
     "execution_count": 28,
     "metadata": {},
     "output_type": "execute_result"
    }
   ],
   "source": [
    "df.head()"
   ]
  },
  {
   "cell_type": "code",
   "execution_count": null,
   "id": "36b9ba2e",
   "metadata": {},
   "outputs": [
    {
     "data": {
      "text/plain": [
       "Index(['peri', 'shape', 'perm'], dtype='object')"
      ]
     },
     "execution_count": 29,
     "metadata": {},
     "output_type": "execute_result"
    }
   ],
   "source": [
    "# ⚠️ ojo! que cuando ponemos una columna como índice ya no formará parte de nuestra de columnas\n",
    "\n",
    "df.columns"
   ]
  },
  {
   "cell_type": "markdown",
   "id": "b91b962b",
   "metadata": {},
   "source": [
    "📌 Si nos fijamos ahora la columna `area` aparece como el índice de nuestro dataframe. "
   ]
  },
  {
   "cell_type": "markdown",
   "id": "c442303e",
   "metadata": {},
   "source": [
    "- `reset_index()`\n",
    "\n",
    "De la misma forma que podemos poner una columna como índice, podemos quitarla para que pase a formar parte de las columnas. "
   ]
  },
  {
   "cell_type": "code",
   "execution_count": null,
   "id": "f718fee1",
   "metadata": {},
   "outputs": [],
   "source": [
    "df.reset_index(inplace = True)"
   ]
  },
  {
   "cell_type": "code",
   "execution_count": null,
   "id": "11fd67a1",
   "metadata": {},
   "outputs": [
    {
     "data": {
      "text/html": [
       "<div>\n",
       "<style scoped>\n",
       "    .dataframe tbody tr th:only-of-type {\n",
       "        vertical-align: middle;\n",
       "    }\n",
       "\n",
       "    .dataframe tbody tr th {\n",
       "        vertical-align: top;\n",
       "    }\n",
       "\n",
       "    .dataframe thead th {\n",
       "        text-align: right;\n",
       "    }\n",
       "</style>\n",
       "<table border=\"1\" class=\"dataframe\">\n",
       "  <thead>\n",
       "    <tr style=\"text-align: right;\">\n",
       "      <th></th>\n",
       "      <th>area</th>\n",
       "      <th>peri</th>\n",
       "      <th>shape</th>\n",
       "      <th>perm</th>\n",
       "    </tr>\n",
       "  </thead>\n",
       "  <tbody>\n",
       "    <tr>\n",
       "      <th>0</th>\n",
       "      <td>4990</td>\n",
       "      <td>2791.90</td>\n",
       "      <td>0.090330</td>\n",
       "      <td>6.3</td>\n",
       "    </tr>\n",
       "    <tr>\n",
       "      <th>1</th>\n",
       "      <td>7002</td>\n",
       "      <td>3892.60</td>\n",
       "      <td>0.148622</td>\n",
       "      <td>6.3</td>\n",
       "    </tr>\n",
       "    <tr>\n",
       "      <th>2</th>\n",
       "      <td>7558</td>\n",
       "      <td>3930.66</td>\n",
       "      <td>0.183312</td>\n",
       "      <td>6.3</td>\n",
       "    </tr>\n",
       "    <tr>\n",
       "      <th>3</th>\n",
       "      <td>7352</td>\n",
       "      <td>3869.32</td>\n",
       "      <td>0.117063</td>\n",
       "      <td>6.3</td>\n",
       "    </tr>\n",
       "    <tr>\n",
       "      <th>4</th>\n",
       "      <td>7943</td>\n",
       "      <td>3948.54</td>\n",
       "      <td>0.122417</td>\n",
       "      <td>17.1</td>\n",
       "    </tr>\n",
       "  </tbody>\n",
       "</table>\n",
       "</div>"
      ],
      "text/plain": [
       "   area     peri     shape  perm\n",
       "0  4990  2791.90  0.090330   6.3\n",
       "1  7002  3892.60  0.148622   6.3\n",
       "2  7558  3930.66  0.183312   6.3\n",
       "3  7352  3869.32  0.117063   6.3\n",
       "4  7943  3948.54  0.122417  17.1"
      ]
     },
     "execution_count": 31,
     "metadata": {},
     "output_type": "execute_result"
    }
   ],
   "source": [
    "df.head()"
   ]
  },
  {
   "cell_type": "markdown",
   "id": "3c048a9b",
   "metadata": {},
   "source": [
    "- `rename`\n",
    "\n",
    "Nos va a permitir modificar el nombre de nuestras columnas. \n",
    "\n",
    "📌 Necesitaremos usar diccionarios para usar este método. La sintaxis que aplicaremos será: \n",
    "\n",
    "```python\n",
    "MiDataframe.rename(columns = {\"nombre-antiguo\": \"nombre-nuevo\"}, inplace = True)\n",
    "```"
   ]
  },
  {
   "cell_type": "markdown",
   "id": "72ad52b8",
   "metadata": {},
   "source": [
    "En este caso tenemos los nombres de las columnas en ingles y vamos cambiarlas al español: "
   ]
  },
  {
   "cell_type": "code",
   "execution_count": null,
   "id": "f0e81e09",
   "metadata": {},
   "outputs": [],
   "source": [
    "df.rename(columns = {\"area\": \"area\", \"peri\": \"perimetro\", \"shape\": \"forma\", \"perm\": \"perm\"}, inplace = True)"
   ]
  },
  {
   "cell_type": "code",
   "execution_count": null,
   "id": "a7585a23",
   "metadata": {},
   "outputs": [
    {
     "data": {
      "text/plain": [
       "Index(['area', 'perimetro', 'forma', 'perm'], dtype='object')"
      ]
     },
     "execution_count": 33,
     "metadata": {},
     "output_type": "execute_result"
    }
   ],
   "source": [
    "# si ahora chequeamos los nombres de las columnas veremos que estos han cambiado. \n",
    "\n",
    "df.columns"
   ]
  },
  {
   "cell_type": "markdown",
   "id": "40fda4a4",
   "metadata": {},
   "source": [
    "Si tenemos muchas columnas que cambiar puede resultar muy tedioso. Pero lo podemos optimizar! \n",
    "\n",
    "🤔 Recordais las *list comprehensions* podremos hacer los mismo pero creando diccionarios. Vamos a poner en mayúsculas los nombres de las columnas. "
   ]
  },
  {
   "cell_type": "code",
   "execution_count": null,
   "id": "ab8912f3",
   "metadata": {},
   "outputs": [],
   "source": [
    "# lo primero que tendremos que hacer es un dict comprehension donde las keys\n",
    "## serán el nombre de la columnas antiguas y los values el nuevo nombre\n",
    "\n",
    "columnas_nuevas = {col :  col.upper() for col in df.columns}"
   ]
  },
  {
   "cell_type": "code",
   "execution_count": null,
   "id": "0bd3adeb",
   "metadata": {},
   "outputs": [
    {
     "data": {
      "text/plain": [
       "{'area': 'AREA', 'perimetro': 'PERIMETRO', 'forma': 'FORMA', 'perm': 'PERM'}"
      ]
     },
     "execution_count": 35,
     "metadata": {},
     "output_type": "execute_result"
    }
   ],
   "source": [
    "# chequeamos si nuestro diccionario está bien\n",
    "\n",
    "columnas_nuevas"
   ]
  },
  {
   "cell_type": "code",
   "execution_count": null,
   "id": "348bb7ee",
   "metadata": {},
   "outputs": [],
   "source": [
    "df.rename(columns = columnas_nuevas, inplace = True)"
   ]
  },
  {
   "cell_type": "code",
   "execution_count": null,
   "id": "1e6a76df",
   "metadata": {},
   "outputs": [
    {
     "data": {
      "text/html": [
       "<div>\n",
       "<style scoped>\n",
       "    .dataframe tbody tr th:only-of-type {\n",
       "        vertical-align: middle;\n",
       "    }\n",
       "\n",
       "    .dataframe tbody tr th {\n",
       "        vertical-align: top;\n",
       "    }\n",
       "\n",
       "    .dataframe thead th {\n",
       "        text-align: right;\n",
       "    }\n",
       "</style>\n",
       "<table border=\"1\" class=\"dataframe\">\n",
       "  <thead>\n",
       "    <tr style=\"text-align: right;\">\n",
       "      <th></th>\n",
       "      <th>AREA</th>\n",
       "      <th>PERIMETRO</th>\n",
       "      <th>FORMA</th>\n",
       "      <th>PERM</th>\n",
       "    </tr>\n",
       "  </thead>\n",
       "  <tbody>\n",
       "    <tr>\n",
       "      <th>0</th>\n",
       "      <td>4990</td>\n",
       "      <td>2791.90</td>\n",
       "      <td>0.090330</td>\n",
       "      <td>6.3</td>\n",
       "    </tr>\n",
       "    <tr>\n",
       "      <th>1</th>\n",
       "      <td>7002</td>\n",
       "      <td>3892.60</td>\n",
       "      <td>0.148622</td>\n",
       "      <td>6.3</td>\n",
       "    </tr>\n",
       "    <tr>\n",
       "      <th>2</th>\n",
       "      <td>7558</td>\n",
       "      <td>3930.66</td>\n",
       "      <td>0.183312</td>\n",
       "      <td>6.3</td>\n",
       "    </tr>\n",
       "    <tr>\n",
       "      <th>3</th>\n",
       "      <td>7352</td>\n",
       "      <td>3869.32</td>\n",
       "      <td>0.117063</td>\n",
       "      <td>6.3</td>\n",
       "    </tr>\n",
       "    <tr>\n",
       "      <th>4</th>\n",
       "      <td>7943</td>\n",
       "      <td>3948.54</td>\n",
       "      <td>0.122417</td>\n",
       "      <td>17.1</td>\n",
       "    </tr>\n",
       "  </tbody>\n",
       "</table>\n",
       "</div>"
      ],
      "text/plain": [
       "   AREA  PERIMETRO     FORMA  PERM\n",
       "0  4990    2791.90  0.090330   6.3\n",
       "1  7002    3892.60  0.148622   6.3\n",
       "2  7558    3930.66  0.183312   6.3\n",
       "3  7352    3869.32  0.117063   6.3\n",
       "4  7943    3948.54  0.122417  17.1"
      ]
     },
     "execution_count": 37,
     "metadata": {},
     "output_type": "execute_result"
    }
   ],
   "source": [
    "# Bien 💪 ya tenemos todas nuestras columnas cambiadas!!\n",
    "\n",
    "df.head()"
   ]
  },
  {
   "cell_type": "markdown",
   "id": "d4c6af57",
   "metadata": {},
   "source": [
    "- `drop`\n",
    "\n",
    "Elimina las etiquetas especificadas de las filas o columnas.\n",
    "\n",
    "La sintaxis básica que debemos seguir: \n",
    "\n",
    "```python\n",
    "MiDataframe.drop(labels, axis)\n",
    "```\n",
    "\n",
    "Donde: \n",
    "\n",
    "- `labels`: Los elementos que queremos eliminar, que además deben ir en una lista. \n",
    "\n",
    "\n",
    "- `axis`: hace referencia al eje sobre el que queremos aplicar la eliminación: \n",
    "    \n",
    "    - axis = 1 COLUMNAS\n",
    "    - axis = 0 FILAS"
   ]
  },
  {
   "cell_type": "code",
   "execution_count": null,
   "id": "fb67e07b",
   "metadata": {},
   "outputs": [],
   "source": [
    "# En este caso vamos a crear una dataframe nuevo para almacenar los cambios de eliminar filas o columnas. \n",
    "## Como lo haremos con columnas: queremos eliminar la columna \"area\" de las columnas\n",
    "\n",
    "df_eliminar = df.drop([\"AREA\"], axis = 1)"
   ]
  },
  {
   "cell_type": "code",
   "execution_count": null,
   "id": "fcb8197e",
   "metadata": {},
   "outputs": [
    {
     "data": {
      "text/html": [
       "<div>\n",
       "<style scoped>\n",
       "    .dataframe tbody tr th:only-of-type {\n",
       "        vertical-align: middle;\n",
       "    }\n",
       "\n",
       "    .dataframe tbody tr th {\n",
       "        vertical-align: top;\n",
       "    }\n",
       "\n",
       "    .dataframe thead th {\n",
       "        text-align: right;\n",
       "    }\n",
       "</style>\n",
       "<table border=\"1\" class=\"dataframe\">\n",
       "  <thead>\n",
       "    <tr style=\"text-align: right;\">\n",
       "      <th></th>\n",
       "      <th>PERIMETRO</th>\n",
       "      <th>FORMA</th>\n",
       "      <th>PERM</th>\n",
       "    </tr>\n",
       "  </thead>\n",
       "  <tbody>\n",
       "    <tr>\n",
       "      <th>0</th>\n",
       "      <td>2791.90</td>\n",
       "      <td>0.090330</td>\n",
       "      <td>6.3</td>\n",
       "    </tr>\n",
       "    <tr>\n",
       "      <th>1</th>\n",
       "      <td>3892.60</td>\n",
       "      <td>0.148622</td>\n",
       "      <td>6.3</td>\n",
       "    </tr>\n",
       "    <tr>\n",
       "      <th>2</th>\n",
       "      <td>3930.66</td>\n",
       "      <td>0.183312</td>\n",
       "      <td>6.3</td>\n",
       "    </tr>\n",
       "    <tr>\n",
       "      <th>3</th>\n",
       "      <td>3869.32</td>\n",
       "      <td>0.117063</td>\n",
       "      <td>6.3</td>\n",
       "    </tr>\n",
       "    <tr>\n",
       "      <th>4</th>\n",
       "      <td>3948.54</td>\n",
       "      <td>0.122417</td>\n",
       "      <td>17.1</td>\n",
       "    </tr>\n",
       "  </tbody>\n",
       "</table>\n",
       "</div>"
      ],
      "text/plain": [
       "   PERIMETRO     FORMA  PERM\n",
       "0    2791.90  0.090330   6.3\n",
       "1    3892.60  0.148622   6.3\n",
       "2    3930.66  0.183312   6.3\n",
       "3    3869.32  0.117063   6.3\n",
       "4    3948.54  0.122417  17.1"
      ]
     },
     "execution_count": 39,
     "metadata": {},
     "output_type": "execute_result"
    }
   ],
   "source": [
    "# si nos fijamos hemos eliminado la columna \"area\" de nuestro dataframe\n",
    "df_eliminar.head()"
   ]
  },
  {
   "cell_type": "code",
   "execution_count": null,
   "id": "d4684c69",
   "metadata": {},
   "outputs": [
    {
     "data": {
      "text/html": [
       "<div>\n",
       "<style scoped>\n",
       "    .dataframe tbody tr th:only-of-type {\n",
       "        vertical-align: middle;\n",
       "    }\n",
       "\n",
       "    .dataframe tbody tr th {\n",
       "        vertical-align: top;\n",
       "    }\n",
       "\n",
       "    .dataframe thead th {\n",
       "        text-align: right;\n",
       "    }\n",
       "</style>\n",
       "<table border=\"1\" class=\"dataframe\">\n",
       "  <thead>\n",
       "    <tr style=\"text-align: right;\">\n",
       "      <th></th>\n",
       "      <th>PERIMETRO</th>\n",
       "      <th>PERM</th>\n",
       "    </tr>\n",
       "  </thead>\n",
       "  <tbody>\n",
       "    <tr>\n",
       "      <th>0</th>\n",
       "      <td>2791.90</td>\n",
       "      <td>6.3</td>\n",
       "    </tr>\n",
       "    <tr>\n",
       "      <th>1</th>\n",
       "      <td>3892.60</td>\n",
       "      <td>6.3</td>\n",
       "    </tr>\n",
       "    <tr>\n",
       "      <th>2</th>\n",
       "      <td>3930.66</td>\n",
       "      <td>6.3</td>\n",
       "    </tr>\n",
       "    <tr>\n",
       "      <th>3</th>\n",
       "      <td>3869.32</td>\n",
       "      <td>6.3</td>\n",
       "    </tr>\n",
       "    <tr>\n",
       "      <th>4</th>\n",
       "      <td>3948.54</td>\n",
       "      <td>17.1</td>\n",
       "    </tr>\n",
       "  </tbody>\n",
       "</table>\n",
       "</div>"
      ],
      "text/plain": [
       "   PERIMETRO  PERM\n",
       "0    2791.90   6.3\n",
       "1    3892.60   6.3\n",
       "2    3930.66   6.3\n",
       "3    3869.32   6.3\n",
       "4    3948.54  17.1"
      ]
     },
     "execution_count": 40,
     "metadata": {},
     "output_type": "execute_result"
    }
   ],
   "source": [
    "# podemos incluso eliminar 1 o más columnas\n",
    "\n",
    "df_eliminar2 = df.drop([\"AREA\", \"FORMA\"], axis = 1)\n",
    "df_eliminar2.head()"
   ]
  },
  {
   "cell_type": "code",
   "execution_count": null,
   "id": "53d525fa",
   "metadata": {},
   "outputs": [
    {
     "data": {
      "text/html": [
       "<div>\n",
       "<style scoped>\n",
       "    .dataframe tbody tr th:only-of-type {\n",
       "        vertical-align: middle;\n",
       "    }\n",
       "\n",
       "    .dataframe tbody tr th {\n",
       "        vertical-align: top;\n",
       "    }\n",
       "\n",
       "    .dataframe thead th {\n",
       "        text-align: right;\n",
       "    }\n",
       "</style>\n",
       "<table border=\"1\" class=\"dataframe\">\n",
       "  <thead>\n",
       "    <tr style=\"text-align: right;\">\n",
       "      <th></th>\n",
       "      <th>AREA</th>\n",
       "      <th>PERIMETRO</th>\n",
       "      <th>FORMA</th>\n",
       "      <th>PERM</th>\n",
       "    </tr>\n",
       "  </thead>\n",
       "  <tbody>\n",
       "    <tr>\n",
       "      <th>2</th>\n",
       "      <td>7558</td>\n",
       "      <td>3930.66</td>\n",
       "      <td>0.183312</td>\n",
       "      <td>6.3</td>\n",
       "    </tr>\n",
       "    <tr>\n",
       "      <th>3</th>\n",
       "      <td>7352</td>\n",
       "      <td>3869.32</td>\n",
       "      <td>0.117063</td>\n",
       "      <td>6.3</td>\n",
       "    </tr>\n",
       "    <tr>\n",
       "      <th>4</th>\n",
       "      <td>7943</td>\n",
       "      <td>3948.54</td>\n",
       "      <td>0.122417</td>\n",
       "      <td>17.1</td>\n",
       "    </tr>\n",
       "    <tr>\n",
       "      <th>5</th>\n",
       "      <td>7979</td>\n",
       "      <td>4010.15</td>\n",
       "      <td>0.167045</td>\n",
       "      <td>17.1</td>\n",
       "    </tr>\n",
       "    <tr>\n",
       "      <th>6</th>\n",
       "      <td>9333</td>\n",
       "      <td>4345.75</td>\n",
       "      <td>0.189651</td>\n",
       "      <td>17.1</td>\n",
       "    </tr>\n",
       "  </tbody>\n",
       "</table>\n",
       "</div>"
      ],
      "text/plain": [
       "   AREA  PERIMETRO     FORMA  PERM\n",
       "2  7558    3930.66  0.183312   6.3\n",
       "3  7352    3869.32  0.117063   6.3\n",
       "4  7943    3948.54  0.122417  17.1\n",
       "5  7979    4010.15  0.167045  17.1\n",
       "6  9333    4345.75  0.189651  17.1"
      ]
     },
     "execution_count": 41,
     "metadata": {},
     "output_type": "execute_result"
    }
   ],
   "source": [
    "# ¿ y cómo lo haríamos para las filas? \n",
    "## En este caso las \"etiquetas\" serán los valores de los índices de las filas\n",
    "\n",
    "df_eliminar3 = df.drop([0,1], axis = 0)\n",
    "df_eliminar3.head()"
   ]
  },
  {
   "cell_type": "code",
   "execution_count": null,
   "id": "32f6e425",
   "metadata": {},
   "outputs": [
    {
     "data": {
      "text/plain": [
       "array([2791.9  , 3892.6  , 3930.66 , 3869.32 , 3948.54 , 4010.15 ,\n",
       "       4345.75 , 4344.75 , 3682.04 , 3098.65 , 4480.05 , 3986.24 ,\n",
       "       4036.54 , 3518.04 , 3999.37 , 3629.07 , 4608.66 , 4787.62 ,\n",
       "       4864.22 , 4479.41 , 3428.74 , 4353.14 , 4697.65 , 3518.44 ,\n",
       "       1977.39 , 1379.35 , 1916.24 , 1585.42 , 1851.21 , 1239.66 ,\n",
       "       1728.14 , 1461.06 , 1426.76 ,  990.388, 1350.76 , 1376.7  ,\n",
       "        476.322, 1189.46 , 1644.96 ,  941.543,  308.642, 1145.69 ,\n",
       "       2280.49 , 1174.11 ,  597.808, 1455.88 , 1485.58 ])"
      ]
     },
     "execution_count": 42,
     "metadata": {},
     "output_type": "execute_result"
    }
   ],
   "source": [
    "df.PERIMETRO.unique()"
   ]
  },
  {
   "cell_type": "markdown",
   "id": "63e8f708",
   "metadata": {},
   "source": [
    "- `cut()`\n",
    "\n",
    "Se utiliza para separar los elementos de un *dataframe* en diferentes intervalos. La función de corte se utiliza principalmente para realizar análisis estadísticos de datos escalares.  \n",
    "\n",
    "Aunque tiene múltiples parámetros, la principal sintaxis que debemos seguir es: \n",
    "\n",
    "```python\n",
    "MiDataframe.cut(x, bins)\n",
    "```\n",
    "Donde: \n",
    "\n",
    "- `x`: es la columna sobre la que queremos aplicar los intervalos\n",
    "\n",
    "\n",
    "- `bins`: son los intervalos nuevos que queremos definir\n",
    "\n",
    "\n",
    "En este caso vamos a aplicar este método a la columna `perm`: \n",
    "\n",
    "- Primero vamos a ver cuales son sus valores únicos para saber mejor como definir nuestros nuevos *bins*\n",
    "\n",
    "```python\n",
    "df.perm.unique()\n",
    "\n",
    "# Output: \n",
    "array([   6.3,   17.1,  119. ,   82.4,   58.6,  142. ,  740. ,  890. ,\n",
    "        950. ,  100. , 1300. ,  580. ])\n",
    "```\n",
    "\n",
    "- Una vez que tenemos los valores únicos establecemos los nuevos *bins*. Este parámetro lo tenemos que pasar como lista. "
   ]
  },
  {
   "cell_type": "code",
   "execution_count": null,
   "id": "04c5eb92",
   "metadata": {},
   "outputs": [
    {
     "ename": "NameError",
     "evalue": "name 'pd' is not defined",
     "output_type": "error",
     "traceback": [
      "\u001b[0;31m---------------------------------------------------------------------------\u001b[0m",
      "\u001b[0;31mNameError\u001b[0m                                 Traceback (most recent call last)",
      "\u001b[0;32m<ipython-input-2-0ba6d655dee7>\u001b[0m in \u001b[0;36m<module>\u001b[0;34m\u001b[0m\n\u001b[0;32m----> 1\u001b[0;31m df['bins'] = pd.cut(x=df['PERM'], bins=[0, 100, 200,300, 400,500, 600,\n\u001b[0m\u001b[1;32m      2\u001b[0m                                           700, 800, 1000, 1100, 1200, 1300])\n",
      "\u001b[0;31mNameError\u001b[0m: name 'pd' is not defined"
     ]
    }
   ],
   "source": [
    "df['bins'] = pd.cut(x=df['PERM'], bins=[0, 100, 200,300, 400,500, 600,\n",
    "                                          700, 800, 1000, 1100, 1200, 1300])"
   ]
  },
  {
   "cell_type": "code",
   "execution_count": null,
   "id": "5a1880e2",
   "metadata": {},
   "outputs": [
    {
     "data": {
      "text/html": [
       "<div>\n",
       "<style scoped>\n",
       "    .dataframe tbody tr th:only-of-type {\n",
       "        vertical-align: middle;\n",
       "    }\n",
       "\n",
       "    .dataframe tbody tr th {\n",
       "        vertical-align: top;\n",
       "    }\n",
       "\n",
       "    .dataframe thead th {\n",
       "        text-align: right;\n",
       "    }\n",
       "</style>\n",
       "<table border=\"1\" class=\"dataframe\">\n",
       "  <thead>\n",
       "    <tr style=\"text-align: right;\">\n",
       "      <th></th>\n",
       "      <th>AREA</th>\n",
       "      <th>PERIMETRO</th>\n",
       "      <th>FORMA</th>\n",
       "      <th>PERM</th>\n",
       "      <th>bins</th>\n",
       "    </tr>\n",
       "  </thead>\n",
       "  <tbody>\n",
       "    <tr>\n",
       "      <th>0</th>\n",
       "      <td>4990</td>\n",
       "      <td>2791.90</td>\n",
       "      <td>0.090330</td>\n",
       "      <td>6.3</td>\n",
       "      <td>(0, 100]</td>\n",
       "    </tr>\n",
       "    <tr>\n",
       "      <th>1</th>\n",
       "      <td>7002</td>\n",
       "      <td>3892.60</td>\n",
       "      <td>0.148622</td>\n",
       "      <td>6.3</td>\n",
       "      <td>(0, 100]</td>\n",
       "    </tr>\n",
       "    <tr>\n",
       "      <th>2</th>\n",
       "      <td>7558</td>\n",
       "      <td>3930.66</td>\n",
       "      <td>0.183312</td>\n",
       "      <td>6.3</td>\n",
       "      <td>(0, 100]</td>\n",
       "    </tr>\n",
       "    <tr>\n",
       "      <th>3</th>\n",
       "      <td>7352</td>\n",
       "      <td>3869.32</td>\n",
       "      <td>0.117063</td>\n",
       "      <td>6.3</td>\n",
       "      <td>(0, 100]</td>\n",
       "    </tr>\n",
       "    <tr>\n",
       "      <th>4</th>\n",
       "      <td>7943</td>\n",
       "      <td>3948.54</td>\n",
       "      <td>0.122417</td>\n",
       "      <td>17.1</td>\n",
       "      <td>(0, 100]</td>\n",
       "    </tr>\n",
       "  </tbody>\n",
       "</table>\n",
       "</div>"
      ],
      "text/plain": [
       "   AREA  PERIMETRO     FORMA  PERM      bins\n",
       "0  4990    2791.90  0.090330   6.3  (0, 100]\n",
       "1  7002    3892.60  0.148622   6.3  (0, 100]\n",
       "2  7558    3930.66  0.183312   6.3  (0, 100]\n",
       "3  7352    3869.32  0.117063   6.3  (0, 100]\n",
       "4  7943    3948.54  0.122417  17.1  (0, 100]"
      ]
     },
     "execution_count": 44,
     "metadata": {},
     "output_type": "execute_result"
    }
   ],
   "source": [
    "# basicamente lo que hemos hecho ha sido crear una nueva columna donde tendremos ciertos intervalos. \n",
    "\n",
    "df.head()"
   ]
  },
  {
   "cell_type": "markdown",
   "id": "047918be",
   "metadata": {},
   "source": [
    "- `replace()`\n",
    "\n",
    "Reemplaza los valores especificados por otro valor que nosotros indiquemos.\n",
    "\n",
    "Los valores del *dataframe* se sustituyen por otros valores de forma dinámica.\n",
    "\n",
    "📌 Esto difiere de la actualización con `.loc` o `.iloc`, que requieren que se especifique una ubicación para actualizar con algún valor.\n",
    "\n",
    "La sintaxis en este caso: \n",
    "\n",
    "```python\n",
    "MiDataframe.replace(to_replace, value, inplace)\n",
    "```\n",
    "Donde:\n",
    "\n",
    "- `to_replace`: es el valor que queremos reemplazar\n",
    "\n",
    "\n",
    "- `value`: el valor nuevo que queremos incluir\n",
    "\n",
    "\n",
    "- `inplace`: para que los cambios se ejecuten sobre el *dataframe* orginal."
   ]
  },
  {
   "cell_type": "markdown",
   "id": "c8859c38",
   "metadata": {},
   "source": [
    "En este caso vamos a querer reemplazar los valores `4990` por `area_nueva`"
   ]
  },
  {
   "cell_type": "code",
   "execution_count": null,
   "id": "12276e93",
   "metadata": {},
   "outputs": [],
   "source": [
    "df.replace(to_replace =4990,\n",
    "                 value =\"AREA_NUEVA\", inplace = True)"
   ]
  },
  {
   "cell_type": "code",
   "execution_count": null,
   "id": "14c17875",
   "metadata": {},
   "outputs": [
    {
     "data": {
      "text/html": [
       "<div>\n",
       "<style scoped>\n",
       "    .dataframe tbody tr th:only-of-type {\n",
       "        vertical-align: middle;\n",
       "    }\n",
       "\n",
       "    .dataframe tbody tr th {\n",
       "        vertical-align: top;\n",
       "    }\n",
       "\n",
       "    .dataframe thead th {\n",
       "        text-align: right;\n",
       "    }\n",
       "</style>\n",
       "<table border=\"1\" class=\"dataframe\">\n",
       "  <thead>\n",
       "    <tr style=\"text-align: right;\">\n",
       "      <th></th>\n",
       "      <th>AREA</th>\n",
       "      <th>PERIMETRO</th>\n",
       "      <th>FORMA</th>\n",
       "      <th>PERM</th>\n",
       "      <th>bins</th>\n",
       "    </tr>\n",
       "  </thead>\n",
       "  <tbody>\n",
       "    <tr>\n",
       "      <th>0</th>\n",
       "      <td>AREA_NUEVA</td>\n",
       "      <td>2791.90</td>\n",
       "      <td>0.090330</td>\n",
       "      <td>6.3</td>\n",
       "      <td>(0, 100]</td>\n",
       "    </tr>\n",
       "    <tr>\n",
       "      <th>1</th>\n",
       "      <td>7002</td>\n",
       "      <td>3892.60</td>\n",
       "      <td>0.148622</td>\n",
       "      <td>6.3</td>\n",
       "      <td>(0, 100]</td>\n",
       "    </tr>\n",
       "    <tr>\n",
       "      <th>2</th>\n",
       "      <td>7558</td>\n",
       "      <td>3930.66</td>\n",
       "      <td>0.183312</td>\n",
       "      <td>6.3</td>\n",
       "      <td>(0, 100]</td>\n",
       "    </tr>\n",
       "    <tr>\n",
       "      <th>3</th>\n",
       "      <td>7352</td>\n",
       "      <td>3869.32</td>\n",
       "      <td>0.117063</td>\n",
       "      <td>6.3</td>\n",
       "      <td>(0, 100]</td>\n",
       "    </tr>\n",
       "    <tr>\n",
       "      <th>4</th>\n",
       "      <td>7943</td>\n",
       "      <td>3948.54</td>\n",
       "      <td>0.122417</td>\n",
       "      <td>17.1</td>\n",
       "      <td>(0, 100]</td>\n",
       "    </tr>\n",
       "  </tbody>\n",
       "</table>\n",
       "</div>"
      ],
      "text/plain": [
       "         AREA  PERIMETRO     FORMA  PERM      bins\n",
       "0  AREA_NUEVA    2791.90  0.090330   6.3  (0, 100]\n",
       "1        7002    3892.60  0.148622   6.3  (0, 100]\n",
       "2        7558    3930.66  0.183312   6.3  (0, 100]\n",
       "3        7352    3869.32  0.117063   6.3  (0, 100]\n",
       "4        7943    3948.54  0.122417  17.1  (0, 100]"
      ]
     },
     "execution_count": 46,
     "metadata": {},
     "output_type": "execute_result"
    }
   ],
   "source": [
    "# si nos fijamos donde antes ponía \"4990\" ahora pone \"area_nueva\". Este cambio se aplicaría a todo el dataframe\n",
    "df.head()"
   ]
  },
  {
   "cell_type": "code",
   "execution_count": null,
   "id": "dca66ee8",
   "metadata": {},
   "outputs": [],
   "source": [
    "# pero también lo podemos aplicar a una columna específica: \n",
    "\n",
    "df[\"PERM\"].replace(to_replace =6.3,\n",
    "                 value =\"error\", inplace = True)"
   ]
  },
  {
   "cell_type": "code",
   "execution_count": null,
   "id": "c130ba14",
   "metadata": {},
   "outputs": [
    {
     "data": {
      "text/html": [
       "<div>\n",
       "<style scoped>\n",
       "    .dataframe tbody tr th:only-of-type {\n",
       "        vertical-align: middle;\n",
       "    }\n",
       "\n",
       "    .dataframe tbody tr th {\n",
       "        vertical-align: top;\n",
       "    }\n",
       "\n",
       "    .dataframe thead th {\n",
       "        text-align: right;\n",
       "    }\n",
       "</style>\n",
       "<table border=\"1\" class=\"dataframe\">\n",
       "  <thead>\n",
       "    <tr style=\"text-align: right;\">\n",
       "      <th></th>\n",
       "      <th>AREA</th>\n",
       "      <th>PERIMETRO</th>\n",
       "      <th>FORMA</th>\n",
       "      <th>PERM</th>\n",
       "      <th>bins</th>\n",
       "    </tr>\n",
       "  </thead>\n",
       "  <tbody>\n",
       "    <tr>\n",
       "      <th>0</th>\n",
       "      <td>AREA_NUEVA</td>\n",
       "      <td>2791.90</td>\n",
       "      <td>0.090330</td>\n",
       "      <td>error</td>\n",
       "      <td>(0, 100]</td>\n",
       "    </tr>\n",
       "    <tr>\n",
       "      <th>1</th>\n",
       "      <td>7002</td>\n",
       "      <td>3892.60</td>\n",
       "      <td>0.148622</td>\n",
       "      <td>error</td>\n",
       "      <td>(0, 100]</td>\n",
       "    </tr>\n",
       "    <tr>\n",
       "      <th>2</th>\n",
       "      <td>7558</td>\n",
       "      <td>3930.66</td>\n",
       "      <td>0.183312</td>\n",
       "      <td>error</td>\n",
       "      <td>(0, 100]</td>\n",
       "    </tr>\n",
       "    <tr>\n",
       "      <th>3</th>\n",
       "      <td>7352</td>\n",
       "      <td>3869.32</td>\n",
       "      <td>0.117063</td>\n",
       "      <td>error</td>\n",
       "      <td>(0, 100]</td>\n",
       "    </tr>\n",
       "    <tr>\n",
       "      <th>4</th>\n",
       "      <td>7943</td>\n",
       "      <td>3948.54</td>\n",
       "      <td>0.122417</td>\n",
       "      <td>17.1</td>\n",
       "      <td>(0, 100]</td>\n",
       "    </tr>\n",
       "  </tbody>\n",
       "</table>\n",
       "</div>"
      ],
      "text/plain": [
       "         AREA  PERIMETRO     FORMA   PERM      bins\n",
       "0  AREA_NUEVA    2791.90  0.090330  error  (0, 100]\n",
       "1        7002    3892.60  0.148622  error  (0, 100]\n",
       "2        7558    3930.66  0.183312  error  (0, 100]\n",
       "3        7352    3869.32  0.117063  error  (0, 100]\n",
       "4        7943    3948.54  0.122417   17.1  (0, 100]"
      ]
     },
     "execution_count": 48,
     "metadata": {},
     "output_type": "execute_result"
    }
   ],
   "source": [
    "# aquí tenemos nuestros \"error\" en los valores específicados. \n",
    "\n",
    "df.head()"
   ]
  },
  {
   "cell_type": "markdown",
   "id": "844971c6",
   "metadata": {},
   "source": [
    "# Reasignación columnas df[‘x’] = df[‘x’]"
   ]
  },
  {
   "cell_type": "markdown",
   "id": "0e9cb5a2",
   "metadata": {},
   "source": [
    "Pandas nos va a permitir sobreescribir los valores de una columna. Esto puede ser el resultado de operaciones entre columnas o determinadas transformaciones que queramos hacerle a la columna. \n",
    "\n",
    "Veamos un ejemplo: \n",
    "\n",
    "El perímetro está en centímetros y lo vamos a querer transformar a metros."
   ]
  },
  {
   "cell_type": "code",
   "execution_count": null,
   "id": "ffd91f37",
   "metadata": {},
   "outputs": [],
   "source": [
    "df[\"PERIMETRO\"] = df[\"PERIMETRO\"] / 100"
   ]
  },
  {
   "cell_type": "code",
   "execution_count": null,
   "id": "1bc70d30",
   "metadata": {},
   "outputs": [
    {
     "data": {
      "text/html": [
       "<div>\n",
       "<style scoped>\n",
       "    .dataframe tbody tr th:only-of-type {\n",
       "        vertical-align: middle;\n",
       "    }\n",
       "\n",
       "    .dataframe tbody tr th {\n",
       "        vertical-align: top;\n",
       "    }\n",
       "\n",
       "    .dataframe thead th {\n",
       "        text-align: right;\n",
       "    }\n",
       "</style>\n",
       "<table border=\"1\" class=\"dataframe\">\n",
       "  <thead>\n",
       "    <tr style=\"text-align: right;\">\n",
       "      <th></th>\n",
       "      <th>AREA</th>\n",
       "      <th>PERIMETRO</th>\n",
       "      <th>FORMA</th>\n",
       "      <th>PERM</th>\n",
       "      <th>bins</th>\n",
       "    </tr>\n",
       "  </thead>\n",
       "  <tbody>\n",
       "    <tr>\n",
       "      <th>0</th>\n",
       "      <td>AREA_NUEVA</td>\n",
       "      <td>27.9190</td>\n",
       "      <td>0.090330</td>\n",
       "      <td>error</td>\n",
       "      <td>(0, 100]</td>\n",
       "    </tr>\n",
       "    <tr>\n",
       "      <th>1</th>\n",
       "      <td>7002</td>\n",
       "      <td>38.9260</td>\n",
       "      <td>0.148622</td>\n",
       "      <td>error</td>\n",
       "      <td>(0, 100]</td>\n",
       "    </tr>\n",
       "    <tr>\n",
       "      <th>2</th>\n",
       "      <td>7558</td>\n",
       "      <td>39.3066</td>\n",
       "      <td>0.183312</td>\n",
       "      <td>error</td>\n",
       "      <td>(0, 100]</td>\n",
       "    </tr>\n",
       "    <tr>\n",
       "      <th>3</th>\n",
       "      <td>7352</td>\n",
       "      <td>38.6932</td>\n",
       "      <td>0.117063</td>\n",
       "      <td>error</td>\n",
       "      <td>(0, 100]</td>\n",
       "    </tr>\n",
       "    <tr>\n",
       "      <th>4</th>\n",
       "      <td>7943</td>\n",
       "      <td>39.4854</td>\n",
       "      <td>0.122417</td>\n",
       "      <td>17.1</td>\n",
       "      <td>(0, 100]</td>\n",
       "    </tr>\n",
       "  </tbody>\n",
       "</table>\n",
       "</div>"
      ],
      "text/plain": [
       "         AREA  PERIMETRO     FORMA   PERM      bins\n",
       "0  AREA_NUEVA    27.9190  0.090330  error  (0, 100]\n",
       "1        7002    38.9260  0.148622  error  (0, 100]\n",
       "2        7558    39.3066  0.183312  error  (0, 100]\n",
       "3        7352    38.6932  0.117063  error  (0, 100]\n",
       "4        7943    39.4854  0.122417   17.1  (0, 100]"
      ]
     },
     "execution_count": 50,
     "metadata": {},
     "output_type": "execute_result"
    }
   ],
   "source": [
    "# Si ahora volvemos a ver la columna, veremos que los valores han cambiado\n",
    "# pero que no se ha creado ninguna nueva columna \n",
    "\n",
    "df.head()"
   ]
  },
  {
   "cell_type": "markdown",
   "id": "4cbe9b60",
   "metadata": {},
   "source": [
    "**EJERCICIOS** \n",
    "\n",
    "1️⃣ Usa la librería `PyDataset` para descargarte un *dataframe*. En este caso puedes elegir el que más te guste! \n",
    "\n",
    "2️⃣ Haz una exploración del *dataframe*:\n",
    "\n",
    "\n",
    "    - Muestra las primeras 5 filas\n",
    "\n",
    "\n",
    "    - ¿Cuántas filas y columnas hay en el *dataframe*?\n",
    "    \n",
    "    \n",
    "    - ¿Cuántos nulos hay?\n",
    "    \n",
    "    \n",
    "    - ¿Cuáles son los principales estádisticos de nuestras columnas numéricas?\n",
    "    \n",
    "    - ¿Qué correlación existe entre nuestras columnas? \n",
    "        \n",
    "        **BONUS** ¿Podrías hacer una pequeña interpretación de los resultados que nos sale de la correlación?\n",
    "    \n",
    "    \n",
    "    - Cambia el nombre de las columnas. Dependiendo del *dataframe* haremos unos cambios u otros. Algunos cambios que podemos hacer son:\n",
    "    \n",
    "        - Poner los nombres todo en minúsculas o mayúsculas\n",
    "        \n",
    "        - Eliminar los espacios en los nombres\n",
    "        \n",
    "3️⃣ Guarda el *dataframe* con los cambios hechos en un archivo `csv`"
   ]
  },
  {
   "cell_type": "code",
   "execution_count": null,
   "id": "00d64885",
   "metadata": {},
   "outputs": [
    {
     "ename": "AttributeError",
     "evalue": "'function' object has no attribute 'head'",
     "output_type": "error",
     "traceback": [
      "\u001b[0;31m---------------------------------------------------------------------------\u001b[0m",
      "\u001b[0;31mAttributeError\u001b[0m                            Traceback (most recent call last)",
      "\u001b[0;32m<ipython-input-51-dcf2ddcf9ce9>\u001b[0m in \u001b[0;36m<module>\u001b[0;34m\u001b[0m\n\u001b[1;32m      1\u001b[0m \u001b[0;32mfrom\u001b[0m \u001b[0mpydataset\u001b[0m \u001b[0;32mimport\u001b[0m \u001b[0mdata\u001b[0m\u001b[0;34m\u001b[0m\u001b[0;34m\u001b[0m\u001b[0m\n\u001b[1;32m      2\u001b[0m \u001b[0mdfs\u001b[0m \u001b[0;34m=\u001b[0m \u001b[0mdata\u001b[0m\u001b[0;34m\u001b[0m\u001b[0;34m\u001b[0m\u001b[0m\n\u001b[0;32m----> 3\u001b[0;31m \u001b[0mdfs\u001b[0m\u001b[0;34m.\u001b[0m\u001b[0mhead\u001b[0m\u001b[0;34m(\u001b[0m\u001b[0;34m)\u001b[0m\u001b[0;34m\u001b[0m\u001b[0;34m\u001b[0m\u001b[0m\n\u001b[0m",
      "\u001b[0;31mAttributeError\u001b[0m: 'function' object has no attribute 'head'"
     ]
    }
   ],
   "source": [
    "from pydataset import data\n",
    "dfs = data\n",
    "dfs.head()"
   ]
  },
  {
   "cell_type": "code",
   "execution_count": null,
   "id": "d933ec7b",
   "metadata": {},
   "outputs": [
    {
     "name": "stdout",
     "output_type": "stream",
     "text": [
      "Help on function data in module pydataset:\n",
      "\n",
      "data(item=None, show_doc=False)\n",
      "    loads a datasaet (from in-modules datasets) in a dataframe data structure.\n",
      "    \n",
      "    Args:\n",
      "        item (str)      : name of the dataset to load.\n",
      "        show_doc (bool) : to show the dataset's documentation.\n",
      "    \n",
      "    Examples:\n",
      "    \n",
      "    >>> iris = data('iris')\n",
      "    \n",
      "    \n",
      "    >>> data('titanic', show_doc=True)\n",
      "        : returns the dataset's documentation.\n",
      "    \n",
      "    >>> data()\n",
      "        : like help(), returns a dataframe [Item, Title]\n",
      "        for a list of the available datasets.\n",
      "\n"
     ]
    }
   ],
   "source": [
    "# buscando info de la lista de datasets disponibles en pydataset\n",
    "help(data)"
   ]
  },
  {
   "cell_type": "code",
   "execution_count": null,
   "id": "7fd52b30",
   "metadata": {},
   "outputs": [
    {
     "data": {
      "text/html": [
       "<div>\n",
       "<style scoped>\n",
       "    .dataframe tbody tr th:only-of-type {\n",
       "        vertical-align: middle;\n",
       "    }\n",
       "\n",
       "    .dataframe tbody tr th {\n",
       "        vertical-align: top;\n",
       "    }\n",
       "\n",
       "    .dataframe thead th {\n",
       "        text-align: right;\n",
       "    }\n",
       "</style>\n",
       "<table border=\"1\" class=\"dataframe\">\n",
       "  <thead>\n",
       "    <tr style=\"text-align: right;\">\n",
       "      <th></th>\n",
       "      <th>Sepal.Length</th>\n",
       "      <th>Sepal.Width</th>\n",
       "      <th>Petal.Length</th>\n",
       "      <th>Petal.Width</th>\n",
       "      <th>Species</th>\n",
       "    </tr>\n",
       "  </thead>\n",
       "  <tbody>\n",
       "    <tr>\n",
       "      <th>1</th>\n",
       "      <td>5.1</td>\n",
       "      <td>3.5</td>\n",
       "      <td>1.4</td>\n",
       "      <td>0.2</td>\n",
       "      <td>setosa</td>\n",
       "    </tr>\n",
       "    <tr>\n",
       "      <th>2</th>\n",
       "      <td>4.9</td>\n",
       "      <td>3.0</td>\n",
       "      <td>1.4</td>\n",
       "      <td>0.2</td>\n",
       "      <td>setosa</td>\n",
       "    </tr>\n",
       "    <tr>\n",
       "      <th>3</th>\n",
       "      <td>4.7</td>\n",
       "      <td>3.2</td>\n",
       "      <td>1.3</td>\n",
       "      <td>0.2</td>\n",
       "      <td>setosa</td>\n",
       "    </tr>\n",
       "    <tr>\n",
       "      <th>4</th>\n",
       "      <td>4.6</td>\n",
       "      <td>3.1</td>\n",
       "      <td>1.5</td>\n",
       "      <td>0.2</td>\n",
       "      <td>setosa</td>\n",
       "    </tr>\n",
       "    <tr>\n",
       "      <th>5</th>\n",
       "      <td>5.0</td>\n",
       "      <td>3.6</td>\n",
       "      <td>1.4</td>\n",
       "      <td>0.2</td>\n",
       "      <td>setosa</td>\n",
       "    </tr>\n",
       "  </tbody>\n",
       "</table>\n",
       "</div>"
      ],
      "text/plain": [
       "   Sepal.Length  Sepal.Width  Petal.Length  Petal.Width Species\n",
       "1           5.1          3.5           1.4          0.2  setosa\n",
       "2           4.9          3.0           1.4          0.2  setosa\n",
       "3           4.7          3.2           1.3          0.2  setosa\n",
       "4           4.6          3.1           1.5          0.2  setosa\n",
       "5           5.0          3.6           1.4          0.2  setosa"
      ]
     },
     "execution_count": 53,
     "metadata": {},
     "output_type": "execute_result"
    }
   ],
   "source": [
    "df_iris = data('iris')\n",
    "df_iris.head()"
   ]
  },
  {
   "cell_type": "code",
   "execution_count": null,
   "id": "d7020f20",
   "metadata": {},
   "outputs": [
    {
     "data": {
      "text/plain": [
       "(150, 5)"
      ]
     },
     "execution_count": 54,
     "metadata": {},
     "output_type": "execute_result"
    }
   ],
   "source": [
    "# cuántas filas y columnas tiene\n",
    "df_iris.shape"
   ]
  },
  {
   "cell_type": "code",
   "execution_count": null,
   "id": "753f4201",
   "metadata": {},
   "outputs": [
    {
     "data": {
      "text/plain": [
       "Sepal.Length    0\n",
       "Sepal.Width     0\n",
       "Petal.Length    0\n",
       "Petal.Width     0\n",
       "Species         0\n",
       "dtype: int64"
      ]
     },
     "execution_count": 55,
     "metadata": {},
     "output_type": "execute_result"
    }
   ],
   "source": [
    "# cuántos nulos hay\n",
    "df_iris.isnull().sum()"
   ]
  },
  {
   "cell_type": "markdown",
   "id": "9ca1b2d6",
   "metadata": {},
   "source": [
    "    \n",
    "3️⃣ Guarda el *dataframe* con los cambios hechos en un archivo `csv`"
   ]
  },
  {
   "cell_type": "code",
   "execution_count": null,
   "id": "e4b11473",
   "metadata": {},
   "outputs": [
    {
     "data": {
      "text/html": [
       "<div>\n",
       "<style scoped>\n",
       "    .dataframe tbody tr th:only-of-type {\n",
       "        vertical-align: middle;\n",
       "    }\n",
       "\n",
       "    .dataframe tbody tr th {\n",
       "        vertical-align: top;\n",
       "    }\n",
       "\n",
       "    .dataframe thead th {\n",
       "        text-align: right;\n",
       "    }\n",
       "</style>\n",
       "<table border=\"1\" class=\"dataframe\">\n",
       "  <thead>\n",
       "    <tr style=\"text-align: right;\">\n",
       "      <th></th>\n",
       "      <th>Sepal.Length</th>\n",
       "      <th>Sepal.Width</th>\n",
       "      <th>Petal.Length</th>\n",
       "      <th>Petal.Width</th>\n",
       "    </tr>\n",
       "  </thead>\n",
       "  <tbody>\n",
       "    <tr>\n",
       "      <th>count</th>\n",
       "      <td>150.000000</td>\n",
       "      <td>150.000000</td>\n",
       "      <td>150.000000</td>\n",
       "      <td>150.000000</td>\n",
       "    </tr>\n",
       "    <tr>\n",
       "      <th>mean</th>\n",
       "      <td>5.843333</td>\n",
       "      <td>3.057333</td>\n",
       "      <td>3.758000</td>\n",
       "      <td>1.199333</td>\n",
       "    </tr>\n",
       "    <tr>\n",
       "      <th>std</th>\n",
       "      <td>0.828066</td>\n",
       "      <td>0.435866</td>\n",
       "      <td>1.765298</td>\n",
       "      <td>0.762238</td>\n",
       "    </tr>\n",
       "    <tr>\n",
       "      <th>min</th>\n",
       "      <td>4.300000</td>\n",
       "      <td>2.000000</td>\n",
       "      <td>1.000000</td>\n",
       "      <td>0.100000</td>\n",
       "    </tr>\n",
       "    <tr>\n",
       "      <th>25%</th>\n",
       "      <td>5.100000</td>\n",
       "      <td>2.800000</td>\n",
       "      <td>1.600000</td>\n",
       "      <td>0.300000</td>\n",
       "    </tr>\n",
       "    <tr>\n",
       "      <th>50%</th>\n",
       "      <td>5.800000</td>\n",
       "      <td>3.000000</td>\n",
       "      <td>4.350000</td>\n",
       "      <td>1.300000</td>\n",
       "    </tr>\n",
       "    <tr>\n",
       "      <th>75%</th>\n",
       "      <td>6.400000</td>\n",
       "      <td>3.300000</td>\n",
       "      <td>5.100000</td>\n",
       "      <td>1.800000</td>\n",
       "    </tr>\n",
       "    <tr>\n",
       "      <th>max</th>\n",
       "      <td>7.900000</td>\n",
       "      <td>4.400000</td>\n",
       "      <td>6.900000</td>\n",
       "      <td>2.500000</td>\n",
       "    </tr>\n",
       "  </tbody>\n",
       "</table>\n",
       "</div>"
      ],
      "text/plain": [
       "       Sepal.Length  Sepal.Width  Petal.Length  Petal.Width\n",
       "count    150.000000   150.000000    150.000000   150.000000\n",
       "mean       5.843333     3.057333      3.758000     1.199333\n",
       "std        0.828066     0.435866      1.765298     0.762238\n",
       "min        4.300000     2.000000      1.000000     0.100000\n",
       "25%        5.100000     2.800000      1.600000     0.300000\n",
       "50%        5.800000     3.000000      4.350000     1.300000\n",
       "75%        6.400000     3.300000      5.100000     1.800000\n",
       "max        7.900000     4.400000      6.900000     2.500000"
      ]
     },
     "execution_count": 56,
     "metadata": {},
     "output_type": "execute_result"
    }
   ],
   "source": [
    "# principales estadísticos de las columnas\n",
    "df_iris.describe()"
   ]
  },
  {
   "cell_type": "code",
   "execution_count": null,
   "id": "0c535c89",
   "metadata": {},
   "outputs": [
    {
     "data": {
      "text/html": [
       "<style  type=\"text/css\" >\n",
       "#T_de3fcf42_c012_11ec_bbc1_a0afbd56c614row0_col0,#T_de3fcf42_c012_11ec_bbc1_a0afbd56c614row1_col1,#T_de3fcf42_c012_11ec_bbc1_a0afbd56c614row2_col2,#T_de3fcf42_c012_11ec_bbc1_a0afbd56c614row3_col3{\n",
       "            background-color:  #2d004b;\n",
       "            color:  #f1f1f1;\n",
       "        }#T_de3fcf42_c012_11ec_bbc1_a0afbd56c614row0_col1{\n",
       "            background-color:  #e58a20;\n",
       "            color:  #000000;\n",
       "        }#T_de3fcf42_c012_11ec_bbc1_a0afbd56c614row0_col2{\n",
       "            background-color:  #4f2280;\n",
       "            color:  #f1f1f1;\n",
       "        }#T_de3fcf42_c012_11ec_bbc1_a0afbd56c614row0_col3{\n",
       "            background-color:  #634094;\n",
       "            color:  #f1f1f1;\n",
       "        }#T_de3fcf42_c012_11ec_bbc1_a0afbd56c614row1_col0,#T_de3fcf42_c012_11ec_bbc1_a0afbd56c614row1_col2,#T_de3fcf42_c012_11ec_bbc1_a0afbd56c614row1_col3,#T_de3fcf42_c012_11ec_bbc1_a0afbd56c614row2_col1{\n",
       "            background-color:  #7f3b08;\n",
       "            color:  #f1f1f1;\n",
       "        }#T_de3fcf42_c012_11ec_bbc1_a0afbd56c614row2_col0{\n",
       "            background-color:  #5a318d;\n",
       "            color:  #f1f1f1;\n",
       "        }#T_de3fcf42_c012_11ec_bbc1_a0afbd56c614row2_col3,#T_de3fcf42_c012_11ec_bbc1_a0afbd56c614row3_col2{\n",
       "            background-color:  #360959;\n",
       "            color:  #f1f1f1;\n",
       "        }#T_de3fcf42_c012_11ec_bbc1_a0afbd56c614row3_col0{\n",
       "            background-color:  #6f559e;\n",
       "            color:  #f1f1f1;\n",
       "        }#T_de3fcf42_c012_11ec_bbc1_a0afbd56c614row3_col1{\n",
       "            background-color:  #954807;\n",
       "            color:  #f1f1f1;\n",
       "        }</style><table id=\"T_de3fcf42_c012_11ec_bbc1_a0afbd56c614\" ><thead>    <tr>        <th class=\"blank level0\" ></th>        <th class=\"col_heading level0 col0\" >Sepal.Length</th>        <th class=\"col_heading level0 col1\" >Sepal.Width</th>        <th class=\"col_heading level0 col2\" >Petal.Length</th>        <th class=\"col_heading level0 col3\" >Petal.Width</th>    </tr></thead><tbody>\n",
       "                <tr>\n",
       "                        <th id=\"T_de3fcf42_c012_11ec_bbc1_a0afbd56c614level0_row0\" class=\"row_heading level0 row0\" >Sepal.Length</th>\n",
       "                        <td id=\"T_de3fcf42_c012_11ec_bbc1_a0afbd56c614row0_col0\" class=\"data row0 col0\" >1.000000</td>\n",
       "                        <td id=\"T_de3fcf42_c012_11ec_bbc1_a0afbd56c614row0_col1\" class=\"data row0 col1\" >-0.117570</td>\n",
       "                        <td id=\"T_de3fcf42_c012_11ec_bbc1_a0afbd56c614row0_col2\" class=\"data row0 col2\" >0.871754</td>\n",
       "                        <td id=\"T_de3fcf42_c012_11ec_bbc1_a0afbd56c614row0_col3\" class=\"data row0 col3\" >0.817941</td>\n",
       "            </tr>\n",
       "            <tr>\n",
       "                        <th id=\"T_de3fcf42_c012_11ec_bbc1_a0afbd56c614level0_row1\" class=\"row_heading level0 row1\" >Sepal.Width</th>\n",
       "                        <td id=\"T_de3fcf42_c012_11ec_bbc1_a0afbd56c614row1_col0\" class=\"data row1 col0\" >-0.117570</td>\n",
       "                        <td id=\"T_de3fcf42_c012_11ec_bbc1_a0afbd56c614row1_col1\" class=\"data row1 col1\" >1.000000</td>\n",
       "                        <td id=\"T_de3fcf42_c012_11ec_bbc1_a0afbd56c614row1_col2\" class=\"data row1 col2\" >-0.428440</td>\n",
       "                        <td id=\"T_de3fcf42_c012_11ec_bbc1_a0afbd56c614row1_col3\" class=\"data row1 col3\" >-0.366126</td>\n",
       "            </tr>\n",
       "            <tr>\n",
       "                        <th id=\"T_de3fcf42_c012_11ec_bbc1_a0afbd56c614level0_row2\" class=\"row_heading level0 row2\" >Petal.Length</th>\n",
       "                        <td id=\"T_de3fcf42_c012_11ec_bbc1_a0afbd56c614row2_col0\" class=\"data row2 col0\" >0.871754</td>\n",
       "                        <td id=\"T_de3fcf42_c012_11ec_bbc1_a0afbd56c614row2_col1\" class=\"data row2 col1\" >-0.428440</td>\n",
       "                        <td id=\"T_de3fcf42_c012_11ec_bbc1_a0afbd56c614row2_col2\" class=\"data row2 col2\" >1.000000</td>\n",
       "                        <td id=\"T_de3fcf42_c012_11ec_bbc1_a0afbd56c614row2_col3\" class=\"data row2 col3\" >0.962865</td>\n",
       "            </tr>\n",
       "            <tr>\n",
       "                        <th id=\"T_de3fcf42_c012_11ec_bbc1_a0afbd56c614level0_row3\" class=\"row_heading level0 row3\" >Petal.Width</th>\n",
       "                        <td id=\"T_de3fcf42_c012_11ec_bbc1_a0afbd56c614row3_col0\" class=\"data row3 col0\" >0.817941</td>\n",
       "                        <td id=\"T_de3fcf42_c012_11ec_bbc1_a0afbd56c614row3_col1\" class=\"data row3 col1\" >-0.366126</td>\n",
       "                        <td id=\"T_de3fcf42_c012_11ec_bbc1_a0afbd56c614row3_col2\" class=\"data row3 col2\" >0.962865</td>\n",
       "                        <td id=\"T_de3fcf42_c012_11ec_bbc1_a0afbd56c614row3_col3\" class=\"data row3 col3\" >1.000000</td>\n",
       "            </tr>\n",
       "    </tbody></table>"
      ],
      "text/plain": [
       "<pandas.io.formats.style.Styler at 0x7fa73ec4a8d0>"
      ]
     },
     "execution_count": 57,
     "metadata": {},
     "output_type": "execute_result"
    }
   ],
   "source": [
    "from matplotlib import pyplot as plt\n",
    "\n",
    "\n",
    "# correlación entre columnas\n",
    "# **BONUS** ¿Podrías hacer una pequeña interpretación de los resultados que nos sale de la correlación?\n",
    "\n",
    "# df_iris.corr()\n",
    "\n",
    "# La correlación se mide entre dos elementos y se expresa en un rango de 1 y -1. Estos valores miden el grado de relación lineal. \n",
    "# Por ej, si dos valores tienden a aumentar o disminuir al mismo tiempo, tendrán un valor de correlación  cercanos al 1 o al -1. \n",
    "# Sin embargo, si el valor es 0 indica que no hay correlación lineal.\n",
    "\n",
    "matriz_corr = df_iris.corr()\n",
    "matriz_corr.style.background_gradient (cmap = 'PuOr')"
   ]
  },
  {
   "cell_type": "code",
   "execution_count": null,
   "id": "aea11d8b",
   "metadata": {},
   "outputs": [
    {
     "data": {
      "text/html": [
       "<div>\n",
       "<style scoped>\n",
       "    .dataframe tbody tr th:only-of-type {\n",
       "        vertical-align: middle;\n",
       "    }\n",
       "\n",
       "    .dataframe tbody tr th {\n",
       "        vertical-align: top;\n",
       "    }\n",
       "\n",
       "    .dataframe thead th {\n",
       "        text-align: right;\n",
       "    }\n",
       "</style>\n",
       "<table border=\"1\" class=\"dataframe\">\n",
       "  <thead>\n",
       "    <tr style=\"text-align: right;\">\n",
       "      <th></th>\n",
       "      <th>Sepal_Length</th>\n",
       "      <th>Sepal_Width</th>\n",
       "      <th>Petal_Length</th>\n",
       "      <th>Petal_Width</th>\n",
       "      <th>Species</th>\n",
       "    </tr>\n",
       "  </thead>\n",
       "  <tbody>\n",
       "    <tr>\n",
       "      <th>1</th>\n",
       "      <td>5.1</td>\n",
       "      <td>3.5</td>\n",
       "      <td>1.4</td>\n",
       "      <td>0.2</td>\n",
       "      <td>setosa</td>\n",
       "    </tr>\n",
       "    <tr>\n",
       "      <th>2</th>\n",
       "      <td>4.9</td>\n",
       "      <td>3.0</td>\n",
       "      <td>1.4</td>\n",
       "      <td>0.2</td>\n",
       "      <td>setosa</td>\n",
       "    </tr>\n",
       "    <tr>\n",
       "      <th>3</th>\n",
       "      <td>4.7</td>\n",
       "      <td>3.2</td>\n",
       "      <td>1.3</td>\n",
       "      <td>0.2</td>\n",
       "      <td>setosa</td>\n",
       "    </tr>\n",
       "    <tr>\n",
       "      <th>4</th>\n",
       "      <td>4.6</td>\n",
       "      <td>3.1</td>\n",
       "      <td>1.5</td>\n",
       "      <td>0.2</td>\n",
       "      <td>setosa</td>\n",
       "    </tr>\n",
       "    <tr>\n",
       "      <th>5</th>\n",
       "      <td>5.0</td>\n",
       "      <td>3.6</td>\n",
       "      <td>1.4</td>\n",
       "      <td>0.2</td>\n",
       "      <td>setosa</td>\n",
       "    </tr>\n",
       "  </tbody>\n",
       "</table>\n",
       "</div>"
      ],
      "text/plain": [
       "   Sepal_Length  Sepal_Width  Petal_Length  Petal_Width Species\n",
       "1           5.1          3.5           1.4          0.2  setosa\n",
       "2           4.9          3.0           1.4          0.2  setosa\n",
       "3           4.7          3.2           1.3          0.2  setosa\n",
       "4           4.6          3.1           1.5          0.2  setosa\n",
       "5           5.0          3.6           1.4          0.2  setosa"
      ]
     },
     "execution_count": 62,
     "metadata": {},
     "output_type": "execute_result"
    }
   ],
   "source": [
    "# - Cambia el nombre de las columnas. Dependiendo del *dataframe* haremos unos cambios u otros. Algunos cambios que podemos hacer son:\n",
    "\n",
    "df_iris.rename(columns = {\"Sepal.Length\":\"Sepal_Length\", \"Sepal.Width\":\"Sepal_Width\", \"Petal.Length\":\"Petal_Length\", \"Petal.Width\":\"Petal_Width\" }, inplace=True)\n",
    "df_iris.head()"
   ]
  },
  {
   "cell_type": "code",
   "execution_count": null,
   "id": "cc5d4ede",
   "metadata": {},
   "outputs": [
    {
     "ename": "AttributeError",
     "evalue": "'Index' object has no attribute 'lower'",
     "output_type": "error",
     "traceback": [
      "\u001b[0;31m---------------------------------------------------------------------------\u001b[0m",
      "\u001b[0;31mAttributeError\u001b[0m                            Traceback (most recent call last)",
      "\u001b[0;32m<ipython-input-66-efefacd92e65>\u001b[0m in \u001b[0;36m<module>\u001b[0;34m\u001b[0m\n\u001b[1;32m      1\u001b[0m \u001b[0;31m# - Poner los nombres todo en minúsculas o mayúsculas\u001b[0m\u001b[0;34m\u001b[0m\u001b[0;34m\u001b[0m\u001b[0;34m\u001b[0m\u001b[0m\n\u001b[1;32m      2\u001b[0m \u001b[0mdf_iris\u001b[0m\u001b[0;34m.\u001b[0m\u001b[0mrename\u001b[0m\u001b[0;34m(\u001b[0m\u001b[0mcolumns\u001b[0m \u001b[0;34m=\u001b[0m \u001b[0;34m{\u001b[0m\u001b[0;34m\"Sepal.Length\"\u001b[0m\u001b[0;34m:\u001b[0m\u001b[0;34m\"Sepal_Length\"\u001b[0m\u001b[0;34m,\u001b[0m \u001b[0;34m\"Sepal.Width\"\u001b[0m\u001b[0;34m:\u001b[0m\u001b[0;34m\"Sepal_Width\"\u001b[0m\u001b[0;34m,\u001b[0m \u001b[0;34m\"Petal.Length\"\u001b[0m\u001b[0;34m:\u001b[0m\u001b[0;34m\"Petal_Length\"\u001b[0m\u001b[0;34m,\u001b[0m \u001b[0;34m\"Petal.Width\"\u001b[0m\u001b[0;34m:\u001b[0m\u001b[0;34m\"Petal_Width\"\u001b[0m \u001b[0;34m}\u001b[0m\u001b[0;34m,\u001b[0m \u001b[0minplace\u001b[0m\u001b[0;34m=\u001b[0m\u001b[0;32mTrue\u001b[0m\u001b[0;34m)\u001b[0m\u001b[0;34m\u001b[0m\u001b[0;34m\u001b[0m\u001b[0m\n\u001b[0;32m----> 3\u001b[0;31m \u001b[0mdf\u001b[0m\u001b[0;34m.\u001b[0m\u001b[0miris\u001b[0m \u001b[0;34m=\u001b[0m \u001b[0mdf\u001b[0m\u001b[0;34m.\u001b[0m\u001b[0mcolumns\u001b[0m\u001b[0;34m.\u001b[0m\u001b[0mlower\u001b[0m\u001b[0;34m(\u001b[0m\u001b[0;34m)\u001b[0m\u001b[0;34m\u001b[0m\u001b[0;34m\u001b[0m\u001b[0m\n\u001b[0m\u001b[1;32m      4\u001b[0m \u001b[0mdf_iris\u001b[0m\u001b[0;34m.\u001b[0m\u001b[0mhead\u001b[0m\u001b[0;34m(\u001b[0m\u001b[0;34m)\u001b[0m\u001b[0;34m\u001b[0m\u001b[0;34m\u001b[0m\u001b[0m\n\u001b[1;32m      5\u001b[0m \u001b[0;34m\u001b[0m\u001b[0m\n",
      "\u001b[0;31mAttributeError\u001b[0m: 'Index' object has no attribute 'lower'"
     ]
    }
   ],
   "source": [
    "# - Poner los nombres todo en minúsculas o mayúsculas\n",
    "df_iris.rename(columns = {\"Sepal.Length\":\"Sepal_Length\", \"Sepal.Width\":\"Sepal_Width\", \"Petal.Length\":\"Petal_Length\", \"Petal.Width\":\"Petal_Width\" }, inplace=True)\n",
    "\n",
    "df_iris.head()\n",
    "\n",
    "#no sé cómo poner en minúsculas todos los nombres\n"
   ]
  },
  {
   "cell_type": "code",
   "execution_count": null,
   "id": "881ad6b3",
   "metadata": {},
   "outputs": [],
   "source": [
    "# - Eliminar los espacios en los nombres"
   ]
  },
  {
   "cell_type": "code",
   "execution_count": null,
   "id": "341a0e0c",
   "metadata": {},
   "outputs": [
    {
     "data": {
      "text/plain": [
       "',Sepal_Length,Sepal_Width,Petal_Length,Petal_Width,Species\\n1,5.1,3.5,1.4,0.2,setosa\\n2,4.9,3.0,1.4,0.2,setosa\\n3,4.7,3.2,1.3,0.2,setosa\\n4,4.6,3.1,1.5,0.2,setosa\\n5,5.0,3.6,1.4,0.2,setosa\\n6,5.4,3.9,1.7,0.4,setosa\\n7,4.6,3.4,1.4,0.3,setosa\\n8,5.0,3.4,1.5,0.2,setosa\\n9,4.4,2.9,1.4,0.2,setosa\\n10,4.9,3.1,1.5,0.1,setosa\\n11,5.4,3.7,1.5,0.2,setosa\\n12,4.8,3.4,1.6,0.2,setosa\\n13,4.8,3.0,1.4,0.1,setosa\\n14,4.3,3.0,1.1,0.1,setosa\\n15,5.8,4.0,1.2,0.2,setosa\\n16,5.7,4.4,1.5,0.4,setosa\\n17,5.4,3.9,1.3,0.4,setosa\\n18,5.1,3.5,1.4,0.3,setosa\\n19,5.7,3.8,1.7,0.3,setosa\\n20,5.1,3.8,1.5,0.3,setosa\\n21,5.4,3.4,1.7,0.2,setosa\\n22,5.1,3.7,1.5,0.4,setosa\\n23,4.6,3.6,1.0,0.2,setosa\\n24,5.1,3.3,1.7,0.5,setosa\\n25,4.8,3.4,1.9,0.2,setosa\\n26,5.0,3.0,1.6,0.2,setosa\\n27,5.0,3.4,1.6,0.4,setosa\\n28,5.2,3.5,1.5,0.2,setosa\\n29,5.2,3.4,1.4,0.2,setosa\\n30,4.7,3.2,1.6,0.2,setosa\\n31,4.8,3.1,1.6,0.2,setosa\\n32,5.4,3.4,1.5,0.4,setosa\\n33,5.2,4.1,1.5,0.1,setosa\\n34,5.5,4.2,1.4,0.2,setosa\\n35,4.9,3.1,1.5,0.2,setosa\\n36,5.0,3.2,1.2,0.2,setosa\\n37,5.5,3.5,1.3,0.2,setosa\\n38,4.9,3.6,1.4,0.1,setosa\\n39,4.4,3.0,1.3,0.2,setosa\\n40,5.1,3.4,1.5,0.2,setosa\\n41,5.0,3.5,1.3,0.3,setosa\\n42,4.5,2.3,1.3,0.3,setosa\\n43,4.4,3.2,1.3,0.2,setosa\\n44,5.0,3.5,1.6,0.6,setosa\\n45,5.1,3.8,1.9,0.4,setosa\\n46,4.8,3.0,1.4,0.3,setosa\\n47,5.1,3.8,1.6,0.2,setosa\\n48,4.6,3.2,1.4,0.2,setosa\\n49,5.3,3.7,1.5,0.2,setosa\\n50,5.0,3.3,1.4,0.2,setosa\\n51,7.0,3.2,4.7,1.4,versicolor\\n52,6.4,3.2,4.5,1.5,versicolor\\n53,6.9,3.1,4.9,1.5,versicolor\\n54,5.5,2.3,4.0,1.3,versicolor\\n55,6.5,2.8,4.6,1.5,versicolor\\n56,5.7,2.8,4.5,1.3,versicolor\\n57,6.3,3.3,4.7,1.6,versicolor\\n58,4.9,2.4,3.3,1.0,versicolor\\n59,6.6,2.9,4.6,1.3,versicolor\\n60,5.2,2.7,3.9,1.4,versicolor\\n61,5.0,2.0,3.5,1.0,versicolor\\n62,5.9,3.0,4.2,1.5,versicolor\\n63,6.0,2.2,4.0,1.0,versicolor\\n64,6.1,2.9,4.7,1.4,versicolor\\n65,5.6,2.9,3.6,1.3,versicolor\\n66,6.7,3.1,4.4,1.4,versicolor\\n67,5.6,3.0,4.5,1.5,versicolor\\n68,5.8,2.7,4.1,1.0,versicolor\\n69,6.2,2.2,4.5,1.5,versicolor\\n70,5.6,2.5,3.9,1.1,versicolor\\n71,5.9,3.2,4.8,1.8,versicolor\\n72,6.1,2.8,4.0,1.3,versicolor\\n73,6.3,2.5,4.9,1.5,versicolor\\n74,6.1,2.8,4.7,1.2,versicolor\\n75,6.4,2.9,4.3,1.3,versicolor\\n76,6.6,3.0,4.4,1.4,versicolor\\n77,6.8,2.8,4.8,1.4,versicolor\\n78,6.7,3.0,5.0,1.7,versicolor\\n79,6.0,2.9,4.5,1.5,versicolor\\n80,5.7,2.6,3.5,1.0,versicolor\\n81,5.5,2.4,3.8,1.1,versicolor\\n82,5.5,2.4,3.7,1.0,versicolor\\n83,5.8,2.7,3.9,1.2,versicolor\\n84,6.0,2.7,5.1,1.6,versicolor\\n85,5.4,3.0,4.5,1.5,versicolor\\n86,6.0,3.4,4.5,1.6,versicolor\\n87,6.7,3.1,4.7,1.5,versicolor\\n88,6.3,2.3,4.4,1.3,versicolor\\n89,5.6,3.0,4.1,1.3,versicolor\\n90,5.5,2.5,4.0,1.3,versicolor\\n91,5.5,2.6,4.4,1.2,versicolor\\n92,6.1,3.0,4.6,1.4,versicolor\\n93,5.8,2.6,4.0,1.2,versicolor\\n94,5.0,2.3,3.3,1.0,versicolor\\n95,5.6,2.7,4.2,1.3,versicolor\\n96,5.7,3.0,4.2,1.2,versicolor\\n97,5.7,2.9,4.2,1.3,versicolor\\n98,6.2,2.9,4.3,1.3,versicolor\\n99,5.1,2.5,3.0,1.1,versicolor\\n100,5.7,2.8,4.1,1.3,versicolor\\n101,6.3,3.3,6.0,2.5,virginica\\n102,5.8,2.7,5.1,1.9,virginica\\n103,7.1,3.0,5.9,2.1,virginica\\n104,6.3,2.9,5.6,1.8,virginica\\n105,6.5,3.0,5.8,2.2,virginica\\n106,7.6,3.0,6.6,2.1,virginica\\n107,4.9,2.5,4.5,1.7,virginica\\n108,7.3,2.9,6.3,1.8,virginica\\n109,6.7,2.5,5.8,1.8,virginica\\n110,7.2,3.6,6.1,2.5,virginica\\n111,6.5,3.2,5.1,2.0,virginica\\n112,6.4,2.7,5.3,1.9,virginica\\n113,6.8,3.0,5.5,2.1,virginica\\n114,5.7,2.5,5.0,2.0,virginica\\n115,5.8,2.8,5.1,2.4,virginica\\n116,6.4,3.2,5.3,2.3,virginica\\n117,6.5,3.0,5.5,1.8,virginica\\n118,7.7,3.8,6.7,2.2,virginica\\n119,7.7,2.6,6.9,2.3,virginica\\n120,6.0,2.2,5.0,1.5,virginica\\n121,6.9,3.2,5.7,2.3,virginica\\n122,5.6,2.8,4.9,2.0,virginica\\n123,7.7,2.8,6.7,2.0,virginica\\n124,6.3,2.7,4.9,1.8,virginica\\n125,6.7,3.3,5.7,2.1,virginica\\n126,7.2,3.2,6.0,1.8,virginica\\n127,6.2,2.8,4.8,1.8,virginica\\n128,6.1,3.0,4.9,1.8,virginica\\n129,6.4,2.8,5.6,2.1,virginica\\n130,7.2,3.0,5.8,1.6,virginica\\n131,7.4,2.8,6.1,1.9,virginica\\n132,7.9,3.8,6.4,2.0,virginica\\n133,6.4,2.8,5.6,2.2,virginica\\n134,6.3,2.8,5.1,1.5,virginica\\n135,6.1,2.6,5.6,1.4,virginica\\n136,7.7,3.0,6.1,2.3,virginica\\n137,6.3,3.4,5.6,2.4,virginica\\n138,6.4,3.1,5.5,1.8,virginica\\n139,6.0,3.0,4.8,1.8,virginica\\n140,6.9,3.1,5.4,2.1,virginica\\n141,6.7,3.1,5.6,2.4,virginica\\n142,6.9,3.1,5.1,2.3,virginica\\n143,5.8,2.7,5.1,1.9,virginica\\n144,6.8,3.2,5.9,2.3,virginica\\n145,6.7,3.3,5.7,2.5,virginica\\n146,6.7,3.0,5.2,2.3,virginica\\n147,6.3,2.5,5.0,1.9,virginica\\n148,6.5,3.0,5.2,2.0,virginica\\n149,6.2,3.4,5.4,2.3,virginica\\n150,5.9,3.0,5.1,1.8,virginica\\n'"
      ]
     },
     "execution_count": 69,
     "metadata": {},
     "output_type": "execute_result"
    }
   ],
   "source": [
    "# 3️⃣ Guarda el *dataframe* con los cambios hechos en un archivo `csv`\n",
    "\n",
    "df_iris_csv = df_iris.to_csv()\n",
    "df_iris_csv"
   ]
  }
 ],
 "metadata": {
  "interpreter": {
   "hash": "01140a9d2395b7fd08e2b5f636695eabdb1e49ebcdc5fc3aed86efec2b14b433"
  },
  "kernelspec": {
   "display_name": "adalab",
   "language": "python",
   "name": "python3"
  },
  "language_info": {
   "codemirror_mode": {
    "name": "ipython",
    "version": 3
   },
   "file_extension": ".py",
   "mimetype": "text/x-python",
   "name": "python",
   "nbconvert_exporter": "python",
   "pygments_lexer": "ipython3",
   "version": "3.6.9"
  },
  "toc": {
   "base_numbering": 1,
   "nav_menu": {},
   "number_sections": true,
   "sideBar": true,
   "skip_h1_title": false,
   "title_cell": "Table of Contents",
   "title_sidebar": "Contents",
   "toc_cell": true,
   "toc_position": {},
   "toc_section_display": true,
   "toc_window_display": false
  }
 },
 "nbformat": 4,
 "nbformat_minor": 5
}
