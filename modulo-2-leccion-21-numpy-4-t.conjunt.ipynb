{
 "cells": [
  {
   "cell_type": "markdown",
   "id": "a0c2479e",
   "metadata": {
    "toc": true
   },
   "source": [
    "<h1>Table of Contents<span class=\"tocSkip\"></span></h1>\n",
    "<div class=\"toc\"><ul class=\"toc-item\"><li><span><a href=\"#Funciones-de-conjuntos\" data-toc-modified-id=\"Funciones-de-conjuntos-1\"><span class=\"toc-item-num\">1&nbsp;&nbsp;</span>Funciones de conjuntos</a></span><ul class=\"toc-item\"><li><span><a href=\"#np.unique():\" data-toc-modified-id=\"np.unique():-1.1\"><span class=\"toc-item-num\">1.1&nbsp;&nbsp;</span><code>np.unique()</code>:</a></span></li><li><span><a href=\"#np.intersect1d():\" data-toc-modified-id=\"np.intersect1d():-1.2\"><span class=\"toc-item-num\">1.2&nbsp;&nbsp;</span><code>np.intersect1d()</code>:</a></span></li><li><span><a href=\"#np.union1d():\" data-toc-modified-id=\"np.union1d():-1.3\"><span class=\"toc-item-num\">1.3&nbsp;&nbsp;</span><code>np.union1d()</code>:</a></span></li><li><span><a href=\"#np.in1d():\" data-toc-modified-id=\"np.in1d():-1.4\"><span class=\"toc-item-num\">1.4&nbsp;&nbsp;</span><code>np.in1d()</code>:</a></span></li><li><span><a href=\"#np.setdiff1d():\" data-toc-modified-id=\"np.setdiff1d():-1.5\"><span class=\"toc-item-num\">1.5&nbsp;&nbsp;</span><code>np.setdiff1d()</code>:</a></span></li><li><span><a href=\"#np.setxor1d():\" data-toc-modified-id=\"np.setxor1d():-1.6\"><span class=\"toc-item-num\">1.6&nbsp;&nbsp;</span><code>np.setxor1d()</code>:</a></span></li></ul></li><li><span><a href=\"#NumPy-random\" data-toc-modified-id=\"NumPy-random-2\"><span class=\"toc-item-num\">2&nbsp;&nbsp;</span>NumPy random</a></span><ul class=\"toc-item\"><li><span><a href=\"#np.seed():\" data-toc-modified-id=\"np.seed():-2.1\"><span class=\"toc-item-num\">2.1&nbsp;&nbsp;</span><code>np.seed()</code>:</a></span></li><li><span><a href=\"#np.random.uniform():\" data-toc-modified-id=\"np.random.uniform():-2.2\"><span class=\"toc-item-num\">2.2&nbsp;&nbsp;</span><code>np.random.uniform()</code>:</a></span></li><li><span><a href=\"#np.random.binomial():\" data-toc-modified-id=\"np.random.binomial():-2.3\"><span class=\"toc-item-num\">2.3&nbsp;&nbsp;</span><code>np.random.binomial()</code>:</a></span></li><li><span><a href=\"#np.random.normal():\" data-toc-modified-id=\"np.random.normal():-2.4\"><span class=\"toc-item-num\">2.4&nbsp;&nbsp;</span><code>np.random.normal()</code>:</a></span></li><li><span><a href=\"#np.random.permutation():\" data-toc-modified-id=\"np.random.permutation():-2.5\"><span class=\"toc-item-num\">2.5&nbsp;&nbsp;</span><code>np.random.permutation()</code>:</a></span></li></ul></li><li><span><a href=\"#Guardar-y-salvar-arrays-en-.txt\" data-toc-modified-id=\"Guardar-y-salvar-arrays-en-.txt-3\"><span class=\"toc-item-num\">3&nbsp;&nbsp;</span>Guardar y salvar <em>arrays</em> en <code>.txt</code></a></span><ul class=\"toc-item\"><li><span><a href=\"#Guardar\" data-toc-modified-id=\"Guardar-3.1\"><span class=\"toc-item-num\">3.1&nbsp;&nbsp;</span>Guardar</a></span></li><li><span><a href=\"#Cargar\" data-toc-modified-id=\"Cargar-3.2\"><span class=\"toc-item-num\">3.2&nbsp;&nbsp;</span>Cargar</a></span></li></ul></li></ul></div>"
   ]
  },
  {
   "cell_type": "code",
   "execution_count": 1,
   "id": "c33d0c08",
   "metadata": {},
   "outputs": [],
   "source": [
    "import numpy as np"
   ]
  },
  {
   "cell_type": "markdown",
   "id": "36f39c5c",
   "metadata": {},
   "source": [
    "# Funciones de conjuntos"
   ]
  },
  {
   "cell_type": "markdown",
   "id": "68343bb2",
   "metadata": {},
   "source": [
    "NumPy ofrece algunas funciones básicas de conjuntos para *arrays* **unidimensionales**. "
   ]
  },
  {
   "cell_type": "code",
   "execution_count": 3,
   "id": "5d255da6",
   "metadata": {},
   "outputs": [],
   "source": [
    "# con los arrays que vamos a trabajar a lo largo de este jupyter son: \n",
    "\n",
    "arr1 = np.array([4,5,6,8])\n",
    "arr2 = np.array([4,9,1,5])"
   ]
  },
  {
   "cell_type": "markdown",
   "id": "338f9701",
   "metadata": {},
   "source": [
    "## `np.unique()`: \n",
    "\n",
    "Encuentra los elementos únicos ordenados de un *array*.\n",
    "\n",
    "Hay tres salidas opcionales además de los elementos únicos:\n",
    "\n",
    "- los índices del *array* de entrada que dan los valores únicos, usando el parámetro `return_index`\n",
    "\n",
    "\n",
    "\n",
    "- los índices del *array* único que reconstruyen el *array* de entrada, usando el parámetro `return_inverse`\n",
    "\n",
    "\n",
    "\n",
    "- el número de veces que aparece cada valor único en el *array* de entrada, usando el parámetro `return_counts`\n",
    "\n",
    "📌 Es el único método que veremos en esta clase que podemos aplicar tanto a *arrays* unidimensionales como a bi o multidimensionales. "
   ]
  },
  {
   "cell_type": "code",
   "execution_count": 12,
   "id": "157f3ce7",
   "metadata": {},
   "outputs": [
    {
     "data": {
      "text/plain": [
       "array([[1, 6, 1, 8],\n",
       "       [4, 8, 1, 0],\n",
       "       [3, 7, 5, 5],\n",
       "       [3, 3, 4, 0]])"
      ]
     },
     "execution_count": 12,
     "metadata": {},
     "output_type": "execute_result"
    }
   ],
   "source": [
    "arr3 = np.random.randint(0, 10, size = (4,4))\n",
    "arr3"
   ]
  },
  {
   "cell_type": "code",
   "execution_count": 13,
   "id": "3b02d918",
   "metadata": {},
   "outputs": [
    {
     "data": {
      "text/plain": [
       "array([0, 1, 3, 4, 5, 6, 7, 8])"
      ]
     },
     "execution_count": 13,
     "metadata": {},
     "output_type": "execute_result"
    }
   ],
   "source": [
    "np.unique(arr3)"
   ]
  },
  {
   "cell_type": "code",
   "execution_count": 14,
   "id": "f84cc465",
   "metadata": {},
   "outputs": [
    {
     "data": {
      "text/plain": [
       "(array([0, 1, 3, 4, 5, 6, 7, 8]), array([ 7,  0,  8,  4, 10,  1,  9,  3]))"
      ]
     },
     "execution_count": 14,
     "metadata": {},
     "output_type": "execute_result"
    }
   ],
   "source": [
    "# el primer array nos devuelve los valores únicos y el segundo la posición \n",
    "## dentro de nuestro array\n",
    "\n",
    "np.unique(arr3, return_index=True)"
   ]
  },
  {
   "cell_type": "code",
   "execution_count": 16,
   "id": "8f6fb936",
   "metadata": {},
   "outputs": [
    {
     "data": {
      "text/plain": [
       "array([0, 1, 2, 3, 5, 6])"
      ]
     },
     "execution_count": 16,
     "metadata": {},
     "output_type": "execute_result"
    }
   ],
   "source": [
    "\n",
    "#ejemplo\n",
    "import numpy as np\n",
    "x = np.array([0, 1, 2, 5, 2, 6, 5, 2, 3, 1])\n",
    "u, indices = np.unique(x, return_inverse=True)\n",
    "u"
   ]
  },
  {
   "cell_type": "code",
   "execution_count": 15,
   "id": "87ed0713",
   "metadata": {},
   "outputs": [
    {
     "data": {
      "text/plain": [
       "(array([0, 1, 3, 4, 5, 6, 7, 8]),\n",
       " array([1, 5, 1, 7, 3, 7, 1, 0, 2, 6, 4, 4, 2, 2, 3, 0]))"
      ]
     },
     "execution_count": 15,
     "metadata": {},
     "output_type": "execute_result"
    }
   ],
   "source": [
    "# nos devuelve dos  arrays. El primero con los elementos únicos. \n",
    "## El segundo con las índices de cada uno de los elementos para que podamos\n",
    "### recosntruir el array\n",
    "\n",
    "np.unique(arr3, return_inverse=True)"
   ]
  },
  {
   "cell_type": "code",
   "execution_count": 10,
   "id": "67adc613",
   "metadata": {},
   "outputs": [
    {
     "data": {
      "text/plain": [
       "(array([0, 1, 2, 3, 4, 6, 7, 9]), array([1, 2, 1, 2, 4, 3, 1, 2]))"
      ]
     },
     "execution_count": 10,
     "metadata": {},
     "output_type": "execute_result"
    }
   ],
   "source": [
    "# los valores únicos que tenemos y el número de veces que apararece cada\n",
    "## uno de ellos\n",
    "\n",
    "np.unique(arr3, return_counts=True)"
   ]
  },
  {
   "cell_type": "markdown",
   "id": "442ff1ed",
   "metadata": {},
   "source": [
    "Interpretando los resultados anteriores 👆: \n",
    "\n",
    "- El 0 apararece 1 vez\n",
    "\n",
    "\n",
    "- El 1 aparece 2 veces\n",
    "\n",
    "\n",
    "- El 2 aparece 2 veces\n",
    "\n",
    "\n",
    "- ..."
   ]
  },
  {
   "cell_type": "markdown",
   "id": "0d386620",
   "metadata": {},
   "source": [
    "De la misma forma que en la sesión de ayer, a `np.unique` le podemos pasar el parámetro `axis` para que nos devuelva los valores únicos por columnas o filas. "
   ]
  },
  {
   "cell_type": "code",
   "execution_count": 8,
   "id": "05a9ee8f",
   "metadata": {},
   "outputs": [
    {
     "data": {
      "text/plain": [
       "array([[4, 6, 6, 0],\n",
       "       [5, 2, 1, 8],\n",
       "       [5, 0, 1, 4],\n",
       "       [3, 2, 3, 9]])"
      ]
     },
     "execution_count": 8,
     "metadata": {},
     "output_type": "execute_result"
    }
   ],
   "source": [
    "arr3"
   ]
  },
  {
   "cell_type": "code",
   "execution_count": 9,
   "id": "dab45cc0",
   "metadata": {},
   "outputs": [
    {
     "data": {
      "text/plain": [
       "array([[0, 4, 6, 6],\n",
       "       [8, 5, 1, 2],\n",
       "       [4, 5, 1, 0],\n",
       "       [9, 3, 3, 2]])"
      ]
     },
     "execution_count": 9,
     "metadata": {},
     "output_type": "execute_result"
    }
   ],
   "source": [
    "np.unique(arr3, axis = 1)"
   ]
  },
  {
   "cell_type": "markdown",
   "id": "952d5370",
   "metadata": {},
   "source": [
    "## `np.intersect1d()`:\n",
    "\n",
    "Encuentra la intersección, es decir, los elementos que son comunes en los dos *arrays*.\n",
    "\n",
    "Devuelve los valores únicos de la intersección y ordenados que se encuentran en ambos *arrays* \n",
    "\n",
    "Le podemos pasar el parámetro `return_indeces` para que nos devuelva en que posición están los elementos de la intersección. \n"
   ]
  },
  {
   "cell_type": "code",
   "execution_count": 17,
   "id": "2d0dd809",
   "metadata": {},
   "outputs": [
    {
     "data": {
      "text/plain": [
       "array([4, 5, 6, 8])"
      ]
     },
     "execution_count": 17,
     "metadata": {},
     "output_type": "execute_result"
    }
   ],
   "source": [
    "arr1"
   ]
  },
  {
   "cell_type": "code",
   "execution_count": 18,
   "id": "ed47e6e9",
   "metadata": {},
   "outputs": [
    {
     "data": {
      "text/plain": [
       "array([4, 9, 1, 5])"
      ]
     },
     "execution_count": 18,
     "metadata": {},
     "output_type": "execute_result"
    }
   ],
   "source": [
    "arr2"
   ]
  },
  {
   "cell_type": "code",
   "execution_count": 20,
   "id": "7c7550aa",
   "metadata": {},
   "outputs": [
    {
     "data": {
      "text/plain": [
       "array([4, 5])"
      ]
     },
     "execution_count": 20,
     "metadata": {},
     "output_type": "execute_result"
    }
   ],
   "source": [
    "# nos devuelve los elementos comunes. En este caso el 4 y 5\n",
    "\n",
    "np.intersect1d(arr1, arr2)"
   ]
  },
  {
   "cell_type": "code",
   "execution_count": 21,
   "id": "6731b341",
   "metadata": {},
   "outputs": [
    {
     "data": {
      "text/plain": [
       "(array([4, 5]), array([0, 1]), array([0, 3]))"
      ]
     },
     "execution_count": 21,
     "metadata": {},
     "output_type": "execute_result"
    }
   ],
   "source": [
    "# nos devuelve los elementos comunes y sus índices. \n",
    "\n",
    "np.intersect1d(arr1, arr2, return_indices=True)"
   ]
  },
  {
   "cell_type": "markdown",
   "id": "73358c15",
   "metadata": {},
   "source": [
    "Entendamos la parte de los índices:\n",
    "\n",
    "```python\n",
    "# el método nos devuelve lo siguiente: \n",
    "(array([4, 5]), array([0, 1]), array([0, 3]))\n",
    "\n",
    "# el primer array hace referencia a los elementos que \"interseccionan\", los que se repiten en los dos arrays\n",
    "array([4, 5])\n",
    "\n",
    "# el segundo array hace referencia a los índices donde encontraremos el 4 y 5 en e primer array. En este caso los número que coinciden se encuentran en la posición 0 y 1 respectivamente del arr1\n",
    "array([0, 1])\n",
    "\n",
    "# el tercer array indica que en el arr2 los elementos repetidos los encontramos en la posición 0 y 3\n",
    "array([0, 3])\n",
    "```"
   ]
  },
  {
   "cell_type": "markdown",
   "id": "b31a60f9",
   "metadata": {},
   "source": [
    "## `np.union1d()`: \n",
    "\n",
    "Encuentra la unión de dos *arrays*.\n",
    "\n",
    "Devuelve un *array* ordenado con los elementos resultantes de unir los *arrays*. "
   ]
  },
  {
   "cell_type": "code",
   "execution_count": 14,
   "id": "de40eb6c",
   "metadata": {},
   "outputs": [
    {
     "data": {
      "text/plain": [
       "array([1, 4, 5, 6, 8, 9])"
      ]
     },
     "execution_count": 14,
     "metadata": {},
     "output_type": "execute_result"
    }
   ],
   "source": [
    "# todos los valores que tenemos en nuestros arrays son: \n",
    "\n",
    "np.union1d(arr1, arr2)"
   ]
  },
  {
   "cell_type": "markdown",
   "id": "21b731b4",
   "metadata": {},
   "source": [
    "## `np.in1d()`: \n",
    "\n",
    "Devuelve un *array* de booleanos con información sobre qué elementos del *array* \"A\" se encuentran también en el *array* \"B\"."
   ]
  },
  {
   "cell_type": "code",
   "execution_count": 22,
   "id": "88c3cfa7",
   "metadata": {},
   "outputs": [
    {
     "data": {
      "text/plain": [
       "array([4, 5, 6, 8])"
      ]
     },
     "execution_count": 22,
     "metadata": {},
     "output_type": "execute_result"
    }
   ],
   "source": [
    "arr1"
   ]
  },
  {
   "cell_type": "code",
   "execution_count": 23,
   "id": "6bf12e06",
   "metadata": {},
   "outputs": [
    {
     "data": {
      "text/plain": [
       "array([4, 9, 1, 5])"
      ]
     },
     "execution_count": 23,
     "metadata": {},
     "output_type": "execute_result"
    }
   ],
   "source": [
    "arr2"
   ]
  },
  {
   "cell_type": "code",
   "execution_count": 24,
   "id": "e810a406",
   "metadata": {},
   "outputs": [
    {
     "data": {
      "text/plain": [
       "array([ True,  True, False, False])"
      ]
     },
     "execution_count": 24,
     "metadata": {},
     "output_type": "execute_result"
    }
   ],
   "source": [
    "np.in1d(arr1, arr2)"
   ]
  },
  {
   "cell_type": "markdown",
   "id": "48c51e58",
   "metadata": {},
   "source": [
    "Lo que nos está diciendo el *output* es que: \n",
    "\n",
    "- El número 4 del arr1 SI está en el arr2\n",
    "\n",
    "\n",
    "- El número 5  del arr1 SI está en el arr2\n",
    "\n",
    "\n",
    "- El número 6  del arr1 NO está en el arr2\n",
    "\n",
    "\n",
    "- El número 8  del arr1 NO está en el arr2\n",
    "\n",
    "\n"
   ]
  },
  {
   "cell_type": "markdown",
   "id": "a1e9efd0",
   "metadata": {},
   "source": [
    "En este caso, el orden en el que le pasemos los *arrays* importa. Si nos fijamos no nos devuelve el mismo *output* si cambiamos el orden 👇🏽"
   ]
  },
  {
   "cell_type": "code",
   "execution_count": 18,
   "id": "6e667065",
   "metadata": {},
   "outputs": [
    {
     "data": {
      "text/plain": [
       "array([ True, False, False,  True])"
      ]
     },
     "execution_count": 18,
     "metadata": {},
     "output_type": "execute_result"
    }
   ],
   "source": [
    "np.in1d(arr2, arr1)"
   ]
  },
  {
   "cell_type": "markdown",
   "id": "d5009eea",
   "metadata": {},
   "source": [
    "## `np.setdiff1d()`: \n",
    "\n",
    "Devuelve un *array* ordenado con los valores únicos que están en el *array* \"A\" pero no en el \"B\". "
   ]
  },
  {
   "cell_type": "code",
   "execution_count": 25,
   "id": "28b9392a",
   "metadata": {},
   "outputs": [
    {
     "data": {
      "text/plain": [
       "array([4, 5, 6, 8])"
      ]
     },
     "execution_count": 25,
     "metadata": {},
     "output_type": "execute_result"
    }
   ],
   "source": [
    "arr1"
   ]
  },
  {
   "cell_type": "code",
   "execution_count": 26,
   "id": "7ba8eb2d",
   "metadata": {},
   "outputs": [
    {
     "data": {
      "text/plain": [
       "array([4, 9, 1, 5])"
      ]
     },
     "execution_count": 26,
     "metadata": {},
     "output_type": "execute_result"
    }
   ],
   "source": [
    "arr2"
   ]
  },
  {
   "cell_type": "code",
   "execution_count": 21,
   "id": "22547da7",
   "metadata": {
    "scrolled": true
   },
   "outputs": [
    {
     "data": {
      "text/plain": [
       "array([6, 8])"
      ]
     },
     "execution_count": 21,
     "metadata": {},
     "output_type": "execute_result"
    }
   ],
   "source": [
    "# los valores de 6 y 8 los encontramos en el arr1, pero no en el arr2\n",
    "\n",
    "np.setdiff1d(arr1, arr2)"
   ]
  },
  {
   "cell_type": "markdown",
   "id": "c9e4e618",
   "metadata": {},
   "source": [
    "⚠️🚨 De nuevo el orden importa, veamoslo con un ejemplo: ⚠️🚨"
   ]
  },
  {
   "cell_type": "code",
   "execution_count": 22,
   "id": "c7848b2a",
   "metadata": {},
   "outputs": [
    {
     "data": {
      "text/plain": [
       "array([1, 9])"
      ]
     },
     "execution_count": 22,
     "metadata": {},
     "output_type": "execute_result"
    }
   ],
   "source": [
    "# los valores 1, 9 están en el arr2, pero no en el arr1\n",
    "\n",
    "np.setdiff1d(arr2, arr1)"
   ]
  },
  {
   "cell_type": "markdown",
   "id": "deda79ef",
   "metadata": {},
   "source": [
    "## `np.setxor1d()`: \n",
    "\n",
    "Devuelve un *array*  ordenado con los valores únicos del conjunto de elementos que pertenecen a \"A\" o \"B\", pero no a ambos. Es decir, nos va a devolver los elementos que solo encontremos en cada uno de los *arrays* cuando los comparamos"
   ]
  },
  {
   "cell_type": "code",
   "execution_count": 43,
   "id": "6a2a6c5c",
   "metadata": {},
   "outputs": [
    {
     "data": {
      "text/plain": [
       "array([4, 5, 6, 8])"
      ]
     },
     "execution_count": 43,
     "metadata": {},
     "output_type": "execute_result"
    }
   ],
   "source": [
    "arr1"
   ]
  },
  {
   "cell_type": "code",
   "execution_count": 44,
   "id": "aac41910",
   "metadata": {},
   "outputs": [
    {
     "data": {
      "text/plain": [
       "array([4, 9, 1, 5])"
      ]
     },
     "execution_count": 44,
     "metadata": {},
     "output_type": "execute_result"
    }
   ],
   "source": [
    "arr2"
   ]
  },
  {
   "cell_type": "code",
   "execution_count": 23,
   "id": "20e80e31",
   "metadata": {
    "scrolled": true
   },
   "outputs": [
    {
     "data": {
      "text/plain": [
       "array([1, 6, 8, 9])"
      ]
     },
     "execution_count": 23,
     "metadata": {},
     "output_type": "execute_result"
    }
   ],
   "source": [
    "# es decir, los números 1,6,8,9 van a estar únicamente en un array. El \n",
    "## 6 y 8 están solo en el arr1 y el 1 y 9 solo en el arr2\n",
    "\n",
    "np.setxor1d(arr1, arr2)"
   ]
  },
  {
   "cell_type": "markdown",
   "id": "a3a771f8",
   "metadata": {},
   "source": [
    "Podemos encontrar otras funciones de conjuntos en NumPy, más información [aqui](https://interactivechaos.com/es/manual/tutorial-de-numpy/funciones-de-conjuntos)"
   ]
  },
  {
   "cell_type": "markdown",
   "id": "4f2dfd58",
   "metadata": {},
   "source": [
    "**EJERCICIO 1** Crea dos *arrays* de una dimensión con 6 elementos aleatorios del 1-10. Una vez que los tengamos:\n",
    "\n",
    "- ¿Qué elementos son comunes en los dos *arrays*?\n",
    "\n",
    "\n",
    "\n",
    "- ¿Qué elementos están en el primer *array* pero no en el segundo? ¿Qué pasa si cambio el orden de entrada de los arrays? \n",
    "\n",
    "\n",
    "- ¿Qué elementos únicos vamos a encontrar en los *arrays* ?"
   ]
  },
  {
   "cell_type": "code",
   "execution_count": 30,
   "id": "b3f5e3cc",
   "metadata": {},
   "outputs": [
    {
     "data": {
      "text/plain": [
       "array([1])"
      ]
     },
     "execution_count": 30,
     "metadata": {},
     "output_type": "execute_result"
    }
   ],
   "source": [
    "array_a = np.random.randint(0,10,(6))\n",
    "array_b = np.random.randint(0,10,(6))"
   ]
  },
  {
   "cell_type": "code",
   "execution_count": null,
   "id": "fab4e5f4",
   "metadata": {},
   "outputs": [],
   "source": [
    "# elem comunes\n",
    "np.intersect1d(array_a, array_b)"
   ]
  },
  {
   "cell_type": "code",
   "execution_count": 34,
   "id": "1986e54d",
   "metadata": {},
   "outputs": [
    {
     "name": "stdout",
     "output_type": "stream",
     "text": [
      "[ True False False False False False]\n",
      "[False False False  True False False]\n"
     ]
    }
   ],
   "source": [
    "# elemntos en el primer array pero no en el segundo. Prueba con el orden contrario.\n",
    "print(np.in1d(array_a, array_b))\n",
    "print(np.in1d(array_b, array_a))\n",
    "#aparece el output invertido"
   ]
  },
  {
   "cell_type": "code",
   "execution_count": 37,
   "id": "0671aeac",
   "metadata": {},
   "outputs": [
    {
     "data": {
      "text/plain": [
       "array([0, 3, 4, 5, 6, 8, 9])"
      ]
     },
     "execution_count": 37,
     "metadata": {},
     "output_type": "execute_result"
    }
   ],
   "source": [
    "# elem unicos\n",
    "np.setxor1d(array_a, array_b)"
   ]
  },
  {
   "cell_type": "markdown",
   "id": "12f13b87",
   "metadata": {},
   "source": [
    "# NumPy random"
   ]
  },
  {
   "cell_type": "markdown",
   "id": "127b0e1b",
   "metadata": {},
   "source": [
    "NumPy ofrece el módulo random para generar números aleatorios.\n",
    "\n",
    "\n",
    "**¿Qué es un número aleatorio?**\n",
    "\n",
    "\n",
    "Un número aleatorio NO significa un número diferente cada vez. Aleatorio significa algo que no se puede predecir lógicamente.\n",
    "\n",
    "Algunos de estos métodos ya los vimos en la primera sesión de NumPy, como por ejemplo: \n",
    "\n",
    "- np.random.randint()\n",
    "\n",
    "\n",
    "- np.random.rand()\n",
    "\n",
    "\n",
    "- np.random.random_sample()\n",
    "\n",
    "En esta parte de la clase veremos otros nuevos 🌊! "
   ]
  },
  {
   "cell_type": "markdown",
   "id": "0028085e",
   "metadata": {},
   "source": [
    "## `np.seed()`: \n",
    "\n",
    "Nos va servir para generar números pseudo-aleatorios \n",
    "\n",
    "**¿Qué es exactamente NumPy random seed?**\n",
    "\n",
    "NumPy random seed es simplemente una función que establece la semilla aleatoria del generador de números pseudo-aleatorios de NumPy. Proporciona una entrada esencial que permite a NumPy generar números pseudo-aleatorios para procesos aleatorios.\n",
    "\n",
    "**¿Qué es un número pseudoaleatorio?**\n",
    "\n",
    "Un número pseudo-aleatorio es un número que es casi aleatorio, pero no realmente aleatorio.\n",
    "\n",
    "\n",
    "**¿Por qué necesitamos números pseudo-aleatorios?**\n",
    "\n",
    "Basicamente nos va a permitir que generemos generemos números aleatorios \"iguales\". \n",
    "\n",
    "Veámoslo con un ejemplo:  "
   ]
  },
  {
   "cell_type": "code",
   "execution_count": 38,
   "id": "431a418d",
   "metadata": {},
   "outputs": [],
   "source": [
    "# vamos a generar dos arrays sin iniciar el random.seed\n",
    "\n",
    "array1 = np.random.rand(5)\n",
    "array2 = np.random.rand(5)\n"
   ]
  },
  {
   "cell_type": "code",
   "execution_count": 39,
   "id": "ffee743d",
   "metadata": {},
   "outputs": [
    {
     "data": {
      "text/plain": [
       "array([0.39638125, 0.48162417, 0.15015845, 0.00326043, 0.03025829])"
      ]
     },
     "execution_count": 39,
     "metadata": {},
     "output_type": "execute_result"
    }
   ],
   "source": [
    "array1"
   ]
  },
  {
   "cell_type": "code",
   "execution_count": 40,
   "id": "315e7e48",
   "metadata": {},
   "outputs": [
    {
     "data": {
      "text/plain": [
       "array([0.13304328, 0.88989428, 0.60457349, 0.5073472 , 0.49991118])"
      ]
     },
     "execution_count": 40,
     "metadata": {},
     "output_type": "execute_result"
    }
   ],
   "source": [
    "array2"
   ]
  },
  {
   "cell_type": "markdown",
   "id": "06f095a8",
   "metadata": {},
   "source": [
    "Se nos han generado dos *arrays* con números aleatorios diferentes. \n",
    "\n",
    "Pero... ¿Qué pasa si inicializo una \"semilla\" de NumPy?"
   ]
  },
  {
   "cell_type": "code",
   "execution_count": 41,
   "id": "ca4dd2ef",
   "metadata": {},
   "outputs": [
    {
     "data": {
      "text/plain": [
       "array([4.17022005e-01, 7.20324493e-01, 1.14374817e-04, 3.02332573e-01,\n",
       "       1.46755891e-01])"
      ]
     },
     "execution_count": 41,
     "metadata": {},
     "output_type": "execute_result"
    }
   ],
   "source": [
    "#inicializo mi semilla de NumPy y defino otro array\n",
    "\n",
    "np.random.seed(1)\n",
    "array3 = np.random.rand(5)\n",
    "array3"
   ]
  },
  {
   "cell_type": "code",
   "execution_count": 28,
   "id": "a0cd7b5e",
   "metadata": {},
   "outputs": [
    {
     "data": {
      "text/plain": [
       "array([4.17022005e-01, 7.20324493e-01, 1.14374817e-04, 3.02332573e-01,\n",
       "       1.46755891e-01])"
      ]
     },
     "execution_count": 28,
     "metadata": {},
     "output_type": "execute_result"
    }
   ],
   "source": [
    "# inizializo la misma semilla pero voy a crear otro array diferente\n",
    "\n",
    "np.random.seed(1)\n",
    "array4 = np.random.rand(5)\n",
    "array4"
   ]
  },
  {
   "cell_type": "markdown",
   "id": "66702336",
   "metadata": {},
   "source": [
    "🪄🧙🏽‍♂️ Hemos creado dos *arrays* diferentes pero que tienen los mismos valores!!! \n",
    "\n",
    "> La idea detrás de `np.random.seed` es que siempre obtendremos el mismo conjunto de números aleatorios para la misma semilla en cualquier máquina."
   ]
  },
  {
   "cell_type": "markdown",
   "id": "9c085634",
   "metadata": {},
   "source": [
    "## `np.random.uniform()`: \n",
    "\n",
    "Genera muestras aleatorias de una distribución uniforme.\n",
    "\n",
    "Las muestras se distribuyen uniformemente en el intervalo de dos números que le pasemos. En otras palabras, cualquier valor dentro del intervalo dado tiene la misma probabilidad de ser extraído.\n",
    "\n",
    "Por defecto nos va a devolver un único valor, pero tenemos el parámetro `size`con el que podremos especificar cuántos números vamos a querer que nos genere. \n",
    "\n",
    "Veamos la sintaxis: \n",
    "\n",
    "```python\n",
    "np.random.uniform(size =, low =, high=)\n",
    "\n",
    "```\n",
    "\n",
    "Donde:\n",
    "\n",
    "- `size`: especificamos el tamaño del *array* que queremos generar.\n",
    "\n",
    "\n",
    "- `low`: el valor mínimo desde el que se generarán números aleatorio.\n",
    "\n",
    "\n",
    "- `high`: el valor máximo hasta donde generaremos números."
   ]
  },
  {
   "cell_type": "code",
   "execution_count": 42,
   "id": "2a127a57",
   "metadata": {},
   "outputs": [
    {
     "data": {
      "text/plain": [
       "2.7544333006071584"
      ]
     },
     "execution_count": 42,
     "metadata": {},
     "output_type": "execute_result"
    }
   ],
   "source": [
    "# sin en parámetro size. Genera un único número\n",
    "\n",
    "np.random.uniform(1,20)"
   ]
  },
  {
   "cell_type": "code",
   "execution_count": 43,
   "id": "3a679466",
   "metadata": {},
   "outputs": [
    {
     "data": {
      "text/plain": [
       "array([2.6763419 , 4.11004654, 4.57090727, 5.84935061, 4.77275063,\n",
       "       7.1669755 , 2.84007025, 8.90305693, 1.24648834, 7.03420759,\n",
       "       4.75574322, 6.02820846, 2.26348245, 2.7829134 , 8.20670112,\n",
       "       9.71435418, 3.8208176 , 7.23090354, 8.88750237, 9.05145997])"
      ]
     },
     "execution_count": 43,
     "metadata": {},
     "output_type": "execute_result"
    }
   ],
   "source": [
    "# con parámetro size = 20. Me genera 20 números aleatorios con una \n",
    "## distribución uniforme en un intervalo del 1 -10\n",
    "\n",
    "np.random.uniform(1,10, size = 20)"
   ]
  },
  {
   "cell_type": "code",
   "execution_count": 49,
   "id": "11132d14",
   "metadata": {},
   "outputs": [
    {
     "data": {
      "text/plain": [
       "array([[8.19653736, 1.31114098],\n",
       "       [7.93214861, 7.58555741],\n",
       "       [3.33728554, 3.31362369],\n",
       "       [6.69072986, 4.10767715],\n",
       "       [8.1692981 , 5.01531609],\n",
       "       [8.04474473, 9.91424605]])"
      ]
     },
     "execution_count": 49,
     "metadata": {},
     "output_type": "execute_result"
    }
   ],
   "source": [
    "# si queremos crear un array bidemensional \n",
    "\n",
    "# Array de 6 filas x 2 columnas\n",
    "\n",
    "np.random.uniform(1,10, size = (6, 2))"
   ]
  },
  {
   "cell_type": "code",
   "execution_count": 50,
   "id": "d2fcdde9",
   "metadata": {},
   "outputs": [
    {
     "data": {
      "text/plain": [
       "array([[[3.70223506, 2.28705245, 9.11177593, 5.87403441, 9.77266334],\n",
       "        [6.7294396 , 9.94521722, 5.91463724, 5.73783341, 2.21885113]],\n",
       "\n",
       "       [[4.20134654, 1.23596711, 2.44355662, 7.71073473, 1.27359721],\n",
       "        [4.29888788, 8.76111628, 7.23409946, 7.21847928, 2.69773121]],\n",
       "\n",
       "       [[4.97713853, 6.23419667, 9.90776537, 2.83515603, 3.22959612],\n",
       "        [3.35955775, 7.75155172, 5.11277795, 1.51236495, 5.57664617]]])"
      ]
     },
     "execution_count": 50,
     "metadata": {},
     "output_type": "execute_result"
    }
   ],
   "source": [
    "# y uno tridimensonal?\n",
    "\n",
    "# Un array de 3 matrices, con 2 filas x 5 columnas cada matriz\n",
    "\n",
    "np.random.uniform(1,10, size = (3, 2, 5))"
   ]
  },
  {
   "cell_type": "markdown",
   "id": "3a344933",
   "metadata": {},
   "source": [
    "## `np.random.binomial()`: \n",
    "\n",
    "Genera muestras con una distribución binomial.\n",
    "\n",
    "Las muestras se generan con los siguientes parámetros:\n",
    "\n",
    "- `n`:  ensayos o número total de pruebas. Es un número entero\n",
    "\n",
    "\n",
    "- `p`: probabilidad de éxito entre 0-1\n"
   ]
  },
  {
   "cell_type": "code",
   "execution_count": 46,
   "id": "ceb9309d",
   "metadata": {},
   "outputs": [
    {
     "data": {
      "text/plain": [
       "0"
      ]
     },
     "execution_count": 46,
     "metadata": {},
     "output_type": "execute_result"
    }
   ],
   "source": [
    "# estoy creando una distribución binomial con probabilidad de 0.1 \n",
    "## de que salga un 1\n",
    "\n",
    "np.random.binomial(1, 0.1)"
   ]
  },
  {
   "cell_type": "code",
   "execution_count": 45,
   "id": "be31e7f7",
   "metadata": {},
   "outputs": [
    {
     "data": {
      "text/plain": [
       "array([4, 4, 3, 3, 4, 2, 4, 4, 4, 4, 4, 2, 3, 4, 4, 4, 4, 3, 4, 3, 4, 3,\n",
       "       3, 3, 4, 4, 3, 4, 4, 4, 4, 4, 4, 3, 4, 3, 4, 4, 3, 4, 4, 4, 3, 3,\n",
       "       4, 2, 4, 2, 4, 3, 4, 4, 4, 4, 3, 3, 3, 3, 3, 4, 3, 4, 4, 4, 4, 4,\n",
       "       4, 4, 2, 3, 4, 4, 4, 3, 3, 3, 3, 4, 4, 3, 4, 3, 4, 3, 4, 3, 4, 4,\n",
       "       4, 4, 4, 4, 2, 4, 3, 3, 3, 4, 4, 4])"
      ]
     },
     "execution_count": 45,
     "metadata": {},
     "output_type": "execute_result"
    }
   ],
   "source": [
    "# en este caso estamos creando un array unidimensional\n",
    "\n",
    "np.random.binomial(4, 0.9, size = 100)"
   ]
  },
  {
   "cell_type": "code",
   "execution_count": 46,
   "id": "09d62c8a",
   "metadata": {},
   "outputs": [
    {
     "data": {
      "text/plain": [
       "array([[4, 4, 4],\n",
       "       [4, 3, 3]])"
      ]
     },
     "execution_count": 46,
     "metadata": {},
     "output_type": "execute_result"
    }
   ],
   "source": [
    "# en caso de que queramos crear un array bi o multidimensional solo tendrekmos\n",
    "## que especificarlo con el parámetro size. \n",
    "\n",
    "# creamos un array de 2 filas x 3 columnas\n",
    "\n",
    "np.random.binomial(4, 0.9, size = (2,3))"
   ]
  },
  {
   "cell_type": "code",
   "execution_count": 47,
   "id": "fda86623",
   "metadata": {},
   "outputs": [
    {
     "data": {
      "text/plain": [
       "array([[[4, 4, 4, 4],\n",
       "        [3, 4, 4, 3],\n",
       "        [4, 4, 4, 4]],\n",
       "\n",
       "       [[4, 4, 4, 4],\n",
       "        [4, 4, 4, 3],\n",
       "        [4, 4, 3, 4]]])"
      ]
     },
     "execution_count": 47,
     "metadata": {},
     "output_type": "execute_result"
    }
   ],
   "source": [
    "# creamos un array de 2 matrices con  3 filas x 4 columnas cada matriz\n",
    "\n",
    "np.random.binomial(4, 0.9, size = (2, 3,4))"
   ]
  },
  {
   "attachments": {
    "image.png": {
     "image/png": "[encoded data removed]"
    }
   },
   "cell_type": "markdown",
   "id": "c176105a",
   "metadata": {},
   "source": [
    "## `np.random.normal()`: \n",
    "\n",
    "Genera números aleatorios de una distribución normal (gaussiana).\n",
    "\n",
    "La función de densidad de probabilidad de la distribución normal suele llamarse curva de campana por su forma característica.\n",
    "\n",
    "Este es el aspecto que tiene cuando lo representamos en un histograma:\n",
    "\n",
    "![image.png](https://github.com/Adalab/data_imagenes/blob/main/Modulo-2/NumPy/normal-numpy.png?raw=true)\n",
    "\n",
    "Veamos la sintaxis: \n",
    "\n",
    "```python\n",
    "np.random.normal(loc =, scale =, size=)\n",
    "\n",
    "```"
   ]
  },
  {
   "attachments": {
    "media-normal-2.png": {
     "image/png": "[encoded data removed]"
    }
   },
   "cell_type": "markdown",
   "id": "a0408f98",
   "metadata": {},
   "source": [
    "Donde: \n",
    "\n",
    "- `loc`: se refiere a la media de la distribución  \n",
    "\n",
    "\n",
    "- `scale`: la desviación estándar de la distribución \n",
    "\n",
    "\n",
    "- `size`: la forma del array que queremos crear. \n",
    "\n"
   ]
  },
  {
   "cell_type": "code",
   "execution_count": 47,
   "id": "d3f67e09",
   "metadata": {},
   "outputs": [
    {
     "data": {
      "text/plain": [
       "array([[ 0.53381091, -0.0919733 ,  1.91382039],\n",
       "       [ 0.33079713,  1.14194252, -1.12959516],\n",
       "       [-0.85005238,  0.96082   , -0.21741818]])"
      ]
     },
     "execution_count": 47,
     "metadata": {},
     "output_type": "execute_result"
    }
   ],
   "source": [
    "# estamos creando un array con una distribución normal de dos dimensiones\n",
    "## con 3 colummas x 3 filas\n",
    "\n",
    "normal_1 = np.random.normal(loc = 0, scale = 1, size = (3,3))\n",
    "normal_1"
   ]
  },
  {
   "cell_type": "code",
   "execution_count": 48,
   "id": "bcb3a6ec",
   "metadata": {},
   "outputs": [
    {
     "data": {
      "text/plain": [
       "array([[[ 0.15851488,  0.87341823, -0.11138337, -1.03803876],\n",
       "        [-1.00947983, -1.05825656,  0.65628408, -0.06249159],\n",
       "        [-1.73865429,  0.103163  , -0.62166685,  0.27571804]],\n",
       "\n",
       "       [[-1.09067489, -0.60998525,  0.30641238,  1.69182613],\n",
       "        [-0.74795374, -0.58079722, -0.11075397,  2.04202875],\n",
       "        [ 0.44752069,  0.68338423,  0.02288597,  0.85723427]]])"
      ]
     },
     "execution_count": 48,
     "metadata": {},
     "output_type": "execute_result"
    }
   ],
   "source": [
    "# estamos creando un array de tres dimensiones con 2 matrices de 3 filas X \n",
    "## 4 columnas. \n",
    "\n",
    "normal_2 = np.random.normal(loc = 0, scale = 1, size = (2, 3, 4))\n",
    "normal_2"
   ]
  },
  {
   "cell_type": "markdown",
   "id": "0c94fb05",
   "metadata": {},
   "source": [
    "## `np.random.permutation()`:\n",
    "\n",
    "Permuta aleatoriamente una secuencia, o devuelve un rango permutado. Es como mezclar una baraja de cartas. \n",
    "\n",
    "Se utiliza principalmente para dos propósitos:\n",
    "\n",
    "- Obtener una copia permutada aleatoriamente de una secuencia \n",
    "\n",
    "\n",
    "- Obtener un rango permutado aleatoriamente en Python. \n",
    "\n",
    "\n",
    "Si x es una matriz multidimensional, sólo se baraja a lo largo de su primer índice.\n",
    "\n"
   ]
  },
  {
   "cell_type": "code",
   "execution_count": 49,
   "id": "8c35409b",
   "metadata": {},
   "outputs": [
    {
     "data": {
      "text/plain": [
       "array([0.39638125, 0.48162417, 0.15015845, 0.00326043, 0.03025829])"
      ]
     },
     "execution_count": 49,
     "metadata": {},
     "output_type": "execute_result"
    }
   ],
   "source": [
    "# recordemos que tenemos el array1\n",
    "\n",
    "array1"
   ]
  },
  {
   "cell_type": "code",
   "execution_count": 50,
   "id": "5ce031e6",
   "metadata": {},
   "outputs": [
    {
     "data": {
      "text/plain": [
       "array([0.15015845, 0.48162417, 0.03025829, 0.00326043, 0.39638125])"
      ]
     },
     "execution_count": 50,
     "metadata": {},
     "output_type": "execute_result"
    }
   ],
   "source": [
    "# si nos fijamos se ha cambiado el orden de nuestros elementos \n",
    "cambiado1 = np.random.permutation(array1)\n",
    "cambiado1\n"
   ]
  },
  {
   "cell_type": "markdown",
   "id": "59bf0028",
   "metadata": {},
   "source": [
    "Si tuvieramos un *array* multidimensional"
   ]
  },
  {
   "cell_type": "code",
   "execution_count": 51,
   "id": "0d37ff22",
   "metadata": {},
   "outputs": [
    {
     "data": {
      "text/plain": [
       "array([[[0.80739129, 0.39767684, 0.1653542 , 0.92750858, 0.34776586],\n",
       "        [0.7508121 , 0.72599799, 0.88330609, 0.62367221, 0.75094243],\n",
       "        [0.34889834, 0.26992789, 0.89588622, 0.42809119, 0.96484005]],\n",
       "\n",
       "       [[0.6634415 , 0.62169572, 0.11474597, 0.94948926, 0.44991213],\n",
       "        [0.57838961, 0.4081368 , 0.23702698, 0.90337952, 0.57367949],\n",
       "        [0.00287033, 0.61714491, 0.3266449 , 0.5270581 , 0.8859421 ]]])"
      ]
     },
     "execution_count": 51,
     "metadata": {},
     "output_type": "execute_result"
    }
   ],
   "source": [
    "array3 = np.random.rand(2,3,5)\n",
    "array3"
   ]
  },
  {
   "cell_type": "code",
   "execution_count": 52,
   "id": "4b96e75e",
   "metadata": {},
   "outputs": [
    {
     "data": {
      "text/plain": [
       "array([[[0.80739129, 0.39767684, 0.1653542 , 0.92750858, 0.34776586],\n",
       "        [0.7508121 , 0.72599799, 0.88330609, 0.62367221, 0.75094243],\n",
       "        [0.34889834, 0.26992789, 0.89588622, 0.42809119, 0.96484005]],\n",
       "\n",
       "       [[0.6634415 , 0.62169572, 0.11474597, 0.94948926, 0.44991213],\n",
       "        [0.57838961, 0.4081368 , 0.23702698, 0.90337952, 0.57367949],\n",
       "        [0.00287033, 0.61714491, 0.3266449 , 0.5270581 , 0.8859421 ]]])"
      ]
     },
     "execution_count": 52,
     "metadata": {},
     "output_type": "execute_result"
    }
   ],
   "source": [
    "cambiado2 = np.random.permutation(array3)\n",
    "cambiado2\n"
   ]
  },
  {
   "cell_type": "markdown",
   "id": "62e7eb35",
   "metadata": {},
   "source": [
    "# Guardar y salvar *arrays* en `.txt` "
   ]
  },
  {
   "cell_type": "markdown",
   "id": "a41203a9",
   "metadata": {},
   "source": [
    "En este apartado vamos a ver como guardar un *array* y poder cargarlo después. "
   ]
  },
  {
   "cell_type": "markdown",
   "id": "059f6739",
   "metadata": {},
   "source": [
    "## Guardar\n",
    "\n",
    "Usaremos el comando `np.savetxt()`\n",
    "\n",
    "🚨⚠️ Solo vale para *arrays* de una o dos dimensiones\n",
    "\n",
    "Este método puede recibir muchos parámetros, para más detalle os dejamos [aqui](https://numpy.org/doc/stable/reference/generated/numpy.savetxt.html) "
   ]
  },
  {
   "cell_type": "code",
   "execution_count": 40,
   "id": "ac56eb15",
   "metadata": {},
   "outputs": [],
   "source": [
    "np.savetxt('datos/array_cambiado.txt', cambiado1)"
   ]
  },
  {
   "cell_type": "markdown",
   "id": "86e9bea5",
   "metadata": {},
   "source": [
    "## Cargar\n",
    "\n",
    "Carga datos de un archivo de texto.\n",
    "\n",
    "🚨⚠️ Cada fila del archivo de texto debe tener el mismo número de valores.\n",
    "\n",
    "Mas info [aquí](https://numpy.org/doc/stable/reference/generated/numpy.loadtxt.html)"
   ]
  },
  {
   "cell_type": "code",
   "execution_count": 41,
   "id": "71fcd37b",
   "metadata": {},
   "outputs": [
    {
     "data": {
      "text/plain": [
       "array([0.37069137, 0.0923368 , 0.44109549, 0.26398265, 0.13384449])"
      ]
     },
     "execution_count": 41,
     "metadata": {},
     "output_type": "execute_result"
    }
   ],
   "source": [
    "a2 = np.loadtxt('datos/array_cambiado.txt', dtype=float)\n",
    "a2"
   ]
  },
  {
   "cell_type": "markdown",
   "id": "548f628b",
   "metadata": {},
   "source": [
    "**EJERCICIO 2** Trabajemos con números aleatorios: \n",
    "\n",
    "- Crea datos aleatorios para las tres distribuciones explicadas en este jupyter. Todas deben tener ser bidimensionales.\n",
    "\n",
    "\n",
    "- Guarda cada una de las distribuciones en un archivo `.txt`"
   ]
  },
  {
   "cell_type": "code",
   "execution_count": 63,
   "id": "4aae9088",
   "metadata": {},
   "outputs": [],
   "source": [
    "bidimensional = np.random.binomial(4, 0.9, size = (4,3))\n",
    "bidimensional_save = np.savetxt(\"./bidimensional.txt\", bidimensional)\n",
    "\n",
    "normal = np.random.normal(loc = 2.5, scale = 0.25, size = (4,5))\n",
    "normal_save = np.savetxt(\"./normal.txt\", normal)\n",
    "\n",
    "uniforme = np.random.uniform(size= (3,4), low = 1, high= 10)\n",
    "uniforme_save = np.savetxt(\"./uniforme.txt\", uniforme)\n",
    "\n"
   ]
  }
 ],
 "metadata": {
  "interpreter": {
   "hash": "01140a9d2395b7fd08e2b5f636695eabdb1e49ebcdc5fc3aed86efec2b14b433"
  },
  "kernelspec": {
   "display_name": "adalab",
   "language": "python",
   "name": "python3"
  },
  "language_info": {
   "codemirror_mode": {
    "name": "ipython",
    "version": 3
   },
   "file_extension": ".py",
   "mimetype": "text/x-python",
   "name": "python",
   "nbconvert_exporter": "python",
   "pygments_lexer": "ipython3",
   "version": "3.9.7"
  },
  "toc": {
   "base_numbering": 1,
   "nav_menu": {},
   "number_sections": true,
   "sideBar": true,
   "skip_h1_title": false,
   "title_cell": "Table of Contents",
   "title_sidebar": "Contents",
   "toc_cell": true,
   "toc_position": {},
   "toc_section_display": true,
   "toc_window_display": false
  },
  "varInspector": {
   "cols": {
    "lenName": 16,
    "lenType": 16,
    "lenVar": 40
   },
   "kernels_config": {
    "python": {
     "delete_cmd_postfix": "",
     "delete_cmd_prefix": "del ",
     "library": "var_list.py",
     "varRefreshCmd": "print(var_dic_list())"
    },
    "r": {
     "delete_cmd_postfix": ") ",
     "delete_cmd_prefix": "rm(",
     "library": "var_list.r",
     "varRefreshCmd": "cat(var_dic_list()) "
    }
   },
   "types_to_exclude": [
    "module",
    "function",
    "builtin_function_or_method",
    "instance",
    "_Feature"
   ],
   "window_display": true
  }
 },
 "nbformat": 4,
 "nbformat_minor": 5
}
